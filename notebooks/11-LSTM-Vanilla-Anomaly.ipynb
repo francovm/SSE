{
 "cells": [
  {
   "cell_type": "code",
   "execution_count": 81,
   "metadata": {},
   "outputs": [],
   "source": [
    "import matplotlib.pyplot as plt\n",
    "import numpy as np\n",
    "import pandas as pd\n",
    "from pylab import rcParams\n",
    "from keras.callbacks import EarlyStopping\n",
    "\n",
    "import seaborn as sns\n",
    "\n",
    "from sklearn.model_selection import train_test_split\n",
    "from sklearn.preprocessing import StandardScaler\n",
    "from sklearn.metrics import confusion_matrix, precision_recall_curve\n",
    "from sklearn.metrics import recall_score, classification_report, auc, roc_curve\n",
    "\n",
    "\n",
    "from keras.models import Sequential\n",
    "import tensorflow as tf\n",
    "from keras import optimizers\n",
    "from keras.layers import Dense\n",
    "from keras.layers import Flatten\n",
    "from keras.layers import Dropout\n",
    "from keras.layers import LSTM\n",
    "from keras.utils import to_categorical\n",
    "from keras.layers import Dense, LSTM, RepeatVector, TimeDistributed\n",
    "from keras.callbacks import ModelCheckpoint, TensorBoard,CSVLogger\n",
    "from keras.models import load_model\n",
    "\n",
    "from numpy.random import seed\n",
    "seed(7)\n",
    "from tensorflow import set_random_seed\n",
    "set_random_seed(11)\n",
    "\n",
    "\n"
   ]
  },
  {
   "cell_type": "code",
   "execution_count": 82,
   "metadata": {},
   "outputs": [],
   "source": [
    "SEED = 123 #used to help randomly select the data points\n",
    "DATA_SPLIT_PCT = 0.2\n",
    "\n",
    "rcParams['figure.figsize'] = 8, 6\n",
    "LABELS = [\"Normal\",\"Break\"]"
   ]
  },
  {
   "cell_type": "code",
   "execution_count": 83,
   "metadata": {},
   "outputs": [],
   "source": [
    "# load  dataset\n",
    "df = pd.read_csv('/home/francovm/Projects/SSE/data/processed/input_data.csv', sep='\\t', encoding='utf-8', index_col=0)\n"
   ]
  },
  {
   "cell_type": "code",
   "execution_count": 84,
   "metadata": {},
   "outputs": [
    {
     "name": "stdout",
     "output_type": "stream",
     "text": [
      "(229716, 2) (229716,)\n"
     ]
    }
   ],
   "source": [
    "input_X = df.loc[:, df.columns != 'Events'].values  # converts the df to a numpy array\n",
    "input_y = df['Events'].values\n",
    "\n",
    "n_features = input_X.shape[1]  # number of features\n",
    "\n",
    "print(input_X.shape,input_y.shape)"
   ]
  },
  {
   "cell_type": "markdown",
   "metadata": {},
   "source": [
    "# Temporalize data"
   ]
  },
  {
   "cell_type": "code",
   "execution_count": 85,
   "metadata": {},
   "outputs": [],
   "source": [
    "def temporalize(X, y, lookback):\n",
    "    X = []\n",
    "    y = []\n",
    "    for i in range(len(input_X)-lookback-1):\n",
    "        t = []\n",
    "        for j in range(1,lookback+1):\n",
    "            # Gather past records upto the lookback period\n",
    "            t.append(input_X[[(i+j+1)], :])\n",
    "        X.append(t)\n",
    "        y.append(input_y[i+lookback+1])\n",
    "    return X, y\n"
   ]
  },
  {
   "cell_type": "code",
   "execution_count": 86,
   "metadata": {},
   "outputs": [],
   "source": [
    "# Temporalize the data\n",
    "\n",
    "lookback = 20\n",
    "X, y = temporalize(X = input_X, y = input_y, lookback = lookback)\n",
    "\n"
   ]
  },
  {
   "cell_type": "markdown",
   "metadata": {},
   "source": [
    "# Split into Test, valid and train"
   ]
  },
  {
   "cell_type": "code",
   "execution_count": 87,
   "metadata": {},
   "outputs": [],
   "source": [
    "#Split into Test, valid and train\n",
    "\n",
    "X_train, X_test, y_train, y_test = train_test_split(np.array(X), np.array(y), test_size=DATA_SPLIT_PCT, random_state=SEED)\n",
    "\n",
    "X_train, X_valid, y_train, y_valid = train_test_split(X_train, y_train, test_size=DATA_SPLIT_PCT, random_state=SEED)"
   ]
  },
  {
   "cell_type": "markdown",
   "metadata": {},
   "source": [
    "## Separate negatives and positives values"
   ]
  },
  {
   "cell_type": "code",
   "execution_count": 88,
   "metadata": {},
   "outputs": [],
   "source": [
    "X_train_y0 = X_train[y_train==0.]\n",
    "X_train_y1 = X_train[y_train==1.]\n",
    "\n",
    "X_valid_y0 = X_valid[y_valid==0.]\n",
    "X_valid_y1 = X_valid[y_valid==1.]"
   ]
  },
  {
   "cell_type": "code",
   "execution_count": 89,
   "metadata": {},
   "outputs": [],
   "source": [
    "# Reshape the arrays\n",
    "\n",
    "X_train = X_train.reshape(X_train.shape[0], lookback, n_features)\n",
    "X_train_y0 = X_train_y0.reshape(X_train_y0.shape[0], lookback, n_features)\n",
    "X_train_y1 = X_train_y1.reshape(X_train_y1.shape[0], lookback, n_features)\n",
    "\n",
    "X_valid = X_valid.reshape(X_valid.shape[0], lookback, n_features)\n",
    "X_valid_y0 = X_valid_y0.reshape(X_valid_y0.shape[0], lookback, n_features)\n",
    "X_valid_y1 = X_valid_y1.reshape(X_valid_y1.shape[0], lookback, n_features)\n",
    "\n",
    "X_test = X_test.reshape(X_test.shape[0], lookback, n_features)"
   ]
  },
  {
   "cell_type": "code",
   "execution_count": 90,
   "metadata": {},
   "outputs": [
    {
     "data": {
      "text/plain": [
       "(147004,)"
      ]
     },
     "execution_count": 90,
     "metadata": {},
     "output_type": "execute_result"
    }
   ],
   "source": [
    "y_train.shape"
   ]
  },
  {
   "cell_type": "code",
   "execution_count": 91,
   "metadata": {},
   "outputs": [],
   "source": [
    "## To Categorical Data\n",
    "\n",
    "# y_train = to_categorical(y_train)\n",
    "# y_test = to_categorical(y_test)\n",
    "# y_valid = to_categorical(y_valid)\n",
    "\n",
    "# print(y_valid.shape, y_test.shape, y_train.shape)"
   ]
  },
  {
   "cell_type": "code",
   "execution_count": 92,
   "metadata": {},
   "outputs": [
    {
     "name": "stdout",
     "output_type": "stream",
     "text": [
      "20 2 1\n"
     ]
    }
   ],
   "source": [
    "n_timesteps, n_features, n_outputs = X_train.shape[1], X_train.shape[2], 1\n",
    "print(n_timesteps,n_features,n_outputs)"
   ]
  },
  {
   "cell_type": "markdown",
   "metadata": {},
   "source": [
    "# Stardarization"
   ]
  },
  {
   "cell_type": "code",
   "execution_count": 93,
   "metadata": {},
   "outputs": [],
   "source": [
    "def flatten(X):\n",
    "    '''\n",
    "    Flatten a 3D array.\n",
    "    \n",
    "    Input\n",
    "    X            A 3D array for lstm, where the array is sample x timesteps x features.\n",
    "    \n",
    "    Output\n",
    "    flattened_X  A 2D array, sample x features.\n",
    "    '''\n",
    "    flattened_X = np.empty((X.shape[0], X.shape[2]))  # sample x features array.\n",
    "    for i in range(X.shape[0]):\n",
    "        flattened_X[i] = X[i, (X.shape[1]-1), :]\n",
    "    return(flattened_X)\n",
    "\n",
    "def scale(X, scaler):\n",
    "    '''\n",
    "    Scale 3D array.\n",
    "\n",
    "    Inputs\n",
    "    X            A 3D array for lstm, where the array is sample x timesteps x features.\n",
    "    scaler       A scaler object, e.g., sklearn.preprocessing.StandardScaler, sklearn.preprocessing.normalize\n",
    "    \n",
    "    Output\n",
    "    X            Scaled 3D array.\n",
    "    '''\n",
    "    for i in range(X.shape[0]):\n",
    "        X[i, :, :] = scaler.transform(X[i, :, :])\n",
    "        \n",
    "    return X"
   ]
  },
  {
   "cell_type": "code",
   "execution_count": 94,
   "metadata": {},
   "outputs": [],
   "source": [
    "# Initialize a scaler using the training data.\n",
    "# scaler = StandardScaler().fit(flatten(X_train))"
   ]
  },
  {
   "cell_type": "code",
   "execution_count": 95,
   "metadata": {},
   "outputs": [],
   "source": [
    "# Standarize the input\n",
    "\n",
    "# X_train_y0_scaled = scale(X_train_y0, scaler)\n",
    "# X_valid_y0_scaled = scale(X_valid_y0, scaler)\n",
    "# X_test_scaled = scale(X_test, scaler)"
   ]
  },
  {
   "cell_type": "markdown",
   "metadata": {},
   "source": [
    "### Test Standarization"
   ]
  },
  {
   "cell_type": "code",
   "execution_count": 96,
   "metadata": {},
   "outputs": [],
   "source": [
    "# a = flatten(X_train_y0_scaled)\n",
    "# print('colwise mean', np.mean(a,axis=0).round(2))\n",
    "# print('colwise variance', np.var(a, axis=0))\n",
    "\n"
   ]
  },
  {
   "cell_type": "markdown",
   "metadata": {},
   "source": [
    "# Model training\n",
    "\n",
    "Training models (Use it)\n"
   ]
  },
  {
   "cell_type": "code",
   "execution_count": 98,
   "metadata": {},
   "outputs": [
    {
     "name": "stdout",
     "output_type": "stream",
     "text": [
      "Train on 140681 samples, validate on 35142 samples\n",
      "Epoch 1/100\n",
      "140681/140681 [==============================] - 220s 2ms/step - loss: 7450.6508 - accuracy: 0.9662 - val_loss: 162.9667 - val_accuracy: 0.9795\n",
      "Epoch 2/100\n",
      "140681/140681 [==============================] - 218s 2ms/step - loss: 193.5086 - accuracy: 0.9787 - val_loss: 108.0904 - val_accuracy: 0.9798\n",
      "Epoch 3/100\n",
      "140681/140681 [==============================] - 219s 2ms/step - loss: 115.0467 - accuracy: 0.9821 - val_loss: 85.6354 - val_accuracy: 0.9868\n",
      "Epoch 4/100\n",
      "140681/140681 [==============================] - 220s 2ms/step - loss: 330.4745 - accuracy: 0.9846 - val_loss: 92.4827 - val_accuracy: 0.9863\n",
      "Epoch 5/100\n",
      "140681/140681 [==============================] - 221s 2ms/step - loss: 92.6710 - accuracy: 0.9882 - val_loss: 83.7504 - val_accuracy: 0.9892\n",
      "Epoch 6/100\n",
      "140681/140681 [==============================] - 220s 2ms/step - loss: 184.7196 - accuracy: 0.9873 - val_loss: 100.4338 - val_accuracy: 0.9898\n",
      "Epoch 7/100\n",
      "140681/140681 [==============================] - 216s 2ms/step - loss: 105.8761 - accuracy: 0.9899 - val_loss: 104.7521 - val_accuracy: 0.9905\n",
      "Epoch 8/100\n",
      "140681/140681 [==============================] - 236s 2ms/step - loss: 526.2593 - accuracy: 0.9778 - val_loss: 128.9897 - val_accuracy: 0.9820\n",
      "Epoch 9/100\n",
      "140681/140681 [==============================] - 241s 2ms/step - loss: 119.4819 - accuracy: 0.9826 - val_loss: 105.7870 - val_accuracy: 0.9838\n",
      "Epoch 10/100\n",
      "140681/140681 [==============================] - 242s 2ms/step - loss: 111.7135 - accuracy: 0.9840 - val_loss: 106.2861 - val_accuracy: 0.9849\n",
      "Epoch 11/100\n",
      "140681/140681 [==============================] - 239s 2ms/step - loss: 683.7253 - accuracy: 0.9813 - val_loss: 105.2541 - val_accuracy: 0.9828\n",
      "Epoch 12/100\n",
      "140681/140681 [==============================] - 242s 2ms/step - loss: 130.2593 - accuracy: 0.9832 - val_loss: 119.1289 - val_accuracy: 0.9829\n",
      "Epoch 13/100\n",
      "140681/140681 [==============================] - 242s 2ms/step - loss: 115.6593 - accuracy: 0.9838 - val_loss: 116.4468 - val_accuracy: 0.9839\n",
      "Epoch 14/100\n",
      "140681/140681 [==============================] - 243s 2ms/step - loss: 5891.8481 - accuracy: 0.9787 - val_loss: 133.9413 - val_accuracy: 0.9823\n",
      "Epoch 15/100\n",
      "140681/140681 [==============================] - 242s 2ms/step - loss: 127.1886 - accuracy: 0.9828 - val_loss: 121.0472 - val_accuracy: 0.9833\n",
      "Epoch 16/100\n",
      "140681/140681 [==============================] - 243s 2ms/step - loss: 118.3394 - accuracy: 0.9837 - val_loss: 107.6369 - val_accuracy: 0.9838\n",
      "Epoch 17/100\n",
      "140681/140681 [==============================] - 242s 2ms/step - loss: 164.5405 - accuracy: 0.9823 - val_loss: 112.0419 - val_accuracy: 0.9834\n",
      "Epoch 18/100\n",
      "140681/140681 [==============================] - 243s 2ms/step - loss: 117.4322 - accuracy: 0.9840 - val_loss: 105.6418 - val_accuracy: 0.9834\n",
      "Epoch 19/100\n",
      "140681/140681 [==============================] - 242s 2ms/step - loss: 260.0846 - accuracy: 0.9821 - val_loss: 107.5928 - val_accuracy: 0.9829\n",
      "Epoch 20/100\n",
      "140681/140681 [==============================] - 243s 2ms/step - loss: 118.4240 - accuracy: 0.9834 - val_loss: 110.7524 - val_accuracy: 0.9837\n",
      "Epoch 21/100\n",
      "140681/140681 [==============================] - 243s 2ms/step - loss: 116.2162 - accuracy: 0.9839 - val_loss: 105.3914 - val_accuracy: 0.9840\n",
      "Epoch 22/100\n",
      "140681/140681 [==============================] - 248s 2ms/step - loss: 5847.7528 - accuracy: 0.9789 - val_loss: 115.7801 - val_accuracy: 0.9826\n",
      "Epoch 23/100\n",
      "140681/140681 [==============================] - 247s 2ms/step - loss: 123.2931 - accuracy: 0.9829 - val_loss: 245.7977 - val_accuracy: 0.9828\n",
      "Epoch 24/100\n",
      "140681/140681 [==============================] - 246s 2ms/step - loss: 179.9994 - accuracy: 0.9821 - val_loss: 556.9398 - val_accuracy: 0.9819\n",
      "Epoch 25/100\n",
      "140681/140681 [==============================] - 246s 2ms/step - loss: 708.2625 - accuracy: 0.9801 - val_loss: 102.2368 - val_accuracy: 0.9830\n",
      "Epoch 26/100\n",
      "140681/140681 [==============================] - 247s 2ms/step - loss: 133.0930 - accuracy: 0.9831 - val_loss: 113.7447 - val_accuracy: 0.9836\n",
      "Epoch 27/100\n",
      "140681/140681 [==============================] - 251s 2ms/step - loss: 391.0269 - accuracy: 0.9818 - val_loss: 112.7944 - val_accuracy: 0.9831\n",
      "Epoch 28/100\n",
      "140681/140681 [==============================] - 240s 2ms/step - loss: 120.7988 - accuracy: 0.9831 - val_loss: 105.4432 - val_accuracy: 0.9835\n",
      "Epoch 29/100\n",
      "140681/140681 [==============================] - 219s 2ms/step - loss: 30568.5911 - accuracy: 0.9619 - val_loss: 354.1842 - val_accuracy: 0.9767\n",
      "Epoch 30/100\n",
      "140681/140681 [==============================] - 219s 2ms/step - loss: 259.7756 - accuracy: 0.9791 - val_loss: 114.6811 - val_accuracy: 0.9827\n",
      "Epoch 31/100\n",
      "140681/140681 [==============================] - 219s 2ms/step - loss: 126.9637 - accuracy: 0.9825 - val_loss: 134.7271 - val_accuracy: 0.9826\n",
      "Epoch 32/100\n",
      "140681/140681 [==============================] - 221s 2ms/step - loss: 119.4916 - accuracy: 0.9829 - val_loss: 112.6010 - val_accuracy: 0.9832\n",
      "Epoch 33/100\n",
      "140681/140681 [==============================] - 222s 2ms/step - loss: 118.2223 - accuracy: 0.9834 - val_loss: 124.7904 - val_accuracy: 0.9829\n",
      "Epoch 34/100\n",
      "140681/140681 [==============================] - 223s 2ms/step - loss: 340.8344 - accuracy: 0.9808 - val_loss: 128.5110 - val_accuracy: 0.9820\n",
      "Epoch 35/100\n",
      "140681/140681 [==============================] - 222s 2ms/step - loss: 126.4964 - accuracy: 0.9817 - val_loss: 111.0986 - val_accuracy: 0.9823\n",
      "Epoch 36/100\n",
      "140681/140681 [==============================] - 222s 2ms/step - loss: 111.5757 - accuracy: 0.9827 - val_loss: 104.9933 - val_accuracy: 0.9831\n",
      "Epoch 37/100\n",
      "140681/140681 [==============================] - 220s 2ms/step - loss: 108.0248 - accuracy: 0.9833 - val_loss: 112.2912 - val_accuracy: 0.9827\n",
      "Epoch 38/100\n",
      "140681/140681 [==============================] - 218s 2ms/step - loss: 84577.6566 - accuracy: 0.9806 - val_loss: 108.7256 - val_accuracy: 0.9820\n",
      "Epoch 39/100\n",
      "140681/140681 [==============================] - 218s 2ms/step - loss: 129.4247 - accuracy: 0.9818 - val_loss: 107.0382 - val_accuracy: 0.9822\n",
      "Epoch 40/100\n",
      "140681/140681 [==============================] - 218s 2ms/step - loss: 231.6195 - accuracy: 0.9826 - val_loss: 109.2083 - val_accuracy: 0.9828\n",
      "Epoch 41/100\n",
      "140681/140681 [==============================] - 217s 2ms/step - loss: 114.4492 - accuracy: 0.9831 - val_loss: 103.3686 - val_accuracy: 0.9831\n",
      "Epoch 42/100\n",
      "140681/140681 [==============================] - 219s 2ms/step - loss: 60336.2768 - accuracy: 0.9816 - val_loss: 109.5921 - val_accuracy: 0.9818\n",
      "Epoch 43/100\n",
      "140681/140681 [==============================] - 220s 2ms/step - loss: 110.8661 - accuracy: 0.9819 - val_loss: 102.7653 - val_accuracy: 0.9823\n",
      "Epoch 44/100\n",
      "140681/140681 [==============================] - 220s 2ms/step - loss: 307.7450 - accuracy: 0.9820 - val_loss: 817.9386 - val_accuracy: 0.9681\n",
      "Epoch 45/100\n",
      "140681/140681 [==============================] - 220s 2ms/step - loss: 137.2264 - accuracy: 0.9822 - val_loss: 107.9345 - val_accuracy: 0.9827\n",
      "Epoch 46/100\n",
      "140681/140681 [==============================] - 216s 2ms/step - loss: 136.9726 - accuracy: 0.9829 - val_loss: 276.0160 - val_accuracy: 0.9831\n",
      "Epoch 47/100\n",
      "140681/140681 [==============================] - 217s 2ms/step - loss: 114.3466 - accuracy: 0.9832 - val_loss: 100.1105 - val_accuracy: 0.9831\n",
      "Epoch 48/100\n",
      "140681/140681 [==============================] - 217s 2ms/step - loss: 103.2385 - accuracy: 0.9835 - val_loss: 101.6369 - val_accuracy: 0.9834\n",
      "Epoch 49/100\n",
      "140681/140681 [==============================] - 217s 2ms/step - loss: 133.8923 - accuracy: 0.9837 - val_loss: 98.5162 - val_accuracy: 0.9836\n",
      "Epoch 50/100\n",
      "140681/140681 [==============================] - 221s 2ms/step - loss: 103.1128 - accuracy: 0.9838 - val_loss: 97.1859 - val_accuracy: 0.9839\n",
      "Epoch 51/100\n",
      "140681/140681 [==============================] - 221s 2ms/step - loss: 103.7108 - accuracy: 0.9838 - val_loss: 99.2244 - val_accuracy: 0.9839\n",
      "Epoch 52/100\n",
      "140681/140681 [==============================] - 221s 2ms/step - loss: 3332.5064 - accuracy: 0.9835 - val_loss: 97.6811 - val_accuracy: 0.9834\n",
      "Epoch 53/100\n",
      "140681/140681 [==============================] - 219s 2ms/step - loss: 100.5610 - accuracy: 0.9838 - val_loss: 99.7133 - val_accuracy: 0.9836\n",
      "Epoch 54/100\n",
      "140681/140681 [==============================] - 220s 2ms/step - loss: 99.4005 - accuracy: 0.9841 - val_loss: 92.3085 - val_accuracy: 0.9838\n",
      "Epoch 55/100\n",
      "140681/140681 [==============================] - 218s 2ms/step - loss: 171.7386 - accuracy: 0.9837 - val_loss: 98.4497 - val_accuracy: 0.9838\n",
      "Epoch 56/100\n",
      "140681/140681 [==============================] - 222s 2ms/step - loss: 146.2825 - accuracy: 0.9840 - val_loss: 94.1275 - val_accuracy: 0.9839\n",
      "Epoch 57/100\n",
      "140681/140681 [==============================] - 217s 2ms/step - loss: 102.8610 - accuracy: 0.9840 - val_loss: 98.9207 - val_accuracy: 0.9838\n",
      "Epoch 58/100\n",
      "140681/140681 [==============================] - 218s 2ms/step - loss: 7933.4286 - accuracy: 0.9834 - val_loss: 140.0970 - val_accuracy: 0.9833\n",
      "Epoch 59/100\n",
      "140681/140681 [==============================] - 218s 2ms/step - loss: 106.2095 - accuracy: 0.9840 - val_loss: 112.5082 - val_accuracy: 0.9841\n",
      "Epoch 60/100\n",
      "140681/140681 [==============================] - 218s 2ms/step - loss: 135.3880 - accuracy: 0.9838 - val_loss: 95.1443 - val_accuracy: 0.9837\n",
      "Epoch 61/100\n",
      "140681/140681 [==============================] - 218s 2ms/step - loss: 100.3118 - accuracy: 0.9839 - val_loss: 92.5143 - val_accuracy: 0.9839\n",
      "Epoch 62/100\n",
      "140681/140681 [==============================] - 218s 2ms/step - loss: 96.1434 - accuracy: 0.9841 - val_loss: 98.0210 - val_accuracy: 0.9836\n",
      "Epoch 63/100\n",
      "140681/140681 [==============================] - 219s 2ms/step - loss: 94.5807 - accuracy: 0.9843 - val_loss: 88.8932 - val_accuracy: 0.9845\n",
      "Epoch 64/100\n",
      "140681/140681 [==============================] - 223s 2ms/step - loss: 96.5102 - accuracy: 0.9843 - val_loss: 89.6731 - val_accuracy: 0.9843\n",
      "Epoch 65/100\n",
      "140681/140681 [==============================] - 219s 2ms/step - loss: 93.2883 - accuracy: 0.9844 - val_loss: 85.3909 - val_accuracy: 0.9846\n",
      "Epoch 66/100\n",
      "140681/140681 [==============================] - 220s 2ms/step - loss: 96.4270 - accuracy: 0.9845 - val_loss: 90.6563 - val_accuracy: 0.9842\n",
      "Epoch 67/100\n",
      "140681/140681 [==============================] - 222s 2ms/step - loss: 96.1810 - accuracy: 0.9845 - val_loss: 89.2599 - val_accuracy: 0.9844\n",
      "Epoch 68/100\n",
      "140681/140681 [==============================] - 226s 2ms/step - loss: 121.0519 - accuracy: 0.9837 - val_loss: 100.9127 - val_accuracy: 0.9831\n",
      "Epoch 69/100\n",
      "140681/140681 [==============================] - 218s 2ms/step - loss: 100.3619 - accuracy: 0.9835 - val_loss: 110.4006 - val_accuracy: 0.9839\n",
      "Epoch 70/100\n",
      "140681/140681 [==============================] - 218s 2ms/step - loss: 147.5983 - accuracy: 0.9836 - val_loss: 95.9690 - val_accuracy: 0.9839\n",
      "Epoch 71/100\n",
      "140681/140681 [==============================] - 215s 2ms/step - loss: 175.0833 - accuracy: 0.9833 - val_loss: 93.5022 - val_accuracy: 0.9825\n",
      "Epoch 72/100\n",
      "140681/140681 [==============================] - 213s 2ms/step - loss: 2395.0667 - accuracy: 0.9831 - val_loss: 99.1217 - val_accuracy: 0.9822\n",
      "Epoch 73/100\n",
      "140681/140681 [==============================] - 214s 2ms/step - loss: 101.8154 - accuracy: 0.9831 - val_loss: 95.9491 - val_accuracy: 0.9832\n",
      "Epoch 74/100\n",
      "140681/140681 [==============================] - 214s 2ms/step - loss: 100.6449 - accuracy: 0.9835 - val_loss: 95.4645 - val_accuracy: 0.9838\n",
      "Epoch 75/100\n",
      "140681/140681 [==============================] - 214s 2ms/step - loss: 99.0321 - accuracy: 0.9839 - val_loss: 94.7070 - val_accuracy: 0.9840\n",
      "Epoch 76/100\n",
      "140681/140681 [==============================] - 213s 2ms/step - loss: 99.1680 - accuracy: 0.9840 - val_loss: 92.5496 - val_accuracy: 0.9842\n",
      "Epoch 77/100\n",
      "140681/140681 [==============================] - 214s 2ms/step - loss: 99.2380 - accuracy: 0.9842 - val_loss: 94.9305 - val_accuracy: 0.9841\n",
      "Epoch 78/100\n",
      "140681/140681 [==============================] - 214s 2ms/step - loss: 350.5961 - accuracy: 0.9839 - val_loss: 94.4981 - val_accuracy: 0.9839\n",
      "Epoch 79/100\n",
      "140681/140681 [==============================] - 219s 2ms/step - loss: 98.8990 - accuracy: 0.9840 - val_loss: 103.1079 - val_accuracy: 0.9841\n",
      "Epoch 80/100\n",
      "140681/140681 [==============================] - 248s 2ms/step - loss: 94.2858 - accuracy: 0.9842 - val_loss: 84.7178 - val_accuracy: 0.9845\n",
      "Epoch 81/100\n",
      "140681/140681 [==============================] - 241s 2ms/step - loss: 107.6219 - accuracy: 0.9840 - val_loss: 95.9139 - val_accuracy: 0.9837\n",
      "Epoch 82/100\n",
      "140681/140681 [==============================] - 221s 2ms/step - loss: 94.4381 - accuracy: 0.9840 - val_loss: 84.0621 - val_accuracy: 0.9842\n",
      "Epoch 83/100\n",
      "140681/140681 [==============================] - 218s 2ms/step - loss: 90.3202 - accuracy: 0.9840 - val_loss: 96.5635 - val_accuracy: 0.9841\n",
      "Epoch 84/100\n",
      "140681/140681 [==============================] - 222s 2ms/step - loss: 1526.2796 - accuracy: 0.9842 - val_loss: 158.4563 - val_accuracy: 0.9828\n",
      "Epoch 85/100\n",
      "140681/140681 [==============================] - 222s 2ms/step - loss: 117.8200 - accuracy: 0.9837 - val_loss: 84.6420 - val_accuracy: 0.9842\n",
      "Epoch 86/100\n",
      "140681/140681 [==============================] - 223s 2ms/step - loss: 3387.0870 - accuracy: 0.9835 - val_loss: 95.0615 - val_accuracy: 0.9827\n",
      "Epoch 87/100\n",
      "140681/140681 [==============================] - 220s 2ms/step - loss: 94.6368 - accuracy: 0.9837 - val_loss: 87.3949 - val_accuracy: 0.9842\n",
      "Epoch 88/100\n",
      "140681/140681 [==============================] - 219s 2ms/step - loss: 90.7694 - accuracy: 0.9842 - val_loss: 85.1667 - val_accuracy: 0.9842\n",
      "Epoch 89/100\n",
      "140681/140681 [==============================] - 220s 2ms/step - loss: 91.0072 - accuracy: 0.9843 - val_loss: 84.8886 - val_accuracy: 0.9838\n",
      "Epoch 90/100\n",
      "140681/140681 [==============================] - 218s 2ms/step - loss: 90.1517 - accuracy: 0.9844 - val_loss: 84.5266 - val_accuracy: 0.9846\n",
      "Epoch 91/100\n",
      "140681/140681 [==============================] - 219s 2ms/step - loss: 90.6204 - accuracy: 0.9843 - val_loss: 86.2376 - val_accuracy: 0.9844\n",
      "Epoch 92/100\n",
      "140681/140681 [==============================] - 219s 2ms/step - loss: 91.1243 - accuracy: 0.9844 - val_loss: 87.3044 - val_accuracy: 0.9844\n",
      "Epoch 93/100\n",
      "140681/140681 [==============================] - 218s 2ms/step - loss: 92.2025 - accuracy: 0.9844 - val_loss: 85.7904 - val_accuracy: 0.9839\n",
      "Epoch 94/100\n",
      "140681/140681 [==============================] - 216s 2ms/step - loss: 96.3076 - accuracy: 0.9833 - val_loss: 88.8752 - val_accuracy: 0.9836\n",
      "Epoch 95/100\n",
      "140681/140681 [==============================] - 218s 2ms/step - loss: 9697.4530 - accuracy: 0.9832 - val_loss: 87.9675 - val_accuracy: 0.9835\n",
      "Epoch 96/100\n",
      "140681/140681 [==============================] - 213s 2ms/step - loss: 92.0105 - accuracy: 0.9837 - val_loss: 86.2469 - val_accuracy: 0.9842\n",
      "Epoch 97/100\n",
      "140681/140681 [==============================] - 213s 2ms/step - loss: 95.9666 - accuracy: 0.9841 - val_loss: 84.9030 - val_accuracy: 0.9843\n",
      "Epoch 98/100\n",
      "140681/140681 [==============================] - 214s 2ms/step - loss: 90.3690 - accuracy: 0.9844 - val_loss: 85.7532 - val_accuracy: 0.9845\n",
      "Epoch 99/100\n",
      "140681/140681 [==============================] - 214s 2ms/step - loss: 89.9478 - accuracy: 0.9843 - val_loss: 143.7158 - val_accuracy: 0.9843\n",
      "Epoch 100/100\n",
      "140681/140681 [==============================] - 213s 2ms/step - loss: 4127546.9100 - accuracy: 0.9840 - val_loss: 84.9685 - val_accuracy: 0.9842\n"
     ]
    }
   ],
   "source": [
    "# Parameters\n",
    "\n",
    "verbose, epochs, batch_size = 1, 100, 64\n",
    "\n",
    "model = Sequential()\n",
    "model.add(LSTM(128, activation='relu', input_shape=(n_timesteps,n_features), return_sequences=True))\n",
    "model.add(LSTM(64, activation='relu', return_sequences=True))\n",
    "model.add(LSTM(64, activation='relu', return_sequences=True))\n",
    "model.add(LSTM(128, activation='relu', return_sequences=True))\n",
    "model.add(TimeDistributed(Dense(n_features)))\n",
<<<<<<< HEAD
    "model.compile(optimizer='adam', loss='mse', metrics=['accuracy'])\n",
=======
    "model.compile(loss='mse',optimizer='adam', metrics=['accuracy'])\n",
>>>>>>> master
    "\n",
    "# model = Sequential()\n",
    "# model.add(LSTM(50, input_shape=(n_timesteps,n_features)))\n",
    "# model.add(Dropout(0.5))\n",
    "# model.add(Dense(50, activation='relu'))\n",
    "# #     model.add(Dense(n_outputs, activation='softmax'))\n",
    "# model.add(Dense(n_features, activation='softmax'))\n",
    "# model.compile(loss='categorical_crossentropy', optimizer='adam', metrics=['accuracy'])\n",
    "\n",
    "cp = ModelCheckpoint(filepath=\"/home/francovm/Projects/SSE/models/Binary_clasifier/Vanilla-anomaly_LSTM_SSE_20window.h5\",\n",
    "                               save_best_only=True,\n",
    "                               verbose=0)\n",
    "\n",
    "tb = TensorBoard(log_dir='/home/francovm/Projects/SSE/models/Binary_clasifier/Tensorboard/Vanilla-anomaly_LSTM_SSE_20window',\n",
    "                 histogram_freq=0,\n",
    "                 write_graph=True,write_images=True)\n",
    "\n",
    "csv_logger = CSVLogger('/home/francovm/Projects/SSE/data/Visualization/Data/Vanilla-anomaly_LSTM_SSE_20window.csv', append=True, separator=';')\n",
    "\n",
    "#set early stopping monitor so the model stops training when it won't improve anymore\n",
    "early_stopping_monitor = EarlyStopping(patience=5)\n",
    "\n",
    "# fit network\n",
    "history = model.fit(X_train_y0, X_train_y0, epochs=epochs, batch_size=batch_size,validation_data=(X_valid_y0, X_valid_y0), \n",
    "                    verbose=verbose,callbacks=[csv_logger,cp,tb])\n",
    "\n",
    "\n",
    "# evaluate model\n",
    "# accuracy = model.evaluate(X_test, y_test, batch_size=batch_size, verbose=verbose)"
   ]
  },
  {
   "cell_type": "code",
   "execution_count": 100,
   "metadata": {},
   "outputs": [
    {
     "name": "stdout",
     "output_type": "stream",
     "text": [
      "dict_keys(['val_loss', 'val_accuracy', 'loss', 'accuracy'])\n"
     ]
    },
    {
     "data": {
      "image/png": "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\n",
      "text/plain": [
       "<Figure size 1296x288 with 1 Axes>"
      ]
     },
     "metadata": {
      "needs_background": "light"
     },
     "output_type": "display_data"
    },
    {
     "data": {
      "image/png": "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\n",
      "text/plain": [
       "<Figure size 1296x288 with 1 Axes>"
      ]
     },
     "metadata": {
      "needs_background": "light"
     },
     "output_type": "display_data"
    }
   ],
   "source": [
    "# list all data in history\n",
    "print(history.history.keys())\n",
    "\n",
    "# summarize history for accuracy\n",
    "plt.plot(history.history['accuracy'])\n",
    "plt.plot(history.history['val_accuracy'])\n",
    "plt.title('model accuracy')\n",
    "plt.ylabel('accuracy')\n",
    "plt.xlabel('epoch')\n",
    "plt.legend(['train', 'val'], loc='upper left')\n",
    "\n",
    "# Get current size\n",
    "fig_size = plt.rcParams[\"figure.figsize\"]\n",
    "#  Set figure width to 18 and height to 4\n",
    "fig_size[0] = 18\n",
    "fig_size[1] = 4\n",
    "plt.rcParams[\"figure.figsize\"] = fig_size\n",
    "\n",
    "plt.savefig('/home/francovm/Projects/SSE/data/Visualization/Vanilla-anomaly_LSTM_SSE_20window.png')\n",
    "plt.show()\n",
    "\n",
    "# summarize history for loss\n",
    "plt.plot(history.history['loss'])\n",
    "plt.plot(history.history['val_loss'])\n",
    "plt.title('model loss')\n",
    "plt.ylabel('loss')\n",
    "plt.xlabel('epoch')\n",
    "plt.legend(['train', 'val'], loc='upper left')\n",
    " # Get current size\n",
    "fig_size = plt.rcParams[\"figure.figsize\"]\n",
    "\n",
    "# Set figure width to 18 and height to 4\n",
    "fig_size[0] = 18\n",
    "fig_size[1] = 4\n",
    "plt.rcParams[\"figure.figsize\"] = fig_size\n",
    "\n",
    "plt.savefig('/home/francovm/Projects/SSE/data/Visualization/Vanilla-anomaly_LSTM_SSE_20window.png')\n",
    "plt.show()"
   ]
  },
  {
   "cell_type": "markdown",
   "metadata": {},
   "source": [
    "# Save Model"
   ]
  },
  {
   "cell_type": "code",
   "execution_count": null,
   "metadata": {},
   "outputs": [],
   "source": [
    "# save model and architecture to single file\n",
    "# model.save(\"/home/francovm/Projects/SSE/models/Binary_clasifier/Binary_clasifier_LSTM_SSE_40days-shifted.h5\")\n"
   ]
  },
  {
   "cell_type": "markdown",
   "metadata": {},
   "source": [
    "# Sanity check\n",
    "\n",
    "Doing a sanity check by validating the reconstruction error on the train data. Here we will reconstruct the entire train data with both 0 and 1 labels.\n",
    "\n",
    "**Expectation**: the reconstruction error of 0 labeled data should be smaller than 1.\n",
    "\n",
    "**Caution**: do not use this result for model evaluation. It may result into overfitting issues."
   ]
  },
  {
   "cell_type": "code",
   "execution_count": null,
   "metadata": {},
   "outputs": [],
   "source": [
    "train_x_predictions = model.predict(X_train)\n",
    "mse = np.mean(np.power(flatten(X_train) - flatten(train_x_predictions), 2), axis=1)\n",
    "\n",
    "error_df = pd.DataFrame({'Reconstruction_error': mse,\n",
    "                        'True_class': y_train.tolist()})\n",
    "\n",
    "groups = error_df.groupby('True_class')\n",
    "fig, ax = plt.subplots()\n",
    "\n",
    "for name, group in groups:\n",
    "    ax.plot( group.Reconstruction_error, marker='o', ms=3.5, linestyle='',\n",
    "            label= \"Break\" if name == 1 else \"Normal\")\n",
    "ax.legend()\n",
    "plt.title(\"Reconstruction error for different classes\")\n",
    "plt.ylabel(\"Reconstruction error\")\n",
    "plt.xlabel(\"Data point index\")\n",
    "plt.show();"
   ]
  },
  {
   "cell_type": "code",
   "execution_count": null,
   "metadata": {},
   "outputs": [],
   "source": [
    "print((X_train),(train_x_predictions))"
   ]
  },
  {
   "cell_type": "markdown",
   "metadata": {},
   "source": [
    "# Predictions using the Autoencoder"
   ]
  },
  {
   "cell_type": "code",
   "execution_count": null,
   "metadata": {},
   "outputs": [],
   "source": [
    "valid_x_predictions = model.predict(X_valid)\n",
    "mse = np.mean(np.power(flatten(X_valid) - flatten(valid_x_predictions), 2), axis=1)\n",
    "\n",
    "error_df = pd.DataFrame({'Reconstruction_error': mse,\n",
    "                        'True_class': y_valid.tolist()})\n",
    "\n",
    "precision_rt, recall_rt, threshold_rt = precision_recall_curve(error_df.True_class, error_df.Reconstruction_error)\n",
    "plt.plot(threshold_rt, precision_rt[1:], label=\"Precision\",linewidth=5)\n",
    "plt.plot(threshold_rt, recall_rt[1:], label=\"Recall\",linewidth=5)\n",
    "plt.title('Precision and recall for different threshold values')\n",
    "plt.xlabel('Threshold')\n",
    "plt.ylabel('Precision/Recall')\n",
    "plt.legend()\n",
    "plt.show()"
   ]
  },
  {
   "cell_type": "code",
   "execution_count": null,
   "metadata": {},
   "outputs": [],
   "source": [
    "test_x_predictions = model.predict(X_test)\n",
    "mse = np.mean(np.power(flatten(X_test) - flatten(test_x_predictions), 2), axis=1)\n",
    "\n",
    "error_df = pd.DataFrame({'Reconstruction_error': mse,\n",
    "                        'True_class': y_test.tolist()})\n",
    "\n",
    "threshold_fixed = 0.3 # Definir!\n",
    "groups = error_df.groupby('True_class')\n",
    "fig, ax = plt.subplots()\n",
    "\n",
    "for name, group in groups:\n",
    "    ax.plot(group.index, group.Reconstruction_error, marker='o', ms=3.5, linestyle='',\n",
    "            label= \"Break\" if name == 1 else \"Normal\")\n",
    "ax.hlines(threshold_fixed, ax.get_xlim()[0], ax.get_xlim()[1], colors=\"r\", zorder=100, label='Threshold')\n",
    "ax.legend()\n",
    "plt.title(\"Reconstruction error for different classes\")\n",
    "plt.ylabel(\"Reconstruction error\")\n",
    "plt.xlabel(\"Data point index\")\n",
    "plt.show();"
   ]
  },
  {
   "cell_type": "code",
   "execution_count": null,
   "metadata": {},
   "outputs": [],
   "source": [
    "pred_y = [1 if e > threshold_fixed else 0 for e in error_df.Reconstruction_error.values]"
   ]
  },
  {
   "cell_type": "code",
   "execution_count": null,
   "metadata": {},
   "outputs": [],
   "source": [
    "conf_matrix = confusion_matrix(error_df.True_class, pred_y)\n",
    "\n",
    "plt.figure(figsize=(6, 6))\n",
    "sns.heatmap(conf_matrix, xticklabels=LABELS, yticklabels=LABELS, annot=True, fmt=\"d\");\n",
    "plt.title(\"Confusion matrix\")\n",
    "plt.ylabel('True class')\n",
    "plt.xlabel('Predicted class')\n",
    "plt.show()"
   ]
  },
  {
   "cell_type": "code",
   "execution_count": null,
   "metadata": {},
   "outputs": [],
   "source": [
    "false_pos_rate, true_pos_rate, thresholds = roc_curve(error_df.True_class, error_df.Reconstruction_error)\n",
    "roc_auc = auc(false_pos_rate, true_pos_rate,)\n",
    "\n",
    "plt.plot(false_pos_rate, true_pos_rate, linewidth=5, label='AUC = %0.3f'% roc_auc)\n",
    "plt.plot([0,1],[0,1], linewidth=5)\n",
    "\n",
    "plt.xlim([-0.01, 1])\n",
    "plt.ylim([0, 1.01])\n",
    "plt.legend(loc='lower right')\n",
    "plt.title('Receiver operating characteristic curve (ROC)')\n",
    "plt.ylabel('True Positive Rate')\n",
    "plt.xlabel('False Positive Rate')\n",
    "plt.show()"
   ]
  }
 ],
 "metadata": {
  "kernelspec": {
   "display_name": "Python 3",
   "language": "python",
   "name": "python3"
  },
  "language_info": {
   "codemirror_mode": {
    "name": "ipython",
    "version": 3
   },
   "file_extension": ".py",
   "mimetype": "text/x-python",
   "name": "python",
   "nbconvert_exporter": "python",
   "pygments_lexer": "ipython3",
   "version": "3.7.3"
  }
 },
 "nbformat": 4,
 "nbformat_minor": 4
}
