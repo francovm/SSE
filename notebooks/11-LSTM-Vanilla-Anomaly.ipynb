{
 "cells": [
  {
   "cell_type": "code",
   "execution_count": 27,
   "metadata": {},
   "outputs": [],
   "source": [
    "import matplotlib.pyplot as plt\n",
    "import numpy as np\n",
    "import pandas as pd\n",
    "from pylab import rcParams\n",
    "from keras.callbacks import EarlyStopping\n",
    "\n",
    "from sklearn.model_selection import train_test_split\n",
    "from sklearn.preprocessing import StandardScaler\n",
    "\n",
    "from keras.models import Sequential\n",
    "from keras.layers import Dense\n",
    "from keras.layers import Flatten\n",
    "from keras.layers import Dropout\n",
    "from keras.layers import LSTM\n",
    "from keras.utils import to_categorical\n",
    "\n",
    "from numpy.random import seed\n",
    "seed(7)\n",
    "from tensorflow import set_random_seed\n",
    "set_random_seed(11)\n",
    "\n"
   ]
  },
  {
   "cell_type": "code",
   "execution_count": 28,
   "metadata": {},
   "outputs": [],
   "source": [
    "SEED = 123 #used to help randomly select the data points\n",
    "DATA_SPLIT_PCT = 0.2\n",
    "\n",
    "rcParams['figure.figsize'] = 8, 6\n",
    "LABELS = [\"Normal\",\"Break\"]"
   ]
  },
  {
   "cell_type": "code",
   "execution_count": 29,
   "metadata": {},
   "outputs": [],
   "source": [
    "# load  dataset\n",
    "df = pd.read_csv('/home/francovm/Projects/SSE/data/processed/input_data_shifted_40.csv', sep='\\t', encoding='utf-8', index_col=0)\n"
   ]
  },
  {
   "cell_type": "code",
   "execution_count": 30,
   "metadata": {},
   "outputs": [
    {
     "name": "stdout",
     "output_type": "stream",
     "text": [
      "(219861, 3) (219861,)\n"
     ]
    }
   ],
   "source": [
    "input_X = df.loc[:, df.columns != 'Events'].values  # converts the df to a numpy array\n",
    "input_y = df['Events'].values\n",
    "\n",
    "n_features = input_X.shape[1]  # number of features\n",
    "\n",
    "print(input_X.shape,input_y.shape)"
   ]
  },
  {
   "cell_type": "markdown",
   "metadata": {},
   "source": [
    "# Temporalize data"
   ]
  },
  {
   "cell_type": "code",
   "execution_count": 31,
   "metadata": {},
   "outputs": [],
   "source": [
    "def temporalize(X, y, lookback):\n",
    "    X = []\n",
    "    y = []\n",
    "    for i in range(len(input_X)-lookback-1):\n",
    "        t = []\n",
    "        for j in range(1,lookback+1):\n",
    "            # Gather past records upto the lookback period\n",
    "            t.append(input_X[[(i+j+1)], :])\n",
    "        X.append(t)\n",
    "        y.append(input_y[i+lookback+1])\n",
    "    return X, y\n"
   ]
  },
  {
   "cell_type": "code",
   "execution_count": 32,
   "metadata": {},
   "outputs": [],
   "source": [
    "# Temporalize the data\n",
    "\n",
    "lookback = 20\n",
    "X, y = temporalize(X = input_X, y = input_y, lookback = lookback)\n",
    "\n"
   ]
  },
  {
   "cell_type": "markdown",
   "metadata": {},
   "source": [
    "# Split into Test, valid and train"
   ]
  },
  {
   "cell_type": "code",
   "execution_count": 33,
   "metadata": {},
   "outputs": [],
   "source": [
    "#Split into Test, valid and train\n",
    "\n",
    "X_train, X_test, y_train, y_test = train_test_split(np.array(X), np.array(y), test_size=DATA_SPLIT_PCT, random_state=SEED)\n",
    "\n",
    "X_train, X_valid, y_train, y_valid = train_test_split(X_train, y_train, test_size=DATA_SPLIT_PCT, random_state=SEED)"
   ]
  },
  {
   "cell_type": "markdown",
   "metadata": {},
   "source": [
    "## Separate negatives and positives values"
   ]
  },
  {
   "cell_type": "code",
   "execution_count": null,
   "metadata": {},
   "outputs": [],
   "source": [
    "X_train_y0 = X_train[y_train==0.]\n",
    "X_train_y1 = X_train[y_train==1.]\n",
    "\n",
    "X_valid_y0 = X_valid[y_valid==0.]\n",
    "X_valid_y1 = X_valid[y_valid==1.]"
   ]
  },
  {
   "cell_type": "code",
   "execution_count": 34,
   "metadata": {},
   "outputs": [],
   "source": [
    "# Reshape the arrays\n",
    "\n",
    "X_train = X_train.reshape(X_train.shape[0], lookback, n_features)\n",
    "X_train_y0 = X_train_y0.reshape(X_train_y0.shape[0], lookback, n_features)\n",
    "X_train_y1 = X_train_y1.reshape(X_train_y1.shape[0], lookback, n_features)\n",
    "\n",
    "X_valid = X_valid.reshape(X_valid.shape[0], lookback, n_features)\n",
    "X_valid_y0 = X_valid_y0.reshape(X_valid_y0.shape[0], lookback, n_features)\n",
    "X_valid_y1 = X_valid_y1.reshape(X_valid_y1.shape[0], lookback, n_features)b\n",
    "\n",
    "X_test = X_test.reshape(X_test.shape[0], lookback, n_features)"
   ]
  },
  {
   "cell_type": "code",
   "execution_count": 35,
   "metadata": {},
   "outputs": [
    {
     "data": {
      "text/plain": [
       "(140697,)"
      ]
     },
     "execution_count": 35,
     "metadata": {},
     "output_type": "execute_result"
    }
   ],
   "source": [
    "y_train.shape"
   ]
  },
  {
   "cell_type": "code",
   "execution_count": 36,
   "metadata": {},
   "outputs": [],
   "source": [
    "## To Categorical Data\n",
    "\n",
    "# y_train = to_categorical(y_train)\n",
    "# y_test = to_categorical(y_test)\n",
    "# y_valid = to_categorical(y_valid)\n",
    "\n",
    "# print(y_valid.shape, y_test.shape, y_train.shape)"
   ]
  },
  {
   "cell_type": "code",
   "execution_count": 37,
   "metadata": {},
   "outputs": [
    {
     "name": "stdout",
     "output_type": "stream",
     "text": [
      "20 3 1\n"
     ]
    }
   ],
   "source": [
    "n_timesteps, n_features, n_outputs = X_train.shape[1], X_train.shape[2], 1\n",
    "print(n_timesteps,n_features,n_outputs)"
   ]
  },
  {
   "cell_type": "markdown",
   "metadata": {},
   "source": [
    "# Stardarization"
   ]
  },
  {
   "cell_type": "code",
   "execution_count": 38,
   "metadata": {},
   "outputs": [],
   "source": [
    "def flatten(X):\n",
    "    '''\n",
    "    Flatten a 3D array.\n",
    "    \n",
    "    Input\n",
    "    X            A 3D array for lstm, where the array is sample x timesteps x features.\n",
    "    \n",
    "    Output\n",
    "    flattened_X  A 2D array, sample x features.\n",
    "    '''\n",
    "    flattened_X = np.empty((X.shape[0], X.shape[2]))  # sample x features array.\n",
    "    for i in range(X.shape[0]):\n",
    "        flattened_X[i] = X[i, (X.shape[1]-1), :]\n",
    "    return(flattened_X)\n",
    "\n",
    "def scale(X, scaler):\n",
    "    '''\n",
    "    Scale 3D array.\n",
    "\n",
    "    Inputs\n",
    "    X            A 3D array for lstm, where the array is sample x timesteps x features.\n",
    "    scaler       A scaler object, e.g., sklearn.preprocessing.StandardScaler, sklearn.preprocessing.normalize\n",
    "    \n",
    "    Output\n",
    "    X            Scaled 3D array.\n",
    "    '''\n",
    "    for i in range(X.shape[0]):\n",
    "        X[i, :, :] = scaler.transform(X[i, :, :])\n",
    "        \n",
    "    return X"
   ]
  },
  {
   "cell_type": "code",
   "execution_count": 39,
   "metadata": {},
   "outputs": [],
   "source": [
    "# Initialize a scaler using the training data.\n",
    "# scaler = StandardScaler().fit(flatten(X_train))"
   ]
  },
  {
   "cell_type": "code",
   "execution_count": 40,
   "metadata": {},
   "outputs": [],
   "source": [
    "# Standarize the input\n",
    "\n",
    "# X_train_scaled = scale(X_train, scaler)\n",
    "# X_valid_scaled = scale(X_valid, scaler)\n",
    "# X_test_scaled = scale(X_test, scaler)"
   ]
  },
  {
   "cell_type": "markdown",
   "metadata": {},
   "source": [
    "### Test Standarization"
   ]
  },
  {
   "cell_type": "code",
   "execution_count": 41,
   "metadata": {},
   "outputs": [],
   "source": [
    "# a = flatten(X_train_scaled)\n",
    "# print('colwise mean', np.mean(a,axis=0).round(6))\n",
    "# print('colwise variance', np.var(a, axis=0))\n",
    "\n"
   ]
  },
  {
   "cell_type": "markdown",
   "metadata": {},
   "source": [
    "# Model training\n",
    "\n",
    "Training models (Use it)\n"
   ]
  },
  {
   "cell_type": "code",
   "execution_count": 45,
   "metadata": {},
   "outputs": [
    {
     "name": "stdout",
     "output_type": "stream",
     "text": [
      "Train on 140697 samples, validate on 35175 samples\n",
      "Epoch 1/100\n",
      "140697/140697 [==============================] - 130s 925us/step - loss: 0.1454 - acc: 0.9661 - val_loss: 0.1275 - val_acc: 0.9709\n",
      "Epoch 2/100\n",
      "140697/140697 [==============================] - 125s 887us/step - loss: 0.1329 - acc: 0.9693 - val_loss: 0.1267 - val_acc: 0.9709\n",
      "Epoch 3/100\n",
      "140697/140697 [==============================] - 127s 905us/step - loss: 0.1309 - acc: 0.9693 - val_loss: 0.1243 - val_acc: 0.9709\n",
      "Epoch 4/100\n",
      "140697/140697 [==============================] - 125s 889us/step - loss: 0.1294 - acc: 0.9692 - val_loss: 0.1234 - val_acc: 0.9710\n",
      "Epoch 5/100\n",
      "140697/140697 [==============================] - 129s 919us/step - loss: 0.1282 - acc: 0.9693 - val_loss: 0.1247 - val_acc: 0.9711\n",
      "Epoch 6/100\n",
      "140697/140697 [==============================] - 124s 880us/step - loss: 0.1274 - acc: 0.9693 - val_loss: 0.1200 - val_acc: 0.9713\n",
      "Epoch 7/100\n",
      "140697/140697 [==============================] - 126s 894us/step - loss: 0.1265 - acc: 0.9694 - val_loss: 0.1188 - val_acc: 0.9713\n",
      "Epoch 8/100\n",
      "140697/140697 [==============================] - 123s 876us/step - loss: 0.1250 - acc: 0.9696 - val_loss: 0.1191 - val_acc: 0.9711\n",
      "Epoch 9/100\n",
      "140697/140697 [==============================] - 127s 899us/step - loss: 0.1240 - acc: 0.9696 - val_loss: 0.1172 - val_acc: 0.9714\n",
      "Epoch 10/100\n",
      "140697/140697 [==============================] - 126s 893us/step - loss: 0.1229 - acc: 0.9698 - val_loss: 0.1168 - val_acc: 0.9715\n",
      "Epoch 11/100\n",
      "140697/140697 [==============================] - 125s 887us/step - loss: 0.1218 - acc: 0.9700 - val_loss: 0.1150 - val_acc: 0.9716\n",
      "Epoch 12/100\n",
      "140697/140697 [==============================] - 125s 888us/step - loss: 0.1205 - acc: 0.9702 - val_loss: 0.1132 - val_acc: 0.9722\n",
      "Epoch 13/100\n",
      "140697/140697 [==============================] - 127s 903us/step - loss: 0.1195 - acc: 0.9704 - val_loss: 0.1121 - val_acc: 0.9721\n",
      "Epoch 14/100\n",
      "140697/140697 [==============================] - 126s 895us/step - loss: 0.1193 - acc: 0.9703 - val_loss: 0.1135 - val_acc: 0.9720\n",
      "Epoch 15/100\n",
      "140697/140697 [==============================] - 127s 900us/step - loss: 0.1180 - acc: 0.9710 - val_loss: 0.1122 - val_acc: 0.9722\n",
      "Epoch 16/100\n",
      "140697/140697 [==============================] - 126s 894us/step - loss: 0.1173 - acc: 0.9709 - val_loss: 0.1114 - val_acc: 0.9720\n",
      "Epoch 17/100\n",
      "140697/140697 [==============================] - 126s 898us/step - loss: 0.1163 - acc: 0.9709 - val_loss: 0.1099 - val_acc: 0.9727\n",
      "Epoch 18/100\n",
      "140697/140697 [==============================] - 127s 900us/step - loss: 0.1149 - acc: 0.9714 - val_loss: 0.1106 - val_acc: 0.9726\n",
      "Epoch 19/100\n",
      "140697/140697 [==============================] - 126s 894us/step - loss: 0.1151 - acc: 0.9713 - val_loss: 0.1091 - val_acc: 0.9729\n",
      "Epoch 20/100\n",
      "140697/140697 [==============================] - 126s 898us/step - loss: 0.1144 - acc: 0.9713 - val_loss: 0.1075 - val_acc: 0.9727\n",
      "Epoch 21/100\n",
      "140697/140697 [==============================] - 127s 902us/step - loss: 0.1132 - acc: 0.9717 - val_loss: 0.1085 - val_acc: 0.9730\n",
      "Epoch 22/100\n",
      "140697/140697 [==============================] - 127s 905us/step - loss: 0.1124 - acc: 0.9719 - val_loss: 0.1057 - val_acc: 0.9730\n",
      "Epoch 23/100\n",
      "140697/140697 [==============================] - 127s 906us/step - loss: 0.1123 - acc: 0.9719 - val_loss: 0.1059 - val_acc: 0.9732\n",
      "Epoch 24/100\n",
      "140697/140697 [==============================] - 126s 899us/step - loss: 0.1114 - acc: 0.9719 - val_loss: 0.1068 - val_acc: 0.9732\n",
      "Epoch 25/100\n",
      "140697/140697 [==============================] - 127s 900us/step - loss: 0.1109 - acc: 0.9721 - val_loss: 0.1074 - val_acc: 0.9732\n",
      "Epoch 26/100\n",
      "140697/140697 [==============================] - 127s 905us/step - loss: 0.1107 - acc: 0.9722 - val_loss: 0.1063 - val_acc: 0.9731\n",
      "Epoch 27/100\n",
      "140697/140697 [==============================] - 127s 904us/step - loss: 0.1096 - acc: 0.9724 - val_loss: 0.1043 - val_acc: 0.9735\n",
      "Epoch 28/100\n",
      "140697/140697 [==============================] - 127s 903us/step - loss: 0.1100 - acc: 0.9723 - val_loss: 0.1051 - val_acc: 0.9735\n",
      "Epoch 29/100\n",
      "140697/140697 [==============================] - 127s 899us/step - loss: 0.1100 - acc: 0.9726 - val_loss: 0.1043 - val_acc: 0.9737\n",
      "Epoch 30/100\n",
      "140697/140697 [==============================] - 126s 894us/step - loss: 0.1092 - acc: 0.9724 - val_loss: 0.1040 - val_acc: 0.9737\n",
      "Epoch 31/100\n",
      "140697/140697 [==============================] - 126s 896us/step - loss: 0.1087 - acc: 0.9724 - val_loss: 0.1052 - val_acc: 0.9735\n",
      "Epoch 32/100\n",
      "140697/140697 [==============================] - 126s 896us/step - loss: 0.1084 - acc: 0.9726 - val_loss: 0.1034 - val_acc: 0.9736\n",
      "Epoch 33/100\n",
      "140697/140697 [==============================] - 124s 881us/step - loss: 0.1076 - acc: 0.9727 - val_loss: 0.1066 - val_acc: 0.9738\n",
      "Epoch 34/100\n",
      "140697/140697 [==============================] - 124s 880us/step - loss: 0.1080 - acc: 0.9726 - val_loss: 0.1031 - val_acc: 0.9741\n",
      "Epoch 35/100\n",
      "140697/140697 [==============================] - 125s 885us/step - loss: 0.1068 - acc: 0.9729 - val_loss: 0.1045 - val_acc: 0.9740\n",
      "Epoch 36/100\n",
      "140697/140697 [==============================] - 124s 880us/step - loss: 0.1072 - acc: 0.9727 - val_loss: 0.1027 - val_acc: 0.9736\n",
      "Epoch 37/100\n",
      "140697/140697 [==============================] - 124s 881us/step - loss: 0.1058 - acc: 0.9731 - val_loss: 0.1024 - val_acc: 0.9741\n",
      "Epoch 38/100\n",
      "140697/140697 [==============================] - 124s 879us/step - loss: 0.1054 - acc: 0.9733 - val_loss: 0.1008 - val_acc: 0.9742\n",
      "Epoch 39/100\n",
      "140697/140697 [==============================] - 124s 878us/step - loss: 0.1055 - acc: 0.9730 - val_loss: 0.1004 - val_acc: 0.9744\n",
      "Epoch 40/100\n",
      "140697/140697 [==============================] - 125s 886us/step - loss: 0.1052 - acc: 0.9732 - val_loss: 0.1030 - val_acc: 0.9743\n",
      "Epoch 41/100\n",
      "140697/140697 [==============================] - 124s 881us/step - loss: 0.1053 - acc: 0.9733 - val_loss: 0.1041 - val_acc: 0.9739\n",
      "Epoch 42/100\n",
      "140697/140697 [==============================] - 124s 878us/step - loss: 0.1045 - acc: 0.9734 - val_loss: 0.1008 - val_acc: 0.9742\n",
      "Epoch 43/100\n",
      "140697/140697 [==============================] - 123s 877us/step - loss: 0.1043 - acc: 0.9734 - val_loss: 0.0992 - val_acc: 0.9744\n",
      "Epoch 44/100\n",
      "140697/140697 [==============================] - 123s 875us/step - loss: 0.1036 - acc: 0.9736 - val_loss: 0.1019 - val_acc: 0.9746\n",
      "Epoch 45/100\n",
      "140697/140697 [==============================] - 124s 885us/step - loss: 0.1041 - acc: 0.9735 - val_loss: 0.0996 - val_acc: 0.9750\n",
      "Epoch 46/100\n",
      "140697/140697 [==============================] - 125s 886us/step - loss: 0.1033 - acc: 0.9735 - val_loss: 0.1002 - val_acc: 0.9736\n",
      "Epoch 47/100\n",
      "140697/140697 [==============================] - 125s 887us/step - loss: 0.1033 - acc: 0.9736 - val_loss: 0.0998 - val_acc: 0.9743\n",
      "Epoch 48/100\n",
      "140697/140697 [==============================] - 124s 879us/step - loss: 0.1020 - acc: 0.9740 - val_loss: 0.0977 - val_acc: 0.9749\n",
      "Epoch 49/100\n",
      "140697/140697 [==============================] - 124s 882us/step - loss: 0.1030 - acc: 0.9737 - val_loss: 0.1003 - val_acc: 0.9743\n",
      "Epoch 50/100\n",
      "140697/140697 [==============================] - 124s 880us/step - loss: 0.1023 - acc: 0.9738 - val_loss: 0.0987 - val_acc: 0.9747\n",
      "Epoch 51/100\n",
      "140697/140697 [==============================] - 124s 878us/step - loss: 0.1020 - acc: 0.9740 - val_loss: 0.0979 - val_acc: 0.9747\n",
      "Epoch 52/100\n",
      "140697/140697 [==============================] - 124s 881us/step - loss: 0.1011 - acc: 0.9741 - val_loss: 0.0974 - val_acc: 0.9747\n",
      "Epoch 53/100\n",
      "140697/140697 [==============================] - 123s 878us/step - loss: 0.1018 - acc: 0.9739 - val_loss: 0.0976 - val_acc: 0.9749\n",
      "Epoch 54/100\n",
      "140697/140697 [==============================] - 124s 880us/step - loss: 0.1008 - acc: 0.9742 - val_loss: 0.0971 - val_acc: 0.9752\n",
      "Epoch 55/100\n",
      "140697/140697 [==============================] - 123s 876us/step - loss: 0.1001 - acc: 0.9743 - val_loss: 0.0996 - val_acc: 0.9746\n",
      "Epoch 56/100\n",
      "140697/140697 [==============================] - 123s 875us/step - loss: 0.1007 - acc: 0.9740 - val_loss: 0.0999 - val_acc: 0.9744\n",
      "Epoch 57/100\n",
      "140697/140697 [==============================] - 123s 875us/step - loss: 0.1005 - acc: 0.9742 - val_loss: 0.0967 - val_acc: 0.9754\n",
      "Epoch 58/100\n",
      "140697/140697 [==============================] - 124s 880us/step - loss: 0.0998 - acc: 0.9744 - val_loss: 0.0965 - val_acc: 0.9752\n",
      "Epoch 59/100\n",
      "140697/140697 [==============================] - 124s 881us/step - loss: 0.1001 - acc: 0.9742 - val_loss: 0.0974 - val_acc: 0.9753\n",
      "Epoch 60/100\n",
      "140697/140697 [==============================] - 125s 885us/step - loss: 0.0989 - acc: 0.9745 - val_loss: 0.0951 - val_acc: 0.9754\n",
      "Epoch 61/100\n",
      "140697/140697 [==============================] - 125s 885us/step - loss: 0.1003 - acc: 0.9742 - val_loss: 0.0976 - val_acc: 0.9748\n",
      "Epoch 62/100\n",
      "140697/140697 [==============================] - 124s 879us/step - loss: 0.0988 - acc: 0.9745 - val_loss: 0.0972 - val_acc: 0.9747\n",
      "Epoch 63/100\n",
      "140697/140697 [==============================] - 125s 885us/step - loss: 0.0985 - acc: 0.9746 - val_loss: 0.0956 - val_acc: 0.9751\n",
      "Epoch 64/100\n",
      "140697/140697 [==============================] - 123s 876us/step - loss: 0.0993 - acc: 0.9745 - val_loss: 0.0990 - val_acc: 0.9752\n",
      "Epoch 65/100\n",
      "140697/140697 [==============================] - 125s 886us/step - loss: 0.0991 - acc: 0.9744 - val_loss: 0.0963 - val_acc: 0.9760\n",
      "43968/43968 [==============================] - 15s 330us/step\n"
     ]
    }
   ],
   "source": [
    "# Parameters\n",
    "\n",
    "verbose, epochs, batch_size = 1, 100, 64\n",
    "\n",
    "\n",
    "model = Sequential()\n",
    "model.add(LSTM(50, input_shape=(n_timesteps,n_features)))\n",
    "model.add(Dropout(0.5))\n",
    "model.add(Dense(50, activation='relu'))\n",
    "#     model.add(Dense(n_outputs, activation='softmax'))\n",
    "model.add(Dense(n_outputs, activation='sigmoid'))\n",
    "model.compile(loss='binary_crossentropy', optimizer='adam', metrics=['accuracy'])\n",
    "\n",
    "\n",
    "#set early stopping monitor so the model stops training when it won't improve anymore\n",
    "early_stopping_monitor = EarlyStopping(patience=5)\n",
    "\n",
    "# fit network\n",
    "history = model.fit(X_train_y0, X_train_y0, epochs=epochs, batch_size=batch_size,validation_data=(X_valid_y0, X_valid_y0), verbose=verbose,\n",
    "                    callbacks=[early_stopping_monitor])\n",
    "\n",
    "\n",
    "# evaluate model\n",
    "# accuracy = model.evaluate(X_test, y_test, batch_size=batch_size, verbose=verbose)"
   ]
  },
  {
   "cell_type": "code",
   "execution_count": 48,
   "metadata": {},
   "outputs": [
    {
     "name": "stdout",
     "output_type": "stream",
     "text": [
      "dict_keys(['val_loss', 'val_acc', 'loss', 'acc'])\n"
     ]
    },
    {
     "data": {
      "image/png": "[encoded data removed]",
      "text/plain": [
       "<Figure size 1296x288 with 1 Axes>"
      ]
     },
     "metadata": {
      "needs_background": "light"
     },
     "output_type": "display_data"
    },
    {
     "data": {
      "image/png": "[encoded data removed]",
      "text/plain": [
       "<Figure size 1296x288 with 1 Axes>"
      ]
     },
     "metadata": {
      "needs_background": "light"
     },
     "output_type": "display_data"
    }
   ],
   "source": [
    "# list all data in history\n",
    "print(history.history.keys())\n",
    "\n",
    "# summarize history for accuracy\n",
    "plt.plot(history.history['acc'])\n",
    "plt.plot(history.history['val_acc'])\n",
    "plt.title('model accuracy')\n",
    "plt.ylabel('accuracy')\n",
    "plt.xlabel('epoch')\n",
    "plt.legend(['train', 'val'], loc='upper left')\n",
    "\n",
    "# Get current size\n",
    "fig_size = plt.rcParams[\"figure.figsize\"]\n",
    "#  Set figure width to 18 and height to 4\n",
    "fig_size[0] = 18\n",
    "fig_size[1] = 4\n",
    "plt.rcParams[\"figure.figsize\"] = fig_size\n",
    "\n",
    "plt.savefig('/home/francovm/Projects/SSE/data/Visualization/LSTM-40days-acc-shifted.png')\n",
    "plt.show()\n",
    "\n",
    "# summarize history for loss\n",
    "plt.plot(history.history['loss'])\n",
    "plt.plot(history.history['val_loss'])\n",
    "plt.title('model loss')\n",
    "plt.ylabel('loss')\n",
    "plt.xlabel('epoch')\n",
    "plt.legend(['train', 'val'], loc='upper left')\n",
    " # Get current size\n",
    "fig_size = plt.rcParams[\"figure.figsize\"]\n",
    "\n",
    "# Set figure width to 18 and height to 4\n",
    "fig_size[0] = 18\n",
    "fig_size[1] = 4\n",
    "plt.rcParams[\"figure.figsize\"] = fig_size\n",
    "\n",
    "plt.savefig('/home/francovm/Projects/SSE/data/Visualization/LSTM-40days-loss-shifted_40.png')\n",
    "plt.show()"
   ]
  },
  {
   "cell_type": "markdown",
   "metadata": {},
   "source": [
    "# Save Model"
   ]
  },
  {
   "cell_type": "code",
   "execution_count": 49,
   "metadata": {},
   "outputs": [],
   "source": [
    "# save model and architecture to single file\n",
    "# model.save(\"/home/francovm/Projects/SSE/models/Binary_clasifier/Binary_clasifier_LSTM_SSE_40days-shifted.h5\")\n"
   ]
  },
  {
   "cell_type": "markdown",
   "metadata": {},
   "source": [
    "# Sanity check\n",
    "\n",
    "Doing a sanity check by validating the reconstruction error on the train data. Here we will reconstruct the entire train data with both 0 and 1 labels.\n",
    "\n",
    "**Expectation**: the reconstruction error of 0 labeled data should be smaller than 1.\n",
    "\n",
    "**Caution**: do not use this result for model evaluation. It may result into overfitting issues."
   ]
  },
  {
   "cell_type": "code",
   "execution_count": null,
   "metadata": {},
   "outputs": [],
   "source": [
    "train_x_predictions = lstm_autoencoder.predict(X_train)\n",
    "mse = np.mean(np.power(flatten(X_train) - flatten(train_x_predictions), 2), axis=1)\n",
    "\n",
    "error_df = pd.DataFrame({'Reconstruction_error': mse,\n",
    "                        'True_class': y_train.tolist()})\n",
    "\n",
    "groups = error_df.groupby('True_class')\n",
    "fig, ax = plt.subplots()\n",
    "\n",
    "for name, group in groups:\n",
    "    ax.plot(group.index, group.Reconstruction_error, marker='o', ms=3.5, linestyle='',\n",
    "            label= \"Break\" if name == 1 else \"Normal\")\n",
    "ax.legend()\n",
    "plt.title(\"Reconstruction error for different classes\")\n",
    "plt.ylabel(\"Reconstruction error\")\n",
    "plt.xlabel(\"Data point index\")\n",
    "plt.show();"
   ]
  },
  {
   "cell_type": "markdown",
   "metadata": {},
   "source": [
    "# Predictions using the Autoencoder"
   ]
  },
  {
   "cell_type": "code",
   "execution_count": null,
   "metadata": {},
   "outputs": [],
   "source": [
    "valid_x_predictions = lstm_autoencoder.predict(X_valid)\n",
    "mse = np.mean(np.power(flatten(X_valid) - flatten(valid_x_predictions), 2), axis=1)\n",
    "\n",
    "error_df = pd.DataFrame({'Reconstruction_error': mse,\n",
    "                        'True_class': y_valid.tolist()})\n",
    "\n",
    "precision_rt, recall_rt, threshold_rt = precision_recall_curve(error_df.True_class, error_df.Reconstruction_error)\n",
    "plt.plot(threshold_rt, precision_rt[1:], label=\"Precision\",linewidth=5)\n",
    "plt.plot(threshold_rt, recall_rt[1:], label=\"Recall\",linewidth=5)\n",
    "plt.title('Precision and recall for different threshold values')\n",
    "plt.xlabel('Threshold')\n",
    "plt.ylabel('Precision/Recall')\n",
    "plt.legend()\n",
    "plt.show()"
   ]
  },
  {
   "cell_type": "code",
   "execution_count": null,
   "metadata": {},
   "outputs": [],
   "source": [
    "test_x_predictions = lstm_autoencoder.predict(X_test)\n",
    "mse = np.mean(np.power(flatten(X_test) - flatten(test_x_predictions), 2), axis=1)\n",
    "\n",
    "error_df = pd.DataFrame({'Reconstruction_error': mse,\n",
    "                        'True_class': y_test.tolist()})\n",
    "\n",
    "threshold_fixed = 0.3 # Definir!\n",
    "groups = error_df.groupby('True_class')\n",
    "fig, ax = plt.subplots()\n",
    "\n",
    "for name, group in groups:\n",
    "    ax.plot(group.index, group.Reconstruction_error, marker='o', ms=3.5, linestyle='',\n",
    "            label= \"Break\" if name == 1 else \"Normal\")\n",
    "ax.hlines(threshold_fixed, ax.get_xlim()[0], ax.get_xlim()[1], colors=\"r\", zorder=100, label='Threshold')\n",
    "ax.legend()\n",
    "plt.title(\"Reconstruction error for different classes\")\n",
    "plt.ylabel(\"Reconstruction error\")\n",
    "plt.xlabel(\"Data point index\")\n",
    "plt.show();"
   ]
  },
  {
   "cell_type": "code",
   "execution_count": null,
   "metadata": {},
   "outputs": [],
   "source": [
    "pred_y = [1 if e > threshold_fixed else 0 for e in error_df.Reconstruction_error.values]"
   ]
  },
  {
   "cell_type": "code",
   "execution_count": null,
   "metadata": {},
   "outputs": [],
   "source": [
    "conf_matrix = confusion_matrix(error_df.True_class, pred_y)\n",
    "\n",
    "plt.figure(figsize=(6, 6))\n",
    "sns.heatmap(conf_matrix, xticklabels=LABELS, yticklabels=LABELS, annot=True, fmt=\"d\");\n",
    "plt.title(\"Confusion matrix\")\n",
    "plt.ylabel('True class')\n",
    "plt.xlabel('Predicted class')\n",
    "plt.show()"
   ]
  },
  {
   "cell_type": "code",
   "execution_count": null,
   "metadata": {},
   "outputs": [],
   "source": [
    "false_pos_rate, true_pos_rate, thresholds = roc_curve(error_df.True_class, error_df.Reconstruction_error)\n",
    "roc_auc = auc(false_pos_rate, true_pos_rate,)\n",
    "\n",
    "plt.plot(false_pos_rate, true_pos_rate, linewidth=5, label='AUC = %0.3f'% roc_auc)\n",
    "plt.plot([0,1],[0,1], linewidth=5)\n",
    "\n",
    "plt.xlim([-0.01, 1])\n",
    "plt.ylim([0, 1.01])\n",
    "plt.legend(loc='lower right')\n",
    "plt.title('Receiver operating characteristic curve (ROC)')\n",
    "plt.ylabel('True Positive Rate')\n",
    "plt.xlabel('False Positive Rate')\n",
    "plt.show()"
   ]
  }
 ],
 "metadata": {
  "kernelspec": {
   "display_name": "Python 3",
   "language": "python",
   "name": "python3"
  },
  "language_info": {
   "codemirror_mode": {
    "name": "ipython",
    "version": 3
   },
   "file_extension": ".py",
   "mimetype": "text/x-python",
   "name": "python",
   "nbconvert_exporter": "python",
   "pygments_lexer": "ipython3",
   "version": "3.7.3"
  }
 },
 "nbformat": 4,
 "nbformat_minor": 4
}
