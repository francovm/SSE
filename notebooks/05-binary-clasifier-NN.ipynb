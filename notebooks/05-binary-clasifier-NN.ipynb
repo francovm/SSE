{
 "cells": [
  {
   "cell_type": "code",
   "execution_count": 25,
   "metadata": {},
   "outputs": [],
   "source": [
    "from keras.models import Sequential\n",
    "from keras.layers import Dense\n",
    "from keras.utils import to_categorical\n",
    "from keras.callbacks import EarlyStopping\n",
    "import matplotlib.pyplot as plt\n",
    "import numpy as np\n",
    "import pandas as pd\n",
    "from sklearn.model_selection import train_test_split\n",
    "from keras.layers import Dropout\n",
    "\n",
    "from keras.models import load_model\n",
    "\n",
    "import tensorflow as tf\n",
    "sess = tf.InteractiveSession()"
   ]
  },
  {
   "cell_type": "code",
   "execution_count": 26,
   "metadata": {},
   "outputs": [],
   "source": [
    "# fix random seed for reproducibility\n",
    "seed = 7\n",
    "np.random.seed(seed)\n",
    "\n",
    "# load  dataset\n",
    "dataset = pd.read_csv('/home_l/francovm/Projects/SSE/data/processed/input_data.csv', sep='\\t', encoding='utf-8' ,index_col=0)\n",
    "\n",
    "\n",
    "# split into input (X) and output (Y) variables\n",
    "\n",
    "train_X = dataset.drop(columns=['Events'])\n",
    "\n",
    "# one-hot encode target column\n",
    "train_Y = to_categorical(dataset.Events)\n",
    "\n",
    "\n",
    "#get number of columns in training data\n",
    "n_cols = train_X.shape[1]\n"
   ]
  },
  {
   "cell_type": "code",
   "execution_count": 27,
   "metadata": {},
   "outputs": [
    {
     "data": {
      "text/plain": [
       "Index(['x', 'error', 'n', 'n_error', 'u', 'u_error', 'Events'], dtype='object')"
      ]
     },
     "execution_count": 27,
     "metadata": {},
     "output_type": "execute_result"
    }
   ],
   "source": [
    "dataset.columns"
   ]
  },
  {
   "cell_type": "code",
   "execution_count": 28,
   "metadata": {},
   "outputs": [],
   "source": [
    "# partition the data into training and testing splits using 66% of\n",
    "# the data for training and the remaining 33% for testing\n",
    "X_train, X_test, y_train, y_test = train_test_split(train_X, train_Y, test_size=0.33, random_state=seed)"
   ]
  },
  {
   "cell_type": "code",
   "execution_count": 29,
   "metadata": {},
   "outputs": [
    {
     "data": {
      "text/html": [
       "<div>\n",
       "<style scoped>\n",
       "    .dataframe tbody tr th:only-of-type {\n",
       "        vertical-align: middle;\n",
       "    }\n",
       "\n",
       "    .dataframe tbody tr th {\n",
       "        vertical-align: top;\n",
       "    }\n",
       "\n",
       "    .dataframe thead th {\n",
       "        text-align: right;\n",
       "    }\n",
       "</style>\n",
       "<table border=\"1\" class=\"dataframe\">\n",
       "  <thead>\n",
       "    <tr style=\"text-align: right;\">\n",
       "      <th></th>\n",
       "      <th>x</th>\n",
       "      <th>error</th>\n",
       "      <th>n</th>\n",
       "      <th>n_error</th>\n",
       "      <th>u</th>\n",
       "      <th>u_error</th>\n",
       "    </tr>\n",
       "  </thead>\n",
       "  <tbody>\n",
       "    <tr>\n",
       "      <th>144713</th>\n",
       "      <td>-41.89</td>\n",
       "      <td>2.17</td>\n",
       "      <td>90.36</td>\n",
       "      <td>2.41</td>\n",
       "      <td>-1.40</td>\n",
       "      <td>8.70</td>\n",
       "    </tr>\n",
       "    <tr>\n",
       "      <th>202164</th>\n",
       "      <td>34.15</td>\n",
       "      <td>1.84</td>\n",
       "      <td>-47.02</td>\n",
       "      <td>2.03</td>\n",
       "      <td>0.79</td>\n",
       "      <td>7.06</td>\n",
       "    </tr>\n",
       "    <tr>\n",
       "      <th>175681</th>\n",
       "      <td>-16.90</td>\n",
       "      <td>2.13</td>\n",
       "      <td>87.81</td>\n",
       "      <td>2.19</td>\n",
       "      <td>-22.43</td>\n",
       "      <td>8.51</td>\n",
       "    </tr>\n",
       "    <tr>\n",
       "      <th>73565</th>\n",
       "      <td>-3.32</td>\n",
       "      <td>2.21</td>\n",
       "      <td>118.61</td>\n",
       "      <td>2.15</td>\n",
       "      <td>-5.72</td>\n",
       "      <td>8.15</td>\n",
       "    </tr>\n",
       "    <tr>\n",
       "      <th>151695</th>\n",
       "      <td>47.91</td>\n",
       "      <td>1.31</td>\n",
       "      <td>-80.90</td>\n",
       "      <td>1.49</td>\n",
       "      <td>0.01</td>\n",
       "      <td>4.98</td>\n",
       "    </tr>\n",
       "  </tbody>\n",
       "</table>\n",
       "</div>"
      ],
      "text/plain": [
       "            x  error       n  n_error      u  u_error\n",
       "144713 -41.89   2.17   90.36     2.41  -1.40     8.70\n",
       "202164  34.15   1.84  -47.02     2.03   0.79     7.06\n",
       "175681 -16.90   2.13   87.81     2.19 -22.43     8.51\n",
       "73565   -3.32   2.21  118.61     2.15  -5.72     8.15\n",
       "151695  47.91   1.31  -80.90     1.49   0.01     4.98"
      ]
     },
     "execution_count": 29,
     "metadata": {},
     "output_type": "execute_result"
    }
   ],
   "source": [
    "X_train.head()"
   ]
  },
  {
   "cell_type": "code",
   "execution_count": 30,
   "metadata": {},
   "outputs": [
    {
     "data": {
      "text/plain": [
       "array([[1., 0.],\n",
       "       [1., 0.],\n",
       "       [1., 0.],\n",
       "       ...,\n",
       "       [1., 0.],\n",
       "       [1., 0.],\n",
       "       [1., 0.]], dtype=float32)"
      ]
     },
     "execution_count": 30,
     "metadata": {},
     "output_type": "execute_result"
    }
   ],
   "source": [
    "y_train\n",
    "\n",
    "# plt.plot(y_train)"
   ]
  },
  {
   "cell_type": "code",
   "execution_count": 31,
   "metadata": {},
   "outputs": [
    {
     "name": "stdout",
     "output_type": "stream",
     "text": [
      "Train on 106799 samples, validate on 45771 samples\n",
      "Epoch 1/64\n",
      "106799/106799 [==============================] - 27s 251us/step - loss: 0.2285 - acc: 0.9557 - val_loss: 0.1654 - val_acc: 0.9585\n",
      "Epoch 2/64\n",
      "106799/106799 [==============================] - 26s 247us/step - loss: 0.1764 - acc: 0.9558 - val_loss: 0.1647 - val_acc: 0.9585\n",
      "Epoch 3/64\n",
      "106799/106799 [==============================] - 26s 246us/step - loss: 0.1739 - acc: 0.9558 - val_loss: 0.1655 - val_acc: 0.9585\n",
      "Epoch 4/64\n",
      "106799/106799 [==============================] - 26s 247us/step - loss: 0.1726 - acc: 0.9558 - val_loss: 0.1596 - val_acc: 0.9585\n",
      "Epoch 5/64\n",
      "106799/106799 [==============================] - 26s 247us/step - loss: 0.1718 - acc: 0.9558 - val_loss: 0.1639 - val_acc: 0.9585\n",
      "Epoch 6/64\n",
      "106799/106799 [==============================] - 27s 249us/step - loss: 0.1710 - acc: 0.9558 - val_loss: 0.1601 - val_acc: 0.9585\n",
      "Epoch 7/64\n",
      "106799/106799 [==============================] - 26s 246us/step - loss: 0.1697 - acc: 0.9558 - val_loss: 0.1599 - val_acc: 0.9585\n",
      "Epoch 8/64\n",
      "106799/106799 [==============================] - 26s 246us/step - loss: 0.1695 - acc: 0.9558 - val_loss: 0.1592 - val_acc: 0.9585\n",
      "Epoch 9/64\n",
      "106799/106799 [==============================] - 26s 239us/step - loss: 0.1693 - acc: 0.9558 - val_loss: 0.1586 - val_acc: 0.9585\n",
      "Epoch 10/64\n",
      "106799/106799 [==============================] - 26s 245us/step - loss: 0.1688 - acc: 0.9558 - val_loss: 0.1594 - val_acc: 0.9585\n",
      "Epoch 11/64\n",
      "106799/106799 [==============================] - 26s 247us/step - loss: 0.1682 - acc: 0.9558 - val_loss: 0.1582 - val_acc: 0.9585\n",
      "Epoch 12/64\n",
      "106799/106799 [==============================] - 26s 247us/step - loss: 0.1681 - acc: 0.9559 - val_loss: 0.1582 - val_acc: 0.9585\n",
      "Epoch 13/64\n",
      "106799/106799 [==============================] - 26s 247us/step - loss: 0.1675 - acc: 0.9558 - val_loss: 0.1592 - val_acc: 0.9585\n",
      "Epoch 14/64\n",
      "106799/106799 [==============================] - 26s 246us/step - loss: 0.1674 - acc: 0.9558 - val_loss: 0.1586 - val_acc: 0.9585\n",
      "Epoch 15/64\n",
      "106799/106799 [==============================] - 26s 244us/step - loss: 0.1677 - acc: 0.9559 - val_loss: 0.1588 - val_acc: 0.9586\n",
      "Epoch 16/64\n",
      "106799/106799 [==============================] - 27s 248us/step - loss: 0.1673 - acc: 0.9559 - val_loss: 0.1585 - val_acc: 0.9586\n"
     ]
    }
   ],
   "source": [
    "model_2 = Sequential()\n",
    "\n",
    "#add layers to model\n",
    "model_2.add(Dense(512, activation='relu', input_shape=(n_cols,)))\n",
    "# model_2.add(Dropout(0.5))\n",
    "model_2.add(Dense(512, activation='relu'))\n",
    "model_2.add(Dropout(0.2))\n",
    "model_2.add(Dense(2, activation='sigmoid'))\n",
    "\n",
    "# Compile model\n",
    "\n",
    "model_2.compile(optimizer='adam', loss='categorical_crossentropy', metrics=['accuracy'])\n",
    "\n",
    "\n",
    "#set early stopping monitor so the model stops training when it won't improve anymore\n",
    "early_stopping_monitor = EarlyStopping(patience=5)\n",
    "\n",
    "# Fit the model\n",
    "\n",
    "\n",
    "\n",
    "history = model_2.fit(X_train,y_train, \n",
    "                      epochs=64, \n",
    "                      validation_split=0.3, \n",
    "                      callbacks=[early_stopping_monitor])\n",
    "\n",
    "# history = model_2.fit(train_X,train_Y, epochs=40, validation_data=(X_test,y_test), callbacks=[early_stopping_monitor])\n",
    "\n"
   ]
  },
  {
   "cell_type": "code",
   "execution_count": 33,
   "metadata": {},
   "outputs": [
    {
     "name": "stdout",
     "output_type": "stream",
     "text": [
      "dict_keys(['val_loss', 'val_acc', 'loss', 'acc'])\n"
     ]
    },
    {
     "data": {
      "image/png": "[encoded data removed]",
      "text/plain": [
       "<Figure size 1296x288 with 1 Axes>"
      ]
     },
     "metadata": {
      "needs_background": "light"
     },
     "output_type": "display_data"
    },
    {
     "data": {
      "image/png": "[encoded data removed]",
      "text/plain": [
       "<Figure size 1296x288 with 1 Axes>"
      ]
     },
     "metadata": {
      "needs_background": "light"
     },
     "output_type": "display_data"
    }
   ],
   "source": [
    "# list all data in history\n",
    "print(history.history.keys())\n",
    "\n",
    "# summarize history for accuracy\n",
    "plt.plot(history.history['acc'])\n",
    "plt.plot(history.history['val_acc'])\n",
    "plt.title('model accuracy')\n",
    "plt.ylabel('accuracy')\n",
    "plt.xlabel('epoch')\n",
    "plt.legend(['train', 'val'], loc='upper left')\n",
    "\n",
    "# Get current size\n",
    "fig_size = plt.rcParams[\"figure.figsize\"]\n",
    "#  Set figure width to 18 and height to 4\n",
    "fig_size[0] = 18\n",
    "fig_size[1] = 4\n",
    "plt.rcParams[\"figure.figsize\"] = fig_size\n",
    "\n",
    "plt.show()\n",
    "\n",
    "# summarize history for loss\n",
    "plt.plot(history.history['loss'])\n",
    "plt.plot(history.history['val_loss'])\n",
    "plt.title('model loss')\n",
    "plt.ylabel('loss')\n",
    "plt.xlabel('epoch')\n",
    "plt.legend(['train', 'val'], loc='upper left')\n",
    " # Get current size\n",
    "fig_size = plt.rcParams[\"figure.figsize\"]\n",
    "\n",
    "# Set figure width to 18 and height to 4\n",
    "fig_size[0] = 18\n",
    "fig_size[1] = 4\n",
    "plt.rcParams[\"figure.figsize\"] = fig_size\n",
    "\n",
    "plt.show()"
   ]
  },
  {
   "cell_type": "code",
   "execution_count": 74,
   "metadata": {},
   "outputs": [],
   "source": []
  },
  {
   "cell_type": "code",
   "execution_count": 34,
   "metadata": {},
   "outputs": [
    {
     "name": "stdout",
     "output_type": "stream",
     "text": [
      "75147/75147 [==============================] - 5s 65us/step\n",
      "95.52344072324647\n"
     ]
    }
   ],
   "source": [
    "# evaluate the model\n",
    "scores = model_2.evaluate(X_test,y_test)\n",
    "print((scores[1]*100))"
   ]
  },
  {
   "cell_type": "code",
   "execution_count": 35,
   "metadata": {},
   "outputs": [
    {
     "data": {
      "text/plain": [
       "array([[1., 0.],\n",
       "       [1., 0.],\n",
       "       [1., 0.],\n",
       "       ...,\n",
       "       [1., 0.],\n",
       "       [0., 1.],\n",
       "       [1., 0.]], dtype=float32)"
      ]
     },
     "execution_count": 35,
     "metadata": {},
     "output_type": "execute_result"
    }
   ],
   "source": [
    "y_test"
   ]
  },
  {
   "cell_type": "code",
   "execution_count": 36,
   "metadata": {},
   "outputs": [],
   "source": [
    "ynew = model_2.predict(X_test)\n",
    "\n",
    "# ynew = np.argmax(ynew[:])"
   ]
  },
  {
   "cell_type": "code",
   "execution_count": 37,
   "metadata": {},
   "outputs": [
    {
     "data": {
      "text/plain": [
       "(75147, 2)"
      ]
     },
     "execution_count": 37,
     "metadata": {},
     "output_type": "execute_result"
    }
   ],
   "source": [
    "ynew.shape"
   ]
  },
  {
   "cell_type": "code",
   "execution_count": 38,
   "metadata": {},
   "outputs": [
    {
     "data": {
      "text/plain": [
       "array([[9.9405652e-01, 1.2203726e-01],\n",
       "       [9.9996555e-01, 5.6957960e-02],\n",
       "       [1.0000000e+00, 7.1048737e-05],\n",
       "       ...,\n",
       "       [1.0000000e+00, 1.9473523e-02],\n",
       "       [8.6587131e-01, 2.1610320e-01],\n",
       "       [1.0000000e+00, 4.2114805e-02]], dtype=float32)"
      ]
     },
     "execution_count": 38,
     "metadata": {},
     "output_type": "execute_result"
    }
   ],
   "source": [
    "ynew"
   ]
  },
  {
   "cell_type": "code",
   "execution_count": 44,
   "metadata": {},
   "outputs": [
    {
     "data": {
      "image/png": "[encoded data removed]",
      "text/plain": [
       "<Figure size 1296x288 with 1 Axes>"
      ]
     },
     "metadata": {
      "needs_background": "light"
     },
     "output_type": "display_data"
    }
   ],
   "source": [
    "plt.plot(ynew) # plotting by columns\n",
    "plt.axhline(0.5)\n",
    "plt.show()"
   ]
  },
  {
   "cell_type": "code",
   "execution_count": 97,
   "metadata": {},
   "outputs": [
    {
     "data": {
      "text/plain": [
       "array([[2.0386726e-01],\n",
       "       [6.5261841e-02],\n",
       "       [1.4901161e-07],\n",
       "       ...,\n",
       "       [3.8702101e-02],\n",
       "       [1.1518244e-01],\n",
       "       [6.2616006e-02]], dtype=float32)"
      ]
     },
     "execution_count": 97,
     "metadata": {},
     "output_type": "execute_result"
    }
   ],
   "source": [
    "ynew"
   ]
  },
  {
   "cell_type": "markdown",
   "metadata": {},
   "source": [
    "# Save the Model (Keras)"
   ]
  },
  {
   "cell_type": "code",
   "execution_count": 49,
   "metadata": {},
   "outputs": [],
   "source": [
    "# save model and architecture to single file\n",
    "model_2.save(\"/home_l/francovm/Projects/SSE/models/Binary_clasifier_NN_SSE_95.h5\")"
   ]
  },
  {
   "cell_type": "markdown",
   "metadata": {},
   "source": []
  },
  {
   "cell_type": "code",
   "execution_count": null,
   "metadata": {},
   "outputs": [],
   "source": [
    "# # load model\n",
    "# model = load_model('NN_SSE_95.h5')\n",
    "# # summarize model.\n",
    "# model.summary()\n",
    "\n"
   ]
  },
  {
   "cell_type": "code",
   "execution_count": null,
   "metadata": {},
   "outputs": [],
   "source": [
    "# # load dataset\n",
    "# dataset = loadtxt(\"pima-indians-diabetes.csv\", delimiter=\",\")\n",
    "# # split into input (X) and output (Y) variables\n",
    "# X = dataset[:,0:8]\n",
    "# Y = dataset[:,8]\n",
    "# # evaluate the model\n",
    "# score = model.evaluate(X, Y, verbose=0)\n",
    "# print(\"%s: %.2f%%\" % (model.metrics_names[1], score[1]*100))"
   ]
  },
  {
   "cell_type": "code",
   "execution_count": null,
   "metadata": {},
   "outputs": [],
   "source": []
  },
  {
   "cell_type": "code",
   "execution_count": null,
   "metadata": {},
   "outputs": [],
   "source": []
  }
 ],
 "metadata": {
  "kernelspec": {
   "display_name": "Python 3",
   "language": "python",
   "name": "python3"
  },
  "language_info": {
   "codemirror_mode": {
    "name": "ipython",
    "version": 3
   },
   "file_extension": ".py",
   "mimetype": "text/x-python",
   "name": "python",
   "nbconvert_exporter": "python",
   "pygments_lexer": "ipython3",
   "version": "3.7.4"
  }
 },
 "nbformat": 4,
 "nbformat_minor": 4
}
