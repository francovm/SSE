{
 "cells": [
  {
   "cell_type": "code",
   "execution_count": 13,
   "metadata": {},
   "outputs": [
    {
     "name": "stderr",
     "output_type": "stream",
     "text": [
      "/home/francovm/anaconda3/envs/keras/lib/python3.7/site-packages/tensorflow/python/client/session.py:1735: UserWarning: An interactive session is already active. This can cause out-of-memory errors in some cases. You must explicitly call `InteractiveSession.close()` to release resources held by the other session(s).\n",
      "  warnings.warn('An interactive session is already active. This can '\n"
     ]
    }
   ],
   "source": [
    "from keras.models import Sequential\n",
    "from keras.layers import Dense\n",
    "from keras.utils import to_categorical\n",
    "from keras.callbacks import EarlyStopping\n",
    "import matplotlib.pyplot as plt\n",
    "import numpy as np\n",
    "import pandas as pd\n",
    "from sklearn.model_selection import train_test_split\n",
    "from keras.layers import Dropout\n",
    "\n",
    "from keras.models import load_model\n",
    "\n",
    "import tensorflow as tf\n",
    "sess = tf.InteractiveSession()"
   ]
  },
  {
   "cell_type": "code",
   "execution_count": 14,
   "metadata": {},
   "outputs": [],
   "source": [
    "# fix random seed for reproducibility\n",
    "seed = 7\n",
    "np.random.seed(seed)\n",
    "\n",
    "# load  dataset\n",
    "dataset = pd.read_csv('/home/francovm/Projects/SSE/data/processed/input_data.csv', sep='\\t', encoding='utf-8')\n",
    "\n",
    "\n",
    "# split into input (X) and output (Y) variables\n",
    "\n",
    "train_X = dataset.drop(columns=['Events'])\n",
    "\n",
    "# one-hot encode target column\n",
    "train_Y = to_categorical(dataset.Events)\n",
    "\n",
    "\n",
    "#get number of columns in training data\n",
    "n_cols = train_X.shape[1]\n"
   ]
  },
  {
   "cell_type": "code",
   "execution_count": 15,
   "metadata": {},
   "outputs": [
    {
     "data": {
      "text/plain": [
       "Index(['x', 'n', 'u', 'Events'], dtype='object')"
      ]
     },
     "execution_count": 15,
     "metadata": {},
     "output_type": "execute_result"
    }
   ],
   "source": [
    "dataset.columns"
   ]
  },
  {
   "cell_type": "code",
   "execution_count": 16,
   "metadata": {},
   "outputs": [],
   "source": [
    "# partition the data into training and testing splits using 66% of\n",
    "# the data for training and the remaining 33% for testing\n",
    "X_train, X_test, y_train, y_test = train_test_split(train_X, train_Y, test_size=0.33, random_state=seed)"
   ]
  },
  {
   "cell_type": "code",
   "execution_count": 17,
   "metadata": {},
   "outputs": [
    {
     "data": {
      "text/plain": [
       "(153909, 3)"
      ]
     },
     "execution_count": 17,
     "metadata": {},
     "output_type": "execute_result"
    }
   ],
   "source": [
    "X_train.shape"
   ]
  },
  {
   "cell_type": "code",
   "execution_count": 18,
   "metadata": {},
   "outputs": [
    {
     "data": {
      "text/plain": [
       "array([[1., 0.],\n",
       "       [1., 0.],\n",
       "       [1., 0.],\n",
       "       ...,\n",
       "       [1., 0.],\n",
       "       [1., 0.],\n",
       "       [1., 0.]], dtype=float32)"
      ]
     },
     "execution_count": 18,
     "metadata": {},
     "output_type": "execute_result"
    }
   ],
   "source": [
    "y_train\n",
    "\n",
    "# plt.plot(y_train)"
   ]
  },
  {
   "cell_type": "code",
   "execution_count": 19,
   "metadata": {},
   "outputs": [
    {
     "name": "stdout",
     "output_type": "stream",
     "text": [
      "WARNING:tensorflow:From /home/francovm/anaconda3/envs/keras/lib/python3.7/site-packages/tensorflow/python/ops/math_grad.py:1250: add_dispatch_support.<locals>.wrapper (from tensorflow.python.ops.array_ops) is deprecated and will be removed in a future version.\n",
      "Instructions for updating:\n",
      "Use tf.where in 2.0, which has the same broadcast rule as np.where\n",
      "WARNING:tensorflow:From /home/francovm/anaconda3/envs/keras/lib/python3.7/site-packages/keras/backend/tensorflow_backend.py:422: The name tf.global_variables is deprecated. Please use tf.compat.v1.global_variables instead.\n",
      "\n",
      "Train on 107736 samples, validate on 46173 samples\n",
      "Epoch 1/64\n",
      "107736/107736 [==============================] - 17s 155us/step - loss: 0.2231 - accuracy: 0.9570 - val_loss: 0.1772 - val_accuracy: 0.9579\n",
      "Epoch 2/64\n",
      "107736/107736 [==============================] - 15s 143us/step - loss: 0.1777 - accuracy: 0.9573 - val_loss: 0.1745 - val_accuracy: 0.9579\n",
      "Epoch 3/64\n",
      "107736/107736 [==============================] - 16s 152us/step - loss: 0.1765 - accuracy: 0.9573 - val_loss: 0.1704 - val_accuracy: 0.9579\n",
      "Epoch 4/64\n",
      "107736/107736 [==============================] - 17s 155us/step - loss: 0.1747 - accuracy: 0.9573 - val_loss: 0.1702 - val_accuracy: 0.9579\n",
      "Epoch 5/64\n",
      "107736/107736 [==============================] - 15s 142us/step - loss: 0.1738 - accuracy: 0.9573 - val_loss: 0.1701 - val_accuracy: 0.9579\n",
      "Epoch 6/64\n",
      "107736/107736 [==============================] - 17s 154us/step - loss: 0.1736 - accuracy: 0.9573 - val_loss: 0.1713 - val_accuracy: 0.9579\n",
      "Epoch 7/64\n",
      "107736/107736 [==============================] - 16s 153us/step - loss: 0.1729 - accuracy: 0.9573 - val_loss: 0.1698 - val_accuracy: 0.9579\n",
      "Epoch 8/64\n",
      "107736/107736 [==============================] - 17s 153us/step - loss: 0.1727 - accuracy: 0.9573 - val_loss: 0.1718 - val_accuracy: 0.9579\n",
      "Epoch 9/64\n",
      "107736/107736 [==============================] - 14s 128us/step - loss: 0.1726 - accuracy: 0.9573 - val_loss: 0.1705 - val_accuracy: 0.9579\n",
      "Epoch 10/64\n",
      "107736/107736 [==============================] - 17s 159us/step - loss: 0.1721 - accuracy: 0.9573 - val_loss: 0.1699 - val_accuracy: 0.9579\n",
      "Epoch 11/64\n",
      "107736/107736 [==============================] - 13s 123us/step - loss: 0.1725 - accuracy: 0.9573 - val_loss: 0.1706 - val_accuracy: 0.9579\n",
      "Epoch 12/64\n",
      "107736/107736 [==============================] - 16s 146us/step - loss: 0.1724 - accuracy: 0.9573 - val_loss: 0.1689 - val_accuracy: 0.9579\n",
      "Epoch 13/64\n",
      "107736/107736 [==============================] - 16s 146us/step - loss: 0.1722 - accuracy: 0.9573 - val_loss: 0.1688 - val_accuracy: 0.9579\n",
      "Epoch 14/64\n",
      "107736/107736 [==============================] - 17s 159us/step - loss: 0.1716 - accuracy: 0.9573 - val_loss: 0.1720 - val_accuracy: 0.9579\n",
      "Epoch 15/64\n",
      "107736/107736 [==============================] - 16s 152us/step - loss: 0.1712 - accuracy: 0.9573 - val_loss: 0.1693 - val_accuracy: 0.9579\n",
      "Epoch 16/64\n",
      "107736/107736 [==============================] - 16s 149us/step - loss: 0.1717 - accuracy: 0.9573 - val_loss: 0.1689 - val_accuracy: 0.9579\n",
      "Epoch 17/64\n",
      "107736/107736 [==============================] - 15s 140us/step - loss: 0.1716 - accuracy: 0.9573 - val_loss: 0.1688 - val_accuracy: 0.9579\n",
      "Epoch 18/64\n",
      "107736/107736 [==============================] - 19s 174us/step - loss: 0.1714 - accuracy: 0.9573 - val_loss: 0.1696 - val_accuracy: 0.9579\n",
      "Epoch 19/64\n",
      "107736/107736 [==============================] - 19s 172us/step - loss: 0.1716 - accuracy: 0.9573 - val_loss: 0.1693 - val_accuracy: 0.9579\n",
      "Epoch 20/64\n",
      "107736/107736 [==============================] - 18s 170us/step - loss: 0.1718 - accuracy: 0.9573 - val_loss: 0.1700 - val_accuracy: 0.9579\n",
      "Epoch 21/64\n",
      "107736/107736 [==============================] - 17s 153us/step - loss: 0.1707 - accuracy: 0.9573 - val_loss: 0.1691 - val_accuracy: 0.9579\n",
      "Epoch 22/64\n",
      "107736/107736 [==============================] - 17s 157us/step - loss: 0.1712 - accuracy: 0.9573 - val_loss: 0.1699 - val_accuracy: 0.9579\n"
     ]
    }
   ],
   "source": [
    "model_2 = Sequential()\n",
    "\n",
    "#add layers to model\n",
    "model_2.add(Dense(512, activation='relu', input_shape=(n_cols,)))\n",
    "# model_2.add(Dropout(0.5))\n",
    "model_2.add(Dense(512, activation='relu'))\n",
    "model_2.add(Dropout(0.2))\n",
    "model_2.add(Dense(2, activation='sigmoid'))\n",
    "\n",
    "# Compile model\n",
    "\n",
    "model_2.compile(optimizer='adam', loss='categorical_crossentropy', metrics=['accuracy'])\n",
    "\n",
    "\n",
    "#set early stopping monitor so the model stops training when it won't improve anymore\n",
    "early_stopping_monitor = EarlyStopping(patience=5)\n",
    "\n",
    "# Fit the model\n",
    "\n",
    "\n",
    "\n",
    "history = model_2.fit(X_train,y_train, \n",
    "                      epochs=64, \n",
    "                      validation_split=0.3, \n",
    "                      callbacks=[early_stopping_monitor])\n",
    "\n",
    "# history = model_2.fit(train_X,train_Y, epochs=40, validation_data=(X_test,y_test), callbacks=[early_stopping_monitor])\n",
    "\n"
   ]
  },
  {
   "cell_type": "code",
   "execution_count": 23,
   "metadata": {},
   "outputs": [
    {
     "name": "stdout",
     "output_type": "stream",
     "text": [
      "dict_keys(['val_loss', 'val_accuracy', 'loss', 'accuracy'])\n"
     ]
    },
    {
     "data": {
      "image/png": "[encoded data removed]",
      "text/plain": [
       "<Figure size 1296x288 with 1 Axes>"
      ]
     },
     "metadata": {
      "needs_background": "light"
     },
     "output_type": "display_data"
    },
    {
     "data": {
      "image/png": "[encoded data removed]",
      "text/plain": [
       "<Figure size 1296x288 with 1 Axes>"
      ]
     },
     "metadata": {
      "needs_background": "light"
     },
     "output_type": "display_data"
    }
   ],
   "source": [
    "# list all data in history\n",
    "print(history.history.keys())\n",
    "\n",
    "# summarize history for accuracy\n",
    "plt.plot(history.history['accuracy'])\n",
    "plt.plot(history.history['val_accuracy'])\n",
    "plt.title('model accuracy')\n",
    "plt.ylabel('accuracy')\n",
    "plt.xlabel('epoch')\n",
    "plt.legend(['train', 'val'], loc='upper left')\n",
    "\n",
    "# Get current size\n",
    "fig_size = plt.rcParams[\"figure.figsize\"]\n",
    "#  Set figure width to 18 and height to 4\n",
    "fig_size[0] = 18\n",
    "fig_size[1] = 4\n",
    "plt.rcParams[\"figure.figsize\"] = fig_size\n",
    "\n",
    "plt.show()\n",
    "\n",
    "# summarize history for loss\n",
    "plt.plot(history.history['loss'])\n",
    "plt.plot(history.history['val_loss'])\n",
    "plt.title('model loss')\n",
    "plt.ylabel('loss')\n",
    "plt.xlabel('epoch')\n",
    "plt.legend(['train', 'val'], loc='upper left')\n",
    " # Get current size\n",
    "fig_size = plt.rcParams[\"figure.figsize\"]\n",
    "\n",
    "# Set figure width to 18 and height to 4\n",
    "fig_size[0] = 18\n",
    "fig_size[1] = 4\n",
    "plt.rcParams[\"figure.figsize\"] = fig_size\n",
    "\n",
    "plt.show()"
   ]
  },
  {
   "cell_type": "code",
   "execution_count": 74,
   "metadata": {},
   "outputs": [],
   "source": []
  },
  {
   "cell_type": "code",
   "execution_count": 24,
   "metadata": {},
   "outputs": [
    {
     "name": "stdout",
     "output_type": "stream",
     "text": [
      "75807/75807 [==============================] - 2s 27us/step\n",
      "95.63760757446289\n"
     ]
    }
   ],
   "source": [
    "# evaluate the model\n",
    "scores = model_2.evaluate(X_test,y_test)\n",
    "print((scores[1]*100))"
   ]
  },
  {
   "cell_type": "code",
   "execution_count": 25,
   "metadata": {},
   "outputs": [
    {
     "data": {
      "text/plain": [
       "array([[0., 1.],\n",
       "       [1., 0.],\n",
       "       [1., 0.],\n",
       "       ...,\n",
       "       [1., 0.],\n",
       "       [1., 0.],\n",
       "       [1., 0.]], dtype=float32)"
      ]
     },
     "execution_count": 25,
     "metadata": {},
     "output_type": "execute_result"
    }
   ],
   "source": [
    "y_test"
   ]
  },
  {
   "cell_type": "code",
   "execution_count": 26,
   "metadata": {},
   "outputs": [],
   "source": [
    "ynew = model_2.predict(X_test)\n",
    "\n",
    "# ynew = np.argmax(ynew[:])"
   ]
  },
  {
   "cell_type": "code",
   "execution_count": 27,
   "metadata": {},
   "outputs": [
    {
     "data": {
      "text/plain": [
       "(75807, 2)"
      ]
     },
     "execution_count": 27,
     "metadata": {},
     "output_type": "execute_result"
    }
   ],
   "source": [
    "ynew.shape"
   ]
  },
  {
   "cell_type": "code",
   "execution_count": 31,
   "metadata": {},
   "outputs": [
    {
     "data": {
      "text/plain": [
       "array([[1.        , 0.03582388],\n",
       "       [1.        , 0.11009198],\n",
       "       [1.        , 0.04321671],\n",
       "       ...,\n",
       "       [1.        , 0.02782053],\n",
       "       [1.        , 0.04234353],\n",
       "       [1.        , 0.04025927]], dtype=float32)"
      ]
     },
     "execution_count": 31,
     "metadata": {},
     "output_type": "execute_result"
    }
   ],
   "source": [
    "ynew"
   ]
  },
  {
   "cell_type": "code",
   "execution_count": 32,
   "metadata": {},
   "outputs": [
    {
     "data": {
      "image/png": "[encoded data removed]",
      "text/plain": [
       "<Figure size 1296x288 with 1 Axes>"
      ]
     },
     "metadata": {
      "needs_background": "light"
     },
     "output_type": "display_data"
    }
   ],
   "source": [
    "plt.plot(ynew) # plotting by columns\n",
    "plt.axhline(0.5)\n",
    "plt.show()"
   ]
  },
  {
   "cell_type": "code",
   "execution_count": 97,
   "metadata": {},
   "outputs": [
    {
     "data": {
      "text/plain": [
       "array([[2.0386726e-01],\n",
       "       [6.5261841e-02],\n",
       "       [1.4901161e-07],\n",
       "       ...,\n",
       "       [3.8702101e-02],\n",
       "       [1.1518244e-01],\n",
       "       [6.2616006e-02]], dtype=float32)"
      ]
     },
     "execution_count": 97,
     "metadata": {},
     "output_type": "execute_result"
    }
   ],
   "source": [
    "ynew"
   ]
  },
  {
   "cell_type": "markdown",
   "metadata": {},
   "source": [
    "# Save the Model (Keras)"
   ]
  },
  {
   "cell_type": "code",
   "execution_count": 30,
   "metadata": {},
   "outputs": [],
   "source": [
    "# save model and architecture to single file\n",
    "model_2.save(\"/home/francovm/Projects/SSE/models/NN/Binary_clasifier_NN_SSE_95.h5\")"
   ]
  },
  {
   "cell_type": "markdown",
   "metadata": {},
   "source": []
  },
  {
   "cell_type": "code",
   "execution_count": null,
   "metadata": {},
   "outputs": [],
   "source": [
    "# # load model\n",
    "# model = load_model('NN_SSE_95.h5')\n",
    "# # summarize model.\n",
    "# model.summary()\n",
    "\n"
   ]
  },
  {
   "cell_type": "code",
   "execution_count": null,
   "metadata": {},
   "outputs": [],
   "source": [
    "# # load dataset\n",
    "# dataset = loadtxt(\"pima-indians-diabetes.csv\", delimiter=\",\")\n",
    "# # split into input (X) and output (Y) variables\n",
    "# X = dataset[:,0:8]\n",
    "# Y = dataset[:,8]\n",
    "# # evaluate the model\n",
    "# score = model.evaluate(X, Y, verbose=0)\n",
    "# print(\"%s: %.2f%%\" % (model.metrics_names[1], score[1]*100))"
   ]
  },
  {
   "cell_type": "code",
   "execution_count": null,
   "metadata": {},
   "outputs": [],
   "source": []
  },
  {
   "cell_type": "code",
   "execution_count": null,
   "metadata": {},
   "outputs": [],
   "source": []
  }
 ],
 "metadata": {
  "kernelspec": {
   "display_name": "Python 3",
   "language": "python",
   "name": "python3"
  },
  "language_info": {
   "codemirror_mode": {
    "name": "ipython",
    "version": 3
   },
   "file_extension": ".py",
   "mimetype": "text/x-python",
   "name": "python",
   "nbconvert_exporter": "python",
   "pygments_lexer": "ipython3",
   "version": "3.7.3"
  }
 },
 "nbformat": 4,
 "nbformat_minor": 4
}
