{
 "cells": [
  {
   "cell_type": "markdown",
   "metadata": {},
   "source": [
    "## Explore Overfitting and Underfitting\n",
    "\n",
    "We'll explore two common regularization techniques—weight regularization and dropout—and"
   ]
  },
  {
   "cell_type": "code",
   "execution_count": 74,
   "metadata": {},
   "outputs": [],
   "source": [
    "from keras.models import Sequential\n",
    "from keras.layers import Dense\n",
    "from keras.utils import to_categorical\n",
    "from keras.callbacks import EarlyStopping\n",
    "import matplotlib.pyplot as plt\n",
    "import numpy\n",
    "import pandas as pd\n",
    "from sklearn.model_selection import train_test_split\n",
    "import tensorflow as tf\n",
    "from tensorflow import keras\n",
    "from keras.layers import Dropout"
   ]
  },
  {
   "cell_type": "code",
   "execution_count": 75,
   "metadata": {},
   "outputs": [],
   "source": [
    "# fix random seed for reproducibility\n",
    "seed = 7\n",
    "numpy.random.seed(seed)\n",
    "# load  dataset\n",
    "\n",
    "dataset = pd.read_csv('/home/francovm/Projects/SSE/data/processed/input_data.csv', sep='\\t', encoding='utf-8' ,index_col=0)\n",
    "\n",
    "\n",
    "X_data = dataset.drop(columns=['Events'])\n",
    "\n",
    "#one-hot encode target column\n",
    "Y_data = to_categorical(dataset.Events)\n",
    "\n",
    "\n",
    "#get number of columns in training data\n",
    "n_cols = X_data.shape[1]\n"
   ]
  },
  {
   "cell_type": "code",
   "execution_count": 76,
   "metadata": {},
   "outputs": [],
   "source": [
    "# split into 67% for train and 33% for test\n",
    "X_train, X_test, y_train, y_test = train_test_split(X_data, Y_data, test_size=0.33, random_state=seed)"
   ]
  },
  {
   "cell_type": "markdown",
   "metadata": {},
   "source": [
    "# Baseline Model"
   ]
  },
  {
   "cell_type": "code",
   "execution_count": 77,
   "metadata": {},
   "outputs": [
    {
     "name": "stdout",
     "output_type": "stream",
     "text": [
      "_________________________________________________________________\n",
      "Layer (type)                 Output Shape              Param #   \n",
      "=================================================================\n",
      "dense_67 (Dense)             (None, 16)                112       \n",
      "_________________________________________________________________\n",
      "dense_68 (Dense)             (None, 16)                272       \n",
      "_________________________________________________________________\n",
      "dense_69 (Dense)             (None, 2)                 34        \n",
      "=================================================================\n",
      "Total params: 418\n",
      "Trainable params: 418\n",
      "Non-trainable params: 0\n",
      "_________________________________________________________________\n"
     ]
    }
   ],
   "source": [
    "baseline_model = Sequential()\n",
    "\n",
    "#add layers to model\n",
    "baseline_model.add(Dense(16, activation='relu', input_shape=(n_cols,)))\n",
    "baseline_model.add(Dense(16, activation='relu'))\n",
    "baseline_model.add(Dense(2, activation='sigmoid'))\n",
    "\n",
    "baseline_model.compile(optimizer='adam',\n",
    "                       loss='categorical_crossentropy',\n",
    "                       metrics=['accuracy', 'binary_accuracy'])\n",
    "\n",
    "baseline_model.summary()"
   ]
  },
  {
   "cell_type": "code",
   "execution_count": 78,
   "metadata": {},
   "outputs": [
    {
     "name": "stdout",
     "output_type": "stream",
     "text": [
      "Train on 106799 samples, validate on 45771 samples\n",
      "Epoch 1/20\n",
      "106799/106799 [==============================] - 5s 43us/step - loss: 0.2092 - acc: 0.9558 - binary_accuracy: 0.9551 - val_loss: 0.1668 - val_acc: 0.9585 - val_binary_accuracy: 0.9583\n",
      "Epoch 2/20\n",
      "106799/106799 [==============================] - 3s 30us/step - loss: 0.1764 - acc: 0.9558 - binary_accuracy: 0.9546 - val_loss: 0.1628 - val_acc: 0.9585 - val_binary_accuracy: 0.9569\n",
      "Epoch 3/20\n",
      "106799/106799 [==============================] - 3s 31us/step - loss: 0.1736 - acc: 0.9558 - binary_accuracy: 0.9536 - val_loss: 0.1645 - val_acc: 0.9585 - val_binary_accuracy: 0.9559\n",
      "Epoch 4/20\n",
      "106799/106799 [==============================] - 3s 31us/step - loss: 0.1721 - acc: 0.9559 - binary_accuracy: 0.9524 - val_loss: 0.1606 - val_acc: 0.9586 - val_binary_accuracy: 0.9551\n",
      "Epoch 5/20\n",
      "106799/106799 [==============================] - 3s 31us/step - loss: 0.1705 - acc: 0.9559 - binary_accuracy: 0.9504 - val_loss: 0.1600 - val_acc: 0.9586 - val_binary_accuracy: 0.9532\n",
      "Epoch 6/20\n",
      "106799/106799 [==============================] - 4s 34us/step - loss: 0.1699 - acc: 0.9559 - binary_accuracy: 0.9493 - val_loss: 0.1623 - val_acc: 0.9585 - val_binary_accuracy: 0.9547\n",
      "Epoch 7/20\n",
      "106799/106799 [==============================] - 3s 31us/step - loss: 0.1691 - acc: 0.9559 - binary_accuracy: 0.9491 - val_loss: 0.1616 - val_acc: 0.9585 - val_binary_accuracy: 0.9523\n",
      "Epoch 8/20\n",
      "106799/106799 [==============================] - 4s 36us/step - loss: 0.1689 - acc: 0.9559 - binary_accuracy: 0.9481 - val_loss: 0.1594 - val_acc: 0.9585 - val_binary_accuracy: 0.9533\n",
      "Epoch 9/20\n",
      "106799/106799 [==============================] - 3s 31us/step - loss: 0.1690 - acc: 0.9558 - binary_accuracy: 0.9489 - val_loss: 0.1601 - val_acc: 0.9585 - val_binary_accuracy: 0.9549\n",
      "Epoch 10/20\n",
      "106799/106799 [==============================] - 4s 33us/step - loss: 0.1682 - acc: 0.9558 - binary_accuracy: 0.9486 - val_loss: 0.1608 - val_acc: 0.9585 - val_binary_accuracy: 0.9530\n",
      "Epoch 11/20\n",
      "106799/106799 [==============================] - 3s 32us/step - loss: 0.1680 - acc: 0.9559 - binary_accuracy: 0.9491 - val_loss: 0.1581 - val_acc: 0.9586 - val_binary_accuracy: 0.9537\n",
      "Epoch 12/20\n",
      "106799/106799 [==============================] - 3s 32us/step - loss: 0.1675 - acc: 0.9559 - binary_accuracy: 0.9486 - val_loss: 0.1600 - val_acc: 0.9585 - val_binary_accuracy: 0.9525\n",
      "Epoch 13/20\n",
      "106799/106799 [==============================] - 3s 32us/step - loss: 0.1677 - acc: 0.9558 - binary_accuracy: 0.9489 - val_loss: 0.1599 - val_acc: 0.9585 - val_binary_accuracy: 0.9534\n",
      "Epoch 14/20\n",
      "106799/106799 [==============================] - 3s 32us/step - loss: 0.1673 - acc: 0.9559 - binary_accuracy: 0.9486 - val_loss: 0.1579 - val_acc: 0.9585 - val_binary_accuracy: 0.9528\n",
      "Epoch 15/20\n",
      "106799/106799 [==============================] - 4s 33us/step - loss: 0.1672 - acc: 0.9558 - binary_accuracy: 0.9486 - val_loss: 0.1599 - val_acc: 0.9586 - val_binary_accuracy: 0.9502\n",
      "Epoch 16/20\n",
      "106799/106799 [==============================] - 3s 32us/step - loss: 0.1670 - acc: 0.9559 - binary_accuracy: 0.9480 - val_loss: 0.1598 - val_acc: 0.9585 - val_binary_accuracy: 0.9523\n",
      "Epoch 17/20\n",
      "106799/106799 [==============================] - 4s 33us/step - loss: 0.1669 - acc: 0.9558 - binary_accuracy: 0.9487 - val_loss: 0.1626 - val_acc: 0.9584 - val_binary_accuracy: 0.9525\n",
      "Epoch 18/20\n",
      "106799/106799 [==============================] - 4s 34us/step - loss: 0.1669 - acc: 0.9558 - binary_accuracy: 0.9488 - val_loss: 0.1585 - val_acc: 0.9585 - val_binary_accuracy: 0.9511\n",
      "Epoch 19/20\n",
      "106799/106799 [==============================] - 3s 32us/step - loss: 0.1666 - acc: 0.9558 - binary_accuracy: 0.9481 - val_loss: 0.1582 - val_acc: 0.9585 - val_binary_accuracy: 0.9546\n"
     ]
    }
   ],
   "source": [
    "\n",
    "#set early stopping monitor so the model stops training when it won't improve anymore\n",
    "early_stopping_monitor = EarlyStopping(patience=5)\n",
    "\n",
    "# Fit the model\n",
    "\n",
    "baseline_history = baseline_model.fit(X_train,y_train, \n",
    "                      epochs=20, \n",
    "                      validation_split=0.3,\n",
    "                      batch_size=64,\n",
    "                      callbacks=[early_stopping_monitor],\n",
    "                      verbose=1)"
   ]
  },
  {
   "cell_type": "code",
   "execution_count": 79,
   "metadata": {},
   "outputs": [
    {
     "name": "stdout",
     "output_type": "stream",
     "text": [
      "_________________________________________________________________\n",
      "Layer (type)                 Output Shape              Param #   \n",
      "=================================================================\n",
      "dense_70 (Dense)             (None, 4)                 28        \n",
      "_________________________________________________________________\n",
      "dense_71 (Dense)             (None, 4)                 20        \n",
      "_________________________________________________________________\n",
      "dense_72 (Dense)             (None, 2)                 10        \n",
      "=================================================================\n",
      "Total params: 58\n",
      "Trainable params: 58\n",
      "Non-trainable params: 0\n",
      "_________________________________________________________________\n"
     ]
    }
   ],
   "source": [
    "smaller_model = Sequential()\n",
    "\n",
    "#add layers to model\n",
    "smaller_model.add(Dense(4, activation='relu', input_shape=(n_cols,)))\n",
    "smaller_model.add(Dense(4, activation='relu'))\n",
    "smaller_model.add(Dense(2, activation='sigmoid'))\n",
    "\n",
    "smaller_model.compile(optimizer='adam',\n",
    "                       loss='categorical_crossentropy',\n",
    "                       metrics=['accuracy', 'binary_accuracy'])\n",
    "\n",
    "smaller_model.summary()\n",
    "\n"
   ]
  },
  {
   "cell_type": "code",
   "execution_count": 80,
   "metadata": {},
   "outputs": [
    {
     "name": "stdout",
     "output_type": "stream",
     "text": [
      "Train on 106799 samples, validate on 45771 samples\n",
      "Epoch 1/20\n",
      "106799/106799 [==============================] - 4s 41us/step - loss: 0.3172 - acc: 0.8232 - binary_accuracy: 0.8766 - val_loss: 0.1675 - val_acc: 0.9585 - val_binary_accuracy: 0.9585\n",
      "Epoch 2/20\n",
      "106799/106799 [==============================] - 3s 30us/step - loss: 0.1767 - acc: 0.9558 - binary_accuracy: 0.9556 - val_loss: 0.1664 - val_acc: 0.9585 - val_binary_accuracy: 0.9582\n",
      "Epoch 3/20\n",
      "106799/106799 [==============================] - 3s 30us/step - loss: 0.1757 - acc: 0.9558 - binary_accuracy: 0.9556 - val_loss: 0.1652 - val_acc: 0.9585 - val_binary_accuracy: 0.9584\n",
      "Epoch 4/20\n",
      "106799/106799 [==============================] - 3s 31us/step - loss: 0.1754 - acc: 0.9558 - binary_accuracy: 0.9557 - val_loss: 0.1703 - val_acc: 0.9585 - val_binary_accuracy: 0.9570\n",
      "Epoch 5/20\n",
      "106799/106799 [==============================] - 3s 31us/step - loss: 0.1749 - acc: 0.9558 - binary_accuracy: 0.9557 - val_loss: 0.1670 - val_acc: 0.9585 - val_binary_accuracy: 0.9585\n",
      "Epoch 6/20\n",
      "106799/106799 [==============================] - 4s 34us/step - loss: 0.1749 - acc: 0.9558 - binary_accuracy: 0.9557 - val_loss: 0.1641 - val_acc: 0.9585 - val_binary_accuracy: 0.9585\n",
      "Epoch 7/20\n",
      "106799/106799 [==============================] - 3s 32us/step - loss: 0.1747 - acc: 0.9558 - binary_accuracy: 0.9558 - val_loss: 0.1648 - val_acc: 0.9585 - val_binary_accuracy: 0.9585\n",
      "Epoch 8/20\n",
      "106799/106799 [==============================] - 4s 33us/step - loss: 0.1745 - acc: 0.9558 - binary_accuracy: 0.9558 - val_loss: 0.1639 - val_acc: 0.9585 - val_binary_accuracy: 0.9585\n",
      "Epoch 9/20\n",
      "106799/106799 [==============================] - 3s 31us/step - loss: 0.1741 - acc: 0.9558 - binary_accuracy: 0.9558 - val_loss: 0.1656 - val_acc: 0.9585 - val_binary_accuracy: 0.9585\n",
      "Epoch 10/20\n",
      "106799/106799 [==============================] - 3s 32us/step - loss: 0.1743 - acc: 0.9558 - binary_accuracy: 0.9558 - val_loss: 0.1655 - val_acc: 0.9585 - val_binary_accuracy: 0.9585\n",
      "Epoch 11/20\n",
      "106799/106799 [==============================] - 3s 30us/step - loss: 0.1741 - acc: 0.9558 - binary_accuracy: 0.9558 - val_loss: 0.1650 - val_acc: 0.9585 - val_binary_accuracy: 0.9585\n",
      "Epoch 12/20\n",
      "106799/106799 [==============================] - 3s 31us/step - loss: 0.1738 - acc: 0.9558 - binary_accuracy: 0.9558 - val_loss: 0.1662 - val_acc: 0.9585 - val_binary_accuracy: 0.9585\n",
      "Epoch 13/20\n",
      "106799/106799 [==============================] - 3s 31us/step - loss: 0.1740 - acc: 0.9558 - binary_accuracy: 0.9558 - val_loss: 0.1640 - val_acc: 0.9585 - val_binary_accuracy: 0.9585\n"
     ]
    }
   ],
   "source": [
    "# Fit the model\n",
    "\n",
    "smaller_history = smaller_model.fit(X_train,y_train, \n",
    "                      epochs=20, \n",
    "                      validation_split=0.3,\n",
    "                      batch_size=64,\n",
    "                      callbacks=[early_stopping_monitor],\n",
    "                      verbose=1)"
   ]
  },
  {
   "cell_type": "code",
   "execution_count": 81,
   "metadata": {},
   "outputs": [
    {
     "name": "stdout",
     "output_type": "stream",
     "text": [
      "_________________________________________________________________\n",
      "Layer (type)                 Output Shape              Param #   \n",
      "=================================================================\n",
      "dense_73 (Dense)             (None, 512)               3584      \n",
      "_________________________________________________________________\n",
      "dense_74 (Dense)             (None, 512)               262656    \n",
      "_________________________________________________________________\n",
      "dense_75 (Dense)             (None, 2)                 1026      \n",
      "=================================================================\n",
      "Total params: 267,266\n",
      "Trainable params: 267,266\n",
      "Non-trainable params: 0\n",
      "_________________________________________________________________\n"
     ]
    }
   ],
   "source": [
    "\n",
    "bigger_model = Sequential()\n",
    "\n",
    "#add layers to model\n",
    "bigger_model.add(Dense(512, activation='relu', input_shape=(n_cols,)))\n",
    "bigger_model.add(Dense(512,activation='relu'))\n",
    "bigger_model.add(Dense(2, activation='sigmoid'))\n",
    "\n",
    "bigger_model.compile(optimizer='adam',\n",
    "                       loss='categorical_crossentropy',\n",
    "                       metrics=['accuracy', 'binary_accuracy'])\n",
    "\n",
    "bigger_model.summary()\n"
   ]
  },
  {
   "cell_type": "code",
   "execution_count": 82,
   "metadata": {},
   "outputs": [
    {
     "name": "stdout",
     "output_type": "stream",
     "text": [
      "Train on 106799 samples, validate on 45771 samples\n",
      "Epoch 1/20\n",
      "106799/106799 [==============================] - 10s 93us/step - loss: 0.2393 - acc: 0.9544 - binary_accuracy: 0.9298 - val_loss: 0.1666 - val_acc: 0.9585 - val_binary_accuracy: 0.9585\n",
      "Epoch 2/20\n",
      "106799/106799 [==============================] - 9s 81us/step - loss: 0.1753 - acc: 0.9558 - binary_accuracy: 0.9558 - val_loss: 0.1699 - val_acc: 0.9585 - val_binary_accuracy: 0.9585\n",
      "Epoch 3/20\n",
      "106799/106799 [==============================] - 9s 81us/step - loss: 0.1720 - acc: 0.9558 - binary_accuracy: 0.9558 - val_loss: 0.1620 - val_acc: 0.9585 - val_binary_accuracy: 0.9585\n",
      "Epoch 4/20\n",
      "106799/106799 [==============================] - 9s 84us/step - loss: 0.1707 - acc: 0.9558 - binary_accuracy: 0.9558 - val_loss: 0.1625 - val_acc: 0.9585 - val_binary_accuracy: 0.9585\n",
      "Epoch 5/20\n",
      "106799/106799 [==============================] - 9s 85us/step - loss: 0.1696 - acc: 0.9558 - binary_accuracy: 0.9558 - val_loss: 0.1585 - val_acc: 0.9585 - val_binary_accuracy: 0.9585\n",
      "Epoch 6/20\n",
      "106799/106799 [==============================] - 9s 82us/step - loss: 0.1684 - acc: 0.9558 - binary_accuracy: 0.9558 - val_loss: 0.1589 - val_acc: 0.9585 - val_binary_accuracy: 0.9586\n",
      "Epoch 7/20\n",
      "106799/106799 [==============================] - 9s 81us/step - loss: 0.1677 - acc: 0.9558 - binary_accuracy: 0.9557 - val_loss: 0.1582 - val_acc: 0.9585 - val_binary_accuracy: 0.9586\n",
      "Epoch 8/20\n",
      "106799/106799 [==============================] - 9s 82us/step - loss: 0.1669 - acc: 0.9558 - binary_accuracy: 0.9558 - val_loss: 0.1602 - val_acc: 0.9585 - val_binary_accuracy: 0.9586\n",
      "Epoch 9/20\n",
      "106799/106799 [==============================] - 9s 81us/step - loss: 0.1669 - acc: 0.9558 - binary_accuracy: 0.9556 - val_loss: 0.1590 - val_acc: 0.9585 - val_binary_accuracy: 0.9584\n",
      "Epoch 10/20\n",
      "106799/106799 [==============================] - 9s 82us/step - loss: 0.1663 - acc: 0.9558 - binary_accuracy: 0.9557 - val_loss: 0.1568 - val_acc: 0.9585 - val_binary_accuracy: 0.9585\n",
      "Epoch 11/20\n",
      "106799/106799 [==============================] - 10s 89us/step - loss: 0.1662 - acc: 0.9558 - binary_accuracy: 0.9557 - val_loss: 0.1585 - val_acc: 0.9585 - val_binary_accuracy: 0.9585\n",
      "Epoch 12/20\n",
      "106799/106799 [==============================] - 9s 83us/step - loss: 0.1659 - acc: 0.9558 - binary_accuracy: 0.9556 - val_loss: 0.1575 - val_acc: 0.9585 - val_binary_accuracy: 0.9584\n",
      "Epoch 13/20\n",
      "106799/106799 [==============================] - 9s 83us/step - loss: 0.1651 - acc: 0.9558 - binary_accuracy: 0.9557 - val_loss: 0.1570 - val_acc: 0.9585 - val_binary_accuracy: 0.9586\n",
      "Epoch 14/20\n",
      "106799/106799 [==============================] - 9s 83us/step - loss: 0.1648 - acc: 0.9558 - binary_accuracy: 0.9557 - val_loss: 0.1565 - val_acc: 0.9585 - val_binary_accuracy: 0.9581\n",
      "Epoch 15/20\n",
      "106799/106799 [==============================] - 9s 83us/step - loss: 0.1646 - acc: 0.9558 - binary_accuracy: 0.9557 - val_loss: 0.1591 - val_acc: 0.9585 - val_binary_accuracy: 0.9580\n",
      "Epoch 16/20\n",
      "106799/106799 [==============================] - 9s 84us/step - loss: 0.1645 - acc: 0.9558 - binary_accuracy: 0.9555 - val_loss: 0.1567 - val_acc: 0.9585 - val_binary_accuracy: 0.9584\n",
      "Epoch 17/20\n",
      "106799/106799 [==============================] - 9s 85us/step - loss: 0.1644 - acc: 0.9558 - binary_accuracy: 0.9556 - val_loss: 0.1559 - val_acc: 0.9585 - val_binary_accuracy: 0.9584\n",
      "Epoch 18/20\n",
      "106799/106799 [==============================] - 10s 91us/step - loss: 0.1638 - acc: 0.9558 - binary_accuracy: 0.9555 - val_loss: 0.1573 - val_acc: 0.9585 - val_binary_accuracy: 0.9585\n",
      "Epoch 19/20\n",
      "106799/106799 [==============================] - 9s 85us/step - loss: 0.1634 - acc: 0.9558 - binary_accuracy: 0.9556 - val_loss: 0.1557 - val_acc: 0.9585 - val_binary_accuracy: 0.9585\n",
      "Epoch 20/20\n",
      "106799/106799 [==============================] - 9s 85us/step - loss: 0.1635 - acc: 0.9558 - binary_accuracy: 0.9557 - val_loss: 0.1558 - val_acc: 0.9585 - val_binary_accuracy: 0.9585\n"
     ]
    }
   ],
   "source": [
    "# Fit the model\n",
    "\n",
    "bigger_history = bigger_model.fit(X_train,y_train, \n",
    "                      epochs=20, \n",
    "                      validation_split=0.3,\n",
    "                      batch_size=64,\n",
    "                      callbacks=[early_stopping_monitor],\n",
    "                      verbose=1)"
   ]
  },
  {
   "cell_type": "code",
   "execution_count": 83,
   "metadata": {},
   "outputs": [
    {
     "ename": "KeyError",
     "evalue": "'val_binary_crossentropy'",
     "output_type": "error",
     "traceback": [
      "\u001b[0;31m---------------------------------------------------------------------------\u001b[0m",
      "\u001b[0;31mKeyError\u001b[0m                                  Traceback (most recent call last)",
      "\u001b[0;32m<ipython-input-83-dcf9990b5017>\u001b[0m in \u001b[0;36m<module>\u001b[0;34m\u001b[0m\n\u001b[1;32m     17\u001b[0m plot_history([('baseline', baseline_history),\n\u001b[1;32m     18\u001b[0m               \u001b[0;34m(\u001b[0m\u001b[0;34m'smaller'\u001b[0m\u001b[0;34m,\u001b[0m \u001b[0msmaller_history\u001b[0m\u001b[0;34m)\u001b[0m\u001b[0;34m,\u001b[0m\u001b[0;34m\u001b[0m\u001b[0;34m\u001b[0m\u001b[0m\n\u001b[0;32m---> 19\u001b[0;31m               ('bigger', bigger_history)])\n\u001b[0m",
      "\u001b[0;32m<ipython-input-83-dcf9990b5017>\u001b[0m in \u001b[0;36mplot_history\u001b[0;34m(histories, key)\u001b[0m\n\u001b[1;32m      3\u001b[0m \u001b[0;34m\u001b[0m\u001b[0m\n\u001b[1;32m      4\u001b[0m   \u001b[0;32mfor\u001b[0m \u001b[0mname\u001b[0m\u001b[0;34m,\u001b[0m \u001b[0mhistory\u001b[0m \u001b[0;32min\u001b[0m \u001b[0mhistories\u001b[0m\u001b[0;34m:\u001b[0m\u001b[0;34m\u001b[0m\u001b[0;34m\u001b[0m\u001b[0m\n\u001b[0;32m----> 5\u001b[0;31m     val = plt.plot(history.epoch, history.history['val_'+key],\n\u001b[0m\u001b[1;32m      6\u001b[0m                    '--', label=name.title()+' Val')\n\u001b[1;32m      7\u001b[0m     plt.plot(history.epoch, history.history[key], color=val[0].get_color(),\n",
      "\u001b[0;31mKeyError\u001b[0m: 'val_binary_crossentropy'"
     ]
    },
    {
     "data": {
      "text/plain": [
       "<Figure size 1152x720 with 0 Axes>"
      ]
     },
     "metadata": {},
     "output_type": "display_data"
    }
   ],
   "source": [
    "def plot_history(histories, key='binary_crossentropy'):\n",
    "  plt.figure(figsize=(16,10))\n",
    "\n",
    "  for name, history in histories:\n",
    "    val = plt.plot(history.epoch, history.history['val_'+key],\n",
    "                   '--', label=name.title()+' Val')\n",
    "    plt.plot(history.epoch, history.history[key], color=val[0].get_color(),\n",
    "             label=name.title()+' Train')\n",
    "\n",
    "  plt.xlabel('Epochs')\n",
    "  plt.ylabel(key.replace('_',' ').title())\n",
    "  plt.legend()\n",
    "\n",
    "  plt.xlim([-2,max(history.epoch)])\n",
    "\n",
    "\n",
    "plot_history([('baseline', baseline_history),\n",
    "              ('smaller', smaller_history),\n",
    "              ('bigger', bigger_history)])"
   ]
  },
  {
   "cell_type": "markdown",
   "metadata": {},
   "source": [
    "# Regularization\n",
    "\n",
    "## *L2*"
   ]
  },
  {
   "cell_type": "code",
   "execution_count": null,
   "metadata": {},
   "outputs": [],
   "source": [
    "l2_model = Sequential()\n",
    "\n",
    "#add layers to model\n",
    "l2_model.add(Dense(512, activation='relu', kernel_regularizer=keras.regularizers.l2(0.001),input_shape=(n_cols,)))\n",
    "l2_model.add(Dense(512,activation='relu',kernel_regularizer=keras.regularizers.l2(0.001)))\n",
    "l2_model.add(Dense(2, activation='sigmoid'))\n",
    "\n",
    "l2_model.compile(optimizer='adam',\n",
    "                       loss='categorical_crossentropy',\n",
    "                       metrics=['accuracy', 'binary_accuracy'])\n",
    "\n",
    "l2_model.summary()"
   ]
  },
  {
   "cell_type": "code",
   "execution_count": null,
   "metadata": {},
   "outputs": [],
   "source": [
    "\n",
    "# Fit the model\n",
    "\n",
    "l2_model_history =  l2_model.fit(X_train,y_train, \n",
    "                      epochs=20, \n",
    "                      validation_split=0.3,\n",
    "                      batch_size=64,\n",
    "                      callbacks=[early_stopping_monitor],\n",
    "                      verbose=1)"
   ]
  },
  {
   "cell_type": "code",
   "execution_count": null,
   "metadata": {},
   "outputs": [],
   "source": [
    "plot_history([('baseline', bigger_history),\n",
    "              ('l2', l2_model_history)])"
   ]
  },
  {
   "cell_type": "markdown",
   "metadata": {},
   "source": [
    "## *Dropout*"
   ]
  },
  {
   "cell_type": "code",
   "execution_count": null,
   "metadata": {},
   "outputs": [],
   "source": [
    "dpt_model = Sequential()\n",
    "\n",
    "#add layers to model\n",
    "dpt_model.add(Dense(512, activation='relu',input_shape=(n_cols,)))\n",
    "dpt_model.add(Dropout(0.5))\n",
    "dpt_model.add(Dense(512,activation='relu'))\n",
    "dpt_model.add(Dropout(0.5))\n",
    "dpt_model.add(Dense(2, activation='sigmoid'))\n",
    "\n",
    "dpt_model.compile(optimizer='adam',\n",
    "                       loss='categorical_crossentropy',\n",
    "                       metrics=['accuracy', 'binary_accuracy'])\n",
    "\n",
    "dpt_model.summary()\n",
    "\n",
    "\n",
    "# Fit the model\n",
    "\n",
    "dpt_model_history =  dpt_model.fit(X_train,y_train, \n",
    "                      epochs=20, \n",
    "                      validation_split=0.3,\n",
    "                      batch_size=64,\n",
    "                      callbacks=[early_stopping_monitor],\n",
    "                      verbose=1)"
   ]
  },
  {
   "cell_type": "code",
   "execution_count": null,
   "metadata": {},
   "outputs": [],
   "source": [
    "plot_history([('baseline', bigger_history),\n",
    "              ('dropout', dpt_model_history)])"
   ]
  },
  {
   "cell_type": "code",
   "execution_count": null,
   "metadata": {},
   "outputs": [],
   "source": [
    "# evaluate the model\n",
    "scores = bigger_model.evaluate(X_test,y_test)\n",
    "print((scores[1]*100))"
   ]
  },
  {
   "cell_type": "markdown",
   "metadata": {},
   "source": [
    "# USE THIS FUNCTION TO FIND BATCH SIZE, JUST EXACTLY BEFORE STARTING YOUR TRAINING/ TESTING."
   ]
  },
  {
   "cell_type": "code",
   "execution_count": null,
   "metadata": {},
   "outputs": [],
   "source": [
    "def FindBatchSize(model):\n",
    "    \"\"\"#model: model architecture, that is yet to be trained\"\"\"\n",
    "    import os, sys, psutil, gc, tensorflow, keras\n",
    "    import numpy as np\n",
    "    from keras import backend as K\n",
    "    BatchFound= 16\n",
    "\n",
    "    try:\n",
    "        total_params= int(model.count_params());    GCPU= \"CPU\"\n",
    "        #find whether gpu is available\n",
    "        try:\n",
    "            if K.tensorflow_backend._get_available_gpus()== []:\n",
    "                GCPU= \"CPU\";    #CPU and Cuda9GPU\n",
    "            else:\n",
    "                GCPU= \"GPU\"\n",
    "        except:\n",
    "            from tensorflow.python.client import device_lib;    #Cuda8GPU\n",
    "            def get_available_gpus():\n",
    "                local_device_protos= device_lib.list_local_devices()\n",
    "                return [x.name for x in local_device_protos if x.device_type == 'GPU']\n",
    "            if \"gpu\" not in str(get_available_gpus()).lower():\n",
    "                GCPU= \"CPU\"\n",
    "            else:\n",
    "                GCPU= \"GPU\"\n",
    "\n",
    "        #decide batch size on the basis of GPU availability and model complexity\n",
    "        if (GCPU== \"GPU\") and (os.cpu_count() >15) and (total_params <1000000):\n",
    "            BatchFound= 64    \n",
    "        if (os.cpu_count() <16) and (total_params <500000):\n",
    "            BatchFound= 64  \n",
    "        if (GCPU== \"GPU\") and (os.cpu_count() >15) and (total_params <2000000) and (total_params >=1000000):\n",
    "            BatchFound= 32      \n",
    "        if (GCPU== \"GPU\") and (os.cpu_count() >15) and (total_params >=2000000) and (total_params <10000000):\n",
    "            BatchFound= 16  \n",
    "        if (GCPU== \"GPU\") and (os.cpu_count() >15) and (total_params >=10000000):\n",
    "            BatchFound= 8       \n",
    "        if (os.cpu_count() <16) and (total_params >5000000):\n",
    "            BatchFound= 8    \n",
    "        if total_params >100000000:\n",
    "            BatchFound= 1\n",
    "\n",
    "    except:\n",
    "        pass\n",
    "    try:\n",
    "\n",
    "        #find percentage of memory used\n",
    "        memoryused= psutil.virtual_memory()\n",
    "        memoryused= float(str(memoryused).replace(\" \", \"\").split(\"percent=\")[1].split(\",\")[0])\n",
    "        if memoryused >75.0:\n",
    "            BatchFound= 8\n",
    "        if memoryused >85.0:\n",
    "            BatchFound= 4\n",
    "        if memoryused >90.0:\n",
    "            BatchFound= 2\n",
    "        if total_params >100000000:\n",
    "            BatchFound= 1\n",
    "        print(\"Batch Size:  \"+ str(BatchFound));    gc.collect()\n",
    "    except:\n",
    "        pass\n",
    "\n",
    "    memoryused= [];    total_params= [];    GCPU= \"\";\n",
    "    del memoryused, total_params, GCPU;    gc.collect()\n",
    "    return BatchFound\n",
    "\n",
    "\n",
    "\n",
    "#####################################################################################################\n",
    "#####################################################################################################"
   ]
  },
  {
   "cell_type": "code",
   "execution_count": null,
   "metadata": {},
   "outputs": [],
   "source": [
    "FindBatchSize(baseline_model)"
   ]
  },
  {
   "cell_type": "code",
   "execution_count": null,
   "metadata": {},
   "outputs": [],
   "source": []
  },
  {
   "cell_type": "code",
   "execution_count": null,
   "metadata": {},
   "outputs": [],
   "source": []
  },
  {
   "cell_type": "code",
   "execution_count": null,
   "metadata": {},
   "outputs": [],
   "source": []
  },
  {
   "cell_type": "code",
   "execution_count": null,
   "metadata": {},
   "outputs": [],
   "source": []
  }
 ],
 "metadata": {
  "kernelspec": {
   "display_name": "Python 3",
   "language": "python",
   "name": "python3"
  },
  "language_info": {
   "codemirror_mode": {
    "name": "ipython",
    "version": 3
   },
   "file_extension": ".py",
   "mimetype": "text/x-python",
   "name": "python",
   "nbconvert_exporter": "python",
   "pygments_lexer": "ipython3",
   "version": "3.7.3"
  }
 },
 "nbformat": 4,
 "nbformat_minor": 4
}
