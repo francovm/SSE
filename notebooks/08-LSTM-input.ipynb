{
 "cells": [
  {
   "cell_type": "code",
   "execution_count": 41,
   "metadata": {},
   "outputs": [],
   "source": [
    "import matplotlib.pyplot as plt\n",
    "import numpy as np\n",
    "import pandas as pd\n",
    "from pylab import rcParams\n",
    "\n",
    "from sklearn.model_selection import train_test_split\n",
    "\n",
    "from keras.models import Sequential\n",
    "from keras.layers import Dense\n",
    "from keras.layers import Flatten\n",
    "from keras.layers import Dropout\n",
    "from keras.layers import LSTM\n",
    "from keras.utils import to_categorical\n",
    "\n",
    "from numpy.random import seed\n",
    "seed(7)\n",
    "from tensorflow import set_random_seed\n",
    "set_random_seed(11)\n",
    "\n"
   ]
  },
  {
   "cell_type": "code",
   "execution_count": 42,
   "metadata": {},
   "outputs": [],
   "source": [
    "SEED = 123 #used to help randomly select the data points\n",
    "DATA_SPLIT_PCT = 0.2\n",
    "\n",
    "rcParams['figure.figsize'] = 8, 6\n",
    "LABELS = [\"Normal\",\"Break\"]"
   ]
  },
  {
   "cell_type": "code",
   "execution_count": 43,
   "metadata": {},
   "outputs": [],
   "source": [
    "# load  dataset\n",
    "df = pd.read_csv('/home/francovm/Projects/SSE/data/processed/input_data.csv', sep='\\t', encoding='utf-8')\n"
   ]
  },
  {
   "cell_type": "code",
   "execution_count": 44,
   "metadata": {},
   "outputs": [
    {
     "data": {
      "text/html": [
       "<div>\n",
       "<style scoped>\n",
       "    .dataframe tbody tr th:only-of-type {\n",
       "        vertical-align: middle;\n",
       "    }\n",
       "\n",
       "    .dataframe tbody tr th {\n",
       "        vertical-align: top;\n",
       "    }\n",
       "\n",
       "    .dataframe thead th {\n",
       "        text-align: right;\n",
       "    }\n",
       "</style>\n",
       "<table border=\"1\" class=\"dataframe\">\n",
       "  <thead>\n",
       "    <tr style=\"text-align: right;\">\n",
       "      <th></th>\n",
       "      <th>x</th>\n",
       "      <th>n</th>\n",
       "      <th>u</th>\n",
       "      <th>Events</th>\n",
       "    </tr>\n",
       "  </thead>\n",
       "  <tbody>\n",
       "    <tr>\n",
       "      <th>0</th>\n",
       "      <td>-12.28</td>\n",
       "      <td>-92.30</td>\n",
       "      <td>-9.23</td>\n",
       "      <td>0.0</td>\n",
       "    </tr>\n",
       "    <tr>\n",
       "      <th>1</th>\n",
       "      <td>-12.58</td>\n",
       "      <td>-92.54</td>\n",
       "      <td>-11.31</td>\n",
       "      <td>0.0</td>\n",
       "    </tr>\n",
       "    <tr>\n",
       "      <th>2</th>\n",
       "      <td>-13.16</td>\n",
       "      <td>-92.24</td>\n",
       "      <td>-8.02</td>\n",
       "      <td>0.0</td>\n",
       "    </tr>\n",
       "    <tr>\n",
       "      <th>3</th>\n",
       "      <td>-13.21</td>\n",
       "      <td>-92.20</td>\n",
       "      <td>-11.51</td>\n",
       "      <td>0.0</td>\n",
       "    </tr>\n",
       "    <tr>\n",
       "      <th>4</th>\n",
       "      <td>-12.92</td>\n",
       "      <td>-93.19</td>\n",
       "      <td>-10.20</td>\n",
       "      <td>0.0</td>\n",
       "    </tr>\n",
       "  </tbody>\n",
       "</table>\n",
       "</div>"
      ],
      "text/plain": [
       "       x      n      u  Events\n",
       "0 -12.28 -92.30  -9.23     0.0\n",
       "1 -12.58 -92.54 -11.31     0.0\n",
       "2 -13.16 -92.24  -8.02     0.0\n",
       "3 -13.21 -92.20 -11.51     0.0\n",
       "4 -12.92 -93.19 -10.20     0.0"
      ]
     },
     "execution_count": 44,
     "metadata": {},
     "output_type": "execute_result"
    }
   ],
   "source": [
    "df.head()"
   ]
  },
  {
   "cell_type": "code",
   "execution_count": 45,
   "metadata": {},
   "outputs": [
    {
     "name": "stdout",
     "output_type": "stream",
     "text": [
      "(229716, 3) (229716,)\n"
     ]
    }
   ],
   "source": [
    "input_X = df.loc[:, df.columns != 'Events'].values  # converts the df to a numpy array\n",
    "input_y = df['Events'].values\n",
    "\n",
    "n_features = input_X.shape[1]  # number of features\n",
    "\n",
    "print(input_X.shape,input_y.shape)"
   ]
  },
  {
   "cell_type": "code",
   "execution_count": 46,
   "metadata": {},
   "outputs": [],
   "source": [
    "def temporalize(X, y, lookback):\n",
    "    X = []\n",
    "    y = []\n",
    "    for i in range(len(input_X)-lookback-1):\n",
    "        t = []\n",
    "        for j in range(1,lookback+1):\n",
    "            # Gather past records upto the lookback period\n",
    "            t.append(input_X[[(i+j+1)], :])\n",
    "        X.append(t)\n",
    "        y.append(input_y[i+lookback+1])\n",
    "    return X, y\n"
   ]
  },
  {
   "cell_type": "code",
   "execution_count": 47,
   "metadata": {},
   "outputs": [],
   "source": [
    "# Temporalize the data\n",
    "lookback = 5\n",
    "X, y = temporalize(X = input_X, y = input_y, lookback = lookback)\n",
    "\n"
   ]
  },
  {
   "cell_type": "code",
   "execution_count": 48,
   "metadata": {},
   "outputs": [],
   "source": [
    "#Split into Test, valid and train\n",
    "\n",
    "X_train, X_test, y_train, y_test = train_test_split(np.array(X), np.array(y), test_size=DATA_SPLIT_PCT, random_state=SEED)\n",
    "\n",
    "X_train, X_valid, y_train, y_valid = train_test_split(X_train, y_train, test_size=DATA_SPLIT_PCT, random_state=SEED)"
   ]
  },
  {
   "cell_type": "code",
   "execution_count": 49,
   "metadata": {},
   "outputs": [],
   "source": [
    "# Reshape the arrays\n",
    "\n",
    "X_train = X_train.reshape(X_train.shape[0], lookback, n_features)\n",
    "# X_train_y0 = X_train_y0.reshape(X_train_y0.shape[0], lookback, n_features)\n",
    "# X_train_y1 = X_train_y1.reshape(X_train_y1.shape[0], lookback, n_features)\n",
    "X_valid = X_valid.reshape(X_valid.shape[0], lookback, n_features)\n",
    "# X_valid_y0 = X_valid_y0.reshape(X_valid_y0.shape[0], lookback, n_features)\n",
    "# X_valid_y1 = X_valid_y1.reshape(X_valid_y1.shape[0], lookback, n_features)b\n",
    "X_test = X_test.reshape(X_test.shape[0], lookback, n_features)"
   ]
  },
  {
   "cell_type": "code",
   "execution_count": 50,
   "metadata": {},
   "outputs": [
    {
     "data": {
      "text/plain": [
       "(147014,)"
      ]
     },
     "execution_count": 50,
     "metadata": {},
     "output_type": "execute_result"
    }
   ],
   "source": [
    "y_train.shape"
   ]
  },
  {
   "cell_type": "code",
   "execution_count": 51,
   "metadata": {},
   "outputs": [],
   "source": [
    "## To Categorical Data\n",
    "\n",
    "# y_train = to_categorical(y_train)\n",
    "# y_test = to_categorical(y_test)\n",
    "# y_valid = to_categorical(y_valid)\n",
    "\n",
    "# print(y_valid.shape, y_test.shape, y_train.shape)"
   ]
  },
  {
   "cell_type": "code",
   "execution_count": 56,
   "metadata": {},
   "outputs": [
    {
     "name": "stdout",
     "output_type": "stream",
     "text": [
      "5 3 1\n"
     ]
    }
   ],
   "source": [
    "n_timesteps, n_features, n_outputs = X_train.shape[1], X_train.shape[2], 1\n",
    "print(n_timesteps,n_features,n_outputs)"
   ]
  },
  {
   "cell_type": "code",
   "execution_count": 57,
   "metadata": {},
   "outputs": [],
   "source": [
    "# fit and evaluate a model\n",
    "def evaluate_model(X_train, y_train, X_test, y_test):\n",
    "    \n",
    "    verbose, epochs, batch_size = 1, 15, 64\n",
    "    n_timesteps, n_features, n_outputs = X_train.shape[1], X_train.shape[2], y_train.shape[1]\n",
    "    \n",
    "    model = Sequential()\n",
    "    model.add(LSTM(100, input_shape=(n_timesteps,n_features)))\n",
    "    model.add(Dropout(0.5))\n",
    "    model.add(Dense(100, activation='relu'))\n",
    "#     model.add(Dense(n_outputs, activation='softmax'))\n",
    "    model.add(Dense(n_outputs, activation='sigmoid'))\n",
    "    model.compile(loss='categorical_crossentropy', optimizer='adam', metrics=['accuracy'])\n",
    "    \n",
    "    # fit network\n",
    "    model.fit(X_train, y_train, epochs=epochs, batch_size=batch_size ,validation_data=(X_valid, y_valid),verbose=verbose)\n",
    "    # evaluate model\n",
    "    _, accuracy = model.evaluate(X_test, y_test, batch_size=batch_size, verbose=0)\n",
    "    \n",
    "    return accuracy"
   ]
  },
  {
   "cell_type": "code",
   "execution_count": 30,
   "metadata": {},
   "outputs": [],
   "source": [
    "# summarize scores\n",
    "def summarize_results(scores):\n",
    "    print(scores)\n",
    "    m, s = np.mean(scores), np.std(scores)\n",
    "    print('Accuracy: %.3f%% (+/-%.3f)' % (m, s))\n"
   ]
  },
  {
   "cell_type": "code",
   "execution_count": 31,
   "metadata": {},
   "outputs": [
    {
     "name": "stdout",
     "output_type": "stream",
     "text": [
      "Train on 147014 samples, validate on 36754 samples\n",
      "Epoch 1/15\n",
      "147014/147014 [==============================] - 54s 368us/step - loss: 0.1778 - acc: 0.9569 - val_loss: 0.1741 - val_acc: 0.9574\n",
      "Epoch 2/15\n",
      "147014/147014 [==============================] - 52s 356us/step - loss: 0.1728 - acc: 0.9571 - val_loss: 0.1702 - val_acc: 0.9574\n",
      "Epoch 3/15\n",
      "147014/147014 [==============================] - 52s 355us/step - loss: 0.1709 - acc: 0.9571 - val_loss: 0.1745 - val_acc: 0.9574\n",
      "Epoch 4/15\n",
      "147014/147014 [==============================] - 52s 355us/step - loss: 0.1698 - acc: 0.9571 - val_loss: 0.1681 - val_acc: 0.9574\n",
      "Epoch 5/15\n",
      "147014/147014 [==============================] - 52s 354us/step - loss: 0.1688 - acc: 0.9571 - val_loss: 0.1678 - val_acc: 0.9574\n",
      "Epoch 6/15\n",
      "147014/147014 [==============================] - 52s 354us/step - loss: 0.1682 - acc: 0.9571 - val_loss: 0.1664 - val_acc: 0.9574\n",
      "Epoch 7/15\n",
      "147014/147014 [==============================] - 52s 353us/step - loss: 0.1675 - acc: 0.9571 - val_loss: 0.1657 - val_acc: 0.9574\n",
      "Epoch 8/15\n",
      "147014/147014 [==============================] - 53s 358us/step - loss: 0.1670 - acc: 0.9571 - val_loss: 0.1660 - val_acc: 0.9573\n",
      "Epoch 9/15\n",
      "147014/147014 [==============================] - 52s 355us/step - loss: 0.1665 - acc: 0.9571 - val_loss: 0.1645 - val_acc: 0.9574\n",
      "Epoch 10/15\n",
      "147014/147014 [==============================] - 52s 354us/step - loss: 0.1657 - acc: 0.9571 - val_loss: 0.1652 - val_acc: 0.9574\n",
      "Epoch 11/15\n",
      "147014/147014 [==============================] - 52s 356us/step - loss: 0.1650 - acc: 0.9571 - val_loss: 0.1643 - val_acc: 0.9574\n",
      "Epoch 12/15\n",
      "147014/147014 [==============================] - 52s 356us/step - loss: 0.1645 - acc: 0.9572 - val_loss: 0.1639 - val_acc: 0.9575\n",
      "Epoch 13/15\n",
      "147014/147014 [==============================] - 52s 356us/step - loss: 0.1638 - acc: 0.9572 - val_loss: 0.1639 - val_acc: 0.9573\n",
      "Epoch 14/15\n",
      "147014/147014 [==============================] - 52s 356us/step - loss: 0.1633 - acc: 0.9573 - val_loss: 0.1637 - val_acc: 0.9571\n",
      "Epoch 15/15\n",
      "147014/147014 [==============================] - 52s 357us/step - loss: 0.1623 - acc: 0.9574 - val_loss: 0.1624 - val_acc: 0.9575\n",
      ">#1: 95.697\n",
      "Train on 147014 samples, validate on 36754 samples\n",
      "Epoch 1/15\n",
      "147014/147014 [==============================] - 54s 366us/step - loss: 0.1790 - acc: 0.9561 - val_loss: 0.1720 - val_acc: 0.9574\n",
      "Epoch 2/15\n",
      "147014/147014 [==============================] - 52s 353us/step - loss: 0.1729 - acc: 0.9571 - val_loss: 0.1702 - val_acc: 0.9573\n",
      "Epoch 3/15\n",
      "147014/147014 [==============================] - 52s 353us/step - loss: 0.1710 - acc: 0.9571 - val_loss: 0.1694 - val_acc: 0.9574\n",
      "Epoch 4/15\n",
      "147014/147014 [==============================] - 52s 353us/step - loss: 0.1701 - acc: 0.9571 - val_loss: 0.1730 - val_acc: 0.9573\n",
      "Epoch 5/15\n",
      "147014/147014 [==============================] - 52s 351us/step - loss: 0.1688 - acc: 0.9571 - val_loss: 0.1676 - val_acc: 0.9574\n",
      "Epoch 6/15\n",
      "147014/147014 [==============================] - 52s 352us/step - loss: 0.1682 - acc: 0.9571 - val_loss: 0.1684 - val_acc: 0.9574\n",
      "Epoch 7/15\n",
      "147014/147014 [==============================] - 52s 352us/step - loss: 0.1674 - acc: 0.9571 - val_loss: 0.1679 - val_acc: 0.9575\n",
      "Epoch 8/15\n",
      "147014/147014 [==============================] - 52s 354us/step - loss: 0.1669 - acc: 0.9571 - val_loss: 0.1674 - val_acc: 0.9574\n",
      "Epoch 9/15\n",
      "147014/147014 [==============================] - 52s 351us/step - loss: 0.1665 - acc: 0.9572 - val_loss: 0.1645 - val_acc: 0.9574\n",
      "Epoch 10/15\n",
      "147014/147014 [==============================] - 52s 352us/step - loss: 0.1654 - acc: 0.9572 - val_loss: 0.1645 - val_acc: 0.9575\n",
      "Epoch 11/15\n",
      "147014/147014 [==============================] - 52s 355us/step - loss: 0.1648 - acc: 0.9572 - val_loss: 0.1649 - val_acc: 0.9574\n",
      "Epoch 12/15\n",
      "147014/147014 [==============================] - 52s 353us/step - loss: 0.1640 - acc: 0.9573 - val_loss: 0.1648 - val_acc: 0.9574\n",
      "Epoch 13/15\n",
      "147014/147014 [==============================] - 52s 355us/step - loss: 0.1637 - acc: 0.9573 - val_loss: 0.1642 - val_acc: 0.9573\n",
      "Epoch 14/15\n",
      "147014/147014 [==============================] - 52s 356us/step - loss: 0.1628 - acc: 0.9575 - val_loss: 0.1632 - val_acc: 0.9575\n",
      "Epoch 15/15\n",
      "147014/147014 [==============================] - 52s 353us/step - loss: 0.1625 - acc: 0.9575 - val_loss: 0.1634 - val_acc: 0.9576\n",
      ">#2: 95.714\n",
      "[95.69674807054436, 95.714161330742]\n",
      "Accuracy: 95.705% (+/-0.009)\n"
     ]
    }
   ],
   "source": [
    "# run an experiment\n",
    "def run_experiment(repeats=2):\n",
    "    # repeat experiment\n",
    "    scores = list()\n",
    "    for r in range(repeats):\n",
    "        score = evaluate_model(X_train, y_train, X_test, y_test)\n",
    "        score = score * 100.0\n",
    "        print('>#%d: %.3f' % (r+1, score))\n",
    "        scores.append(score)\n",
    "    # summarize results\n",
    "    summarize_results(scores)\n",
    " \n",
    "    # run the experiment\n",
    "run_experiment()"
   ]
  },
  {
   "cell_type": "markdown",
   "metadata": {},
   "source": [
    "# Prediction\n"
   ]
  },
  {
   "cell_type": "code",
   "execution_count": 33,
   "metadata": {},
   "outputs": [
    {
     "name": "stdout",
     "output_type": "stream",
     "text": [
      "45942/45942 [==============================] - 5s 108us/step\n"
     ]
    }
   ],
   "source": [
    "verbose, epochs, batch_size = 1, 15, 64\n",
    "n_timesteps, n_features, n_outputs = X_train.shape[1], X_train.shape[2], y_train.shape[1]\n",
    "\n",
    "model = Sequential()\n",
    "model.add(LSTM(100, input_shape=(n_timesteps,n_features)))\n",
    "model.add(Dropout(0.5))\n",
    "model.add(Dense(100, activation='relu'))\n",
    "#     model.add(Dense(n_outputs, activation='softmax'))\n",
    "model.add(Dense(n_outputs, activation='sigmoid'))\n",
    "model.compile(loss='categorical_crossentropy', optimizer='adam', metrics=['accuracy'])\n",
    "\n",
    "# fit network\n",
    "model.fit(X_train, y_train, epochs=epochs, batch_size=batch_size,validation_data=(X_valid, y_valid), verbose=1)\n",
    "# evaluate model\n",
    "accuracy = model.evaluate(X_test, y_test, batch_size=batch_size, verbose=1)"
   ]
  },
  {
   "cell_type": "code",
   "execution_count": 34,
   "metadata": {},
   "outputs": [],
   "source": [
    "ynew = model.predict(X_test)"
   ]
  },
  {
   "cell_type": "code",
   "execution_count": 35,
   "metadata": {},
   "outputs": [
    {
     "data": {
      "text/plain": [
       "array([[0.999305  , 0.0869877 ],\n",
       "       [0.9999215 , 0.09365356],\n",
       "       [0.9963194 , 0.12642685],\n",
       "       ...,\n",
       "       [0.99999315, 0.04352778],\n",
       "       [0.99981725, 0.07028905],\n",
       "       [0.99984956, 0.05866513]], dtype=float32)"
      ]
     },
     "execution_count": 35,
     "metadata": {},
     "output_type": "execute_result"
    }
   ],
   "source": [
    "ynew"
   ]
  },
  {
   "cell_type": "code",
   "execution_count": 40,
   "metadata": {},
   "outputs": [
    {
     "data": {
      "image/png": "[encoded data removed]",
      "text/plain": [
       "<Figure size 576x432 with 1 Axes>"
      ]
     },
     "metadata": {
      "needs_background": "light"
     },
     "output_type": "display_data"
    }
   ],
   "source": [
    "plt.plot(ynew) # plotting by columns\n",
    "# plt.plot(X_test[1])\n",
    "plt.axhline(0.5)\n",
    "plt.show()"
   ]
  },
  {
   "cell_type": "code",
   "execution_count": null,
   "metadata": {},
   "outputs": [],
   "source": []
  }
 ],
 "metadata": {
  "kernelspec": {
   "display_name": "Python 3",
   "language": "python",
   "name": "python3"
  },
  "language_info": {
   "codemirror_mode": {
    "name": "ipython",
    "version": 3
   },
   "file_extension": ".py",
   "mimetype": "text/x-python",
   "name": "python",
   "nbconvert_exporter": "python",
   "pygments_lexer": "ipython3",
   "version": "3.7.4"
  }
 },
 "nbformat": 4,
 "nbformat_minor": 4
}
