{
 "cells": [
  {
   "cell_type": "code",
   "execution_count": 1,
   "metadata": {},
   "outputs": [],
   "source": [
    "import matplotlib.pyplot as plt\n",
    "import numpy as np\n",
    "import pandas as pd\n",
    "from pylab import rcParams"
   ]
  },
  {
   "cell_type": "code",
   "execution_count": 6,
   "metadata": {},
   "outputs": [],
   "source": [
    "# initialize list of lists \n",
    "data1 = [['gisb-2002', 6.8, 14], \n",
    "         ['gisb-2004', 6.7, 17],\n",
    "         ['tolaga-2004', 6.3, 20],\n",
    "         ['hawkesBay-2006', 6.4,7],\n",
    "         ['gisb-2006', 6.3, 6],\n",
    "         ['hawkesBay-2006-2', 6.8,7],\n",
    "         ['gisb-2007', 6.5, 34],\n",
    "         ['hawkesBay-2008', 6.4, 5],\n",
    "         ['mahia 2008', 6.7, 15],\n",
    "         ['tolaga-2008',6.4, 12],\n",
    "         ['tolaga-2010', 6.5, 14],\n",
    "         ['gisb-2010', 6.7, 16]] \n",
    "  \n",
    "# Create the pandas DataFrame \n",
    "df1 = pd.DataFrame(data1, columns = ['SSE', 'Magnitude', 'Duration']) \n",
    "  \n",
    "# print dataframe. \n",
    "df1.sort_values(by=['Magnitude'], inplace=True)\n",
    "\n"
   ]
  },
  {
   "cell_type": "code",
   "execution_count": 8,
   "metadata": {},
   "outputs": [
    {
     "data": {
      "text/plain": [
       "[<matplotlib.lines.Line2D at 0x7f08be894048>]"
      ]
     },
     "execution_count": 8,
     "metadata": {},
     "output_type": "execute_result"
    },
    {
     "data": {
      "image/png": "[encoded data removed]",
      "text/plain": [
       "<Figure size 432x288 with 1 Axes>"
      ]
     },
     "metadata": {
      "needs_background": "light"
     },
     "output_type": "display_data"
    }
   ],
   "source": [
    "plt.plot(df1['Duration'], df1['Magnitude'])"
   ]
  },
  {
   "cell_type": "code",
   "execution_count": 9,
   "metadata": {},
   "outputs": [],
   "source": [
    "# initialize list of lists \n",
    "data2 = [['hawkesBay-2010', 6.8, 36], \n",
    "         ['gisb-2010', 6.9, 27],\n",
    "         ['east-cape-2010', 6.2, 7],\n",
    "         ['gisb-2011', 6.4, 53],\n",
    "         ['east-cape-2011', 6.3, 18],\n",
    "         ['cape-turnagain-2011', 6.6, 30],\n",
    "         ['mahia-2011', 6.1, 7],\n",
    "         ['hawkesBay-2011', 6.5, 15],\n",
    "         ['east-cape-2011-2', 6.0, 28],\n",
    "         ['mahia-2011-2',5.9, 14],\n",
    "         ['gisb-2011-2', 6.5, 21]] \n",
    "  \n",
    "# Create the pandas DataFrame \n",
    "df2 = pd.DataFrame(data2, columns = ['SSE', 'Magnitude', 'Duration']) \n",
    "  \n",
    "# print dataframe. \n",
    "df2.sort_values(by=['Magnitude'], inplace=True)\n"
   ]
  },
  {
   "cell_type": "code",
   "execution_count": 10,
   "metadata": {},
   "outputs": [
    {
     "data": {
      "text/plain": [
       "[<matplotlib.lines.Line2D at 0x7f08bda23358>]"
      ]
     },
     "execution_count": 10,
     "metadata": {},
     "output_type": "execute_result"
    },
    {
     "data": {
      "image/png": "[encoded data removed]",
      "text/plain": [
       "<Figure size 432x288 with 1 Axes>"
      ]
     },
     "metadata": {
      "needs_background": "light"
     },
     "output_type": "display_data"
    }
   ],
   "source": [
    "plt.plot(df2['Duration'], df2['Magnitude'])"
   ]
  },
  {
   "cell_type": "code",
   "execution_count": 46,
   "metadata": {},
   "outputs": [],
   "source": [
    "df_todo = pd.concat([df1,df2], axis=0)"
   ]
  },
  {
   "cell_type": "code",
   "execution_count": 47,
   "metadata": {},
   "outputs": [
    {
     "data": {
      "text/plain": [
       "<matplotlib.collections.PathCollection at 0x7f08f47489b0>"
      ]
     },
     "execution_count": 47,
     "metadata": {},
     "output_type": "execute_result"
    },
    {
     "data": {
      "image/png": "[encoded data removed]",
      "text/plain": [
       "<Figure size 576x576 with 1 Axes>"
      ]
     },
     "metadata": {
      "needs_background": "light"
     },
     "output_type": "display_data"
    }
   ],
   "source": [
    "fig = plt.figure(figsize = (8,8))\n",
    "plt.scatter(df_todo['Duration'], df_todo['Magnitude'])\n"
   ]
  },
  {
   "cell_type": "code",
   "execution_count": 48,
   "metadata": {},
   "outputs": [],
   "source": [
    "df_todo.reset_index(drop=True, inplace=True)\n"
   ]
  },
  {
   "cell_type": "code",
   "execution_count": 49,
   "metadata": {},
   "outputs": [
    {
     "data": {
      "text/html": [
       "<div>\n",
       "<style scoped>\n",
       "    .dataframe tbody tr th:only-of-type {\n",
       "        vertical-align: middle;\n",
       "    }\n",
       "\n",
       "    .dataframe tbody tr th {\n",
       "        vertical-align: top;\n",
       "    }\n",
       "\n",
       "    .dataframe thead th {\n",
       "        text-align: right;\n",
       "    }\n",
       "</style>\n",
       "<table border=\"1\" class=\"dataframe\">\n",
       "  <thead>\n",
       "    <tr style=\"text-align: right;\">\n",
       "      <th></th>\n",
       "      <th>SSE</th>\n",
       "      <th>Magnitude</th>\n",
       "      <th>Duration</th>\n",
       "    </tr>\n",
       "  </thead>\n",
       "  <tbody>\n",
       "    <tr>\n",
       "      <td>0</td>\n",
       "      <td>tolaga-2004</td>\n",
       "      <td>6.3</td>\n",
       "      <td>20</td>\n",
       "    </tr>\n",
       "    <tr>\n",
       "      <td>1</td>\n",
       "      <td>gisb-2006</td>\n",
       "      <td>6.3</td>\n",
       "      <td>6</td>\n",
       "    </tr>\n",
       "    <tr>\n",
       "      <td>2</td>\n",
       "      <td>hawkesBay-2006</td>\n",
       "      <td>6.4</td>\n",
       "      <td>7</td>\n",
       "    </tr>\n",
       "    <tr>\n",
       "      <td>3</td>\n",
       "      <td>hawkesBay-2008</td>\n",
       "      <td>6.4</td>\n",
       "      <td>5</td>\n",
       "    </tr>\n",
       "    <tr>\n",
       "      <td>4</td>\n",
       "      <td>tolaga-2008</td>\n",
       "      <td>6.4</td>\n",
       "      <td>12</td>\n",
       "    </tr>\n",
       "    <tr>\n",
       "      <td>5</td>\n",
       "      <td>gisb-2007</td>\n",
       "      <td>6.5</td>\n",
       "      <td>34</td>\n",
       "    </tr>\n",
       "    <tr>\n",
       "      <td>6</td>\n",
       "      <td>tolaga-2010</td>\n",
       "      <td>6.5</td>\n",
       "      <td>14</td>\n",
       "    </tr>\n",
       "    <tr>\n",
       "      <td>7</td>\n",
       "      <td>gisb-2004</td>\n",
       "      <td>6.7</td>\n",
       "      <td>17</td>\n",
       "    </tr>\n",
       "    <tr>\n",
       "      <td>8</td>\n",
       "      <td>mahia 2008</td>\n",
       "      <td>6.7</td>\n",
       "      <td>15</td>\n",
       "    </tr>\n",
       "    <tr>\n",
       "      <td>9</td>\n",
       "      <td>gisb-2010</td>\n",
       "      <td>6.7</td>\n",
       "      <td>16</td>\n",
       "    </tr>\n",
       "    <tr>\n",
       "      <td>10</td>\n",
       "      <td>gisb-2002</td>\n",
       "      <td>6.8</td>\n",
       "      <td>14</td>\n",
       "    </tr>\n",
       "    <tr>\n",
       "      <td>11</td>\n",
       "      <td>hawkesBay-2006-2</td>\n",
       "      <td>6.8</td>\n",
       "      <td>7</td>\n",
       "    </tr>\n",
       "    <tr>\n",
       "      <td>12</td>\n",
       "      <td>mahia-2011-2</td>\n",
       "      <td>5.9</td>\n",
       "      <td>14</td>\n",
       "    </tr>\n",
       "    <tr>\n",
       "      <td>13</td>\n",
       "      <td>east-cape-2011-2</td>\n",
       "      <td>6.0</td>\n",
       "      <td>28</td>\n",
       "    </tr>\n",
       "    <tr>\n",
       "      <td>14</td>\n",
       "      <td>mahia-2011</td>\n",
       "      <td>6.1</td>\n",
       "      <td>7</td>\n",
       "    </tr>\n",
       "    <tr>\n",
       "      <td>15</td>\n",
       "      <td>east-cape-2010</td>\n",
       "      <td>6.2</td>\n",
       "      <td>7</td>\n",
       "    </tr>\n",
       "    <tr>\n",
       "      <td>16</td>\n",
       "      <td>east-cape-2011</td>\n",
       "      <td>6.3</td>\n",
       "      <td>18</td>\n",
       "    </tr>\n",
       "    <tr>\n",
       "      <td>17</td>\n",
       "      <td>gisb-2011</td>\n",
       "      <td>6.4</td>\n",
       "      <td>53</td>\n",
       "    </tr>\n",
       "    <tr>\n",
       "      <td>18</td>\n",
       "      <td>hawkesBay-2011</td>\n",
       "      <td>6.5</td>\n",
       "      <td>15</td>\n",
       "    </tr>\n",
       "    <tr>\n",
       "      <td>19</td>\n",
       "      <td>gisb-2011-2</td>\n",
       "      <td>6.5</td>\n",
       "      <td>21</td>\n",
       "    </tr>\n",
       "    <tr>\n",
       "      <td>20</td>\n",
       "      <td>cape-turnagain-2011</td>\n",
       "      <td>6.6</td>\n",
       "      <td>30</td>\n",
       "    </tr>\n",
       "    <tr>\n",
       "      <td>21</td>\n",
       "      <td>hawkesBay-2010</td>\n",
       "      <td>6.8</td>\n",
       "      <td>36</td>\n",
       "    </tr>\n",
       "    <tr>\n",
       "      <td>22</td>\n",
       "      <td>gisb-2010</td>\n",
       "      <td>6.9</td>\n",
       "      <td>27</td>\n",
       "    </tr>\n",
       "  </tbody>\n",
       "</table>\n",
       "</div>"
      ],
      "text/plain": [
       "                    SSE  Magnitude  Duration\n",
       "0           tolaga-2004        6.3        20\n",
       "1             gisb-2006        6.3         6\n",
       "2        hawkesBay-2006        6.4         7\n",
       "3        hawkesBay-2008        6.4         5\n",
       "4           tolaga-2008        6.4        12\n",
       "5             gisb-2007        6.5        34\n",
       "6           tolaga-2010        6.5        14\n",
       "7             gisb-2004        6.7        17\n",
       "8            mahia 2008        6.7        15\n",
       "9             gisb-2010        6.7        16\n",
       "10            gisb-2002        6.8        14\n",
       "11     hawkesBay-2006-2        6.8         7\n",
       "12         mahia-2011-2        5.9        14\n",
       "13     east-cape-2011-2        6.0        28\n",
       "14           mahia-2011        6.1         7\n",
       "15       east-cape-2010        6.2         7\n",
       "16       east-cape-2011        6.3        18\n",
       "17            gisb-2011        6.4        53\n",
       "18       hawkesBay-2011        6.5        15\n",
       "19          gisb-2011-2        6.5        21\n",
       "20  cape-turnagain-2011        6.6        30\n",
       "21       hawkesBay-2010        6.8        36\n",
       "22            gisb-2010        6.9        27"
      ]
     },
     "execution_count": 49,
     "metadata": {},
     "output_type": "execute_result"
    }
   ],
   "source": [
    "df_todo"
   ]
  },
  {
   "cell_type": "code",
   "execution_count": 51,
   "metadata": {},
   "outputs": [],
   "source": [
    "df_todo = df_todo.drop(df_todo.index[17])"
   ]
  },
  {
   "cell_type": "code",
   "execution_count": 52,
   "metadata": {},
   "outputs": [
    {
     "data": {
      "text/html": [
       "<div>\n",
       "<style scoped>\n",
       "    .dataframe tbody tr th:only-of-type {\n",
       "        vertical-align: middle;\n",
       "    }\n",
       "\n",
       "    .dataframe tbody tr th {\n",
       "        vertical-align: top;\n",
       "    }\n",
       "\n",
       "    .dataframe thead th {\n",
       "        text-align: right;\n",
       "    }\n",
       "</style>\n",
       "<table border=\"1\" class=\"dataframe\">\n",
       "  <thead>\n",
       "    <tr style=\"text-align: right;\">\n",
       "      <th></th>\n",
       "      <th>SSE</th>\n",
       "      <th>Magnitude</th>\n",
       "      <th>Duration</th>\n",
       "    </tr>\n",
       "  </thead>\n",
       "  <tbody>\n",
       "    <tr>\n",
       "      <td>0</td>\n",
       "      <td>tolaga-2004</td>\n",
       "      <td>6.3</td>\n",
       "      <td>20</td>\n",
       "    </tr>\n",
       "    <tr>\n",
       "      <td>1</td>\n",
       "      <td>gisb-2006</td>\n",
       "      <td>6.3</td>\n",
       "      <td>6</td>\n",
       "    </tr>\n",
       "    <tr>\n",
       "      <td>2</td>\n",
       "      <td>hawkesBay-2006</td>\n",
       "      <td>6.4</td>\n",
       "      <td>7</td>\n",
       "    </tr>\n",
       "    <tr>\n",
       "      <td>3</td>\n",
       "      <td>hawkesBay-2008</td>\n",
       "      <td>6.4</td>\n",
       "      <td>5</td>\n",
       "    </tr>\n",
       "    <tr>\n",
       "      <td>4</td>\n",
       "      <td>tolaga-2008</td>\n",
       "      <td>6.4</td>\n",
       "      <td>12</td>\n",
       "    </tr>\n",
       "    <tr>\n",
       "      <td>5</td>\n",
       "      <td>gisb-2007</td>\n",
       "      <td>6.5</td>\n",
       "      <td>34</td>\n",
       "    </tr>\n",
       "    <tr>\n",
       "      <td>6</td>\n",
       "      <td>tolaga-2010</td>\n",
       "      <td>6.5</td>\n",
       "      <td>14</td>\n",
       "    </tr>\n",
       "    <tr>\n",
       "      <td>7</td>\n",
       "      <td>gisb-2004</td>\n",
       "      <td>6.7</td>\n",
       "      <td>17</td>\n",
       "    </tr>\n",
       "    <tr>\n",
       "      <td>8</td>\n",
       "      <td>mahia 2008</td>\n",
       "      <td>6.7</td>\n",
       "      <td>15</td>\n",
       "    </tr>\n",
       "    <tr>\n",
       "      <td>9</td>\n",
       "      <td>gisb-2010</td>\n",
       "      <td>6.7</td>\n",
       "      <td>16</td>\n",
       "    </tr>\n",
       "    <tr>\n",
       "      <td>10</td>\n",
       "      <td>gisb-2002</td>\n",
       "      <td>6.8</td>\n",
       "      <td>14</td>\n",
       "    </tr>\n",
       "    <tr>\n",
       "      <td>11</td>\n",
       "      <td>hawkesBay-2006-2</td>\n",
       "      <td>6.8</td>\n",
       "      <td>7</td>\n",
       "    </tr>\n",
       "    <tr>\n",
       "      <td>12</td>\n",
       "      <td>mahia-2011-2</td>\n",
       "      <td>5.9</td>\n",
       "      <td>14</td>\n",
       "    </tr>\n",
       "    <tr>\n",
       "      <td>13</td>\n",
       "      <td>east-cape-2011-2</td>\n",
       "      <td>6.0</td>\n",
       "      <td>28</td>\n",
       "    </tr>\n",
       "    <tr>\n",
       "      <td>14</td>\n",
       "      <td>mahia-2011</td>\n",
       "      <td>6.1</td>\n",
       "      <td>7</td>\n",
       "    </tr>\n",
       "    <tr>\n",
       "      <td>15</td>\n",
       "      <td>east-cape-2010</td>\n",
       "      <td>6.2</td>\n",
       "      <td>7</td>\n",
       "    </tr>\n",
       "    <tr>\n",
       "      <td>16</td>\n",
       "      <td>east-cape-2011</td>\n",
       "      <td>6.3</td>\n",
       "      <td>18</td>\n",
       "    </tr>\n",
       "    <tr>\n",
       "      <td>18</td>\n",
       "      <td>hawkesBay-2011</td>\n",
       "      <td>6.5</td>\n",
       "      <td>15</td>\n",
       "    </tr>\n",
       "    <tr>\n",
       "      <td>19</td>\n",
       "      <td>gisb-2011-2</td>\n",
       "      <td>6.5</td>\n",
       "      <td>21</td>\n",
       "    </tr>\n",
       "    <tr>\n",
       "      <td>20</td>\n",
       "      <td>cape-turnagain-2011</td>\n",
       "      <td>6.6</td>\n",
       "      <td>30</td>\n",
       "    </tr>\n",
       "    <tr>\n",
       "      <td>21</td>\n",
       "      <td>hawkesBay-2010</td>\n",
       "      <td>6.8</td>\n",
       "      <td>36</td>\n",
       "    </tr>\n",
       "    <tr>\n",
       "      <td>22</td>\n",
       "      <td>gisb-2010</td>\n",
       "      <td>6.9</td>\n",
       "      <td>27</td>\n",
       "    </tr>\n",
       "  </tbody>\n",
       "</table>\n",
       "</div>"
      ],
      "text/plain": [
       "                    SSE  Magnitude  Duration\n",
       "0           tolaga-2004        6.3        20\n",
       "1             gisb-2006        6.3         6\n",
       "2        hawkesBay-2006        6.4         7\n",
       "3        hawkesBay-2008        6.4         5\n",
       "4           tolaga-2008        6.4        12\n",
       "5             gisb-2007        6.5        34\n",
       "6           tolaga-2010        6.5        14\n",
       "7             gisb-2004        6.7        17\n",
       "8            mahia 2008        6.7        15\n",
       "9             gisb-2010        6.7        16\n",
       "10            gisb-2002        6.8        14\n",
       "11     hawkesBay-2006-2        6.8         7\n",
       "12         mahia-2011-2        5.9        14\n",
       "13     east-cape-2011-2        6.0        28\n",
       "14           mahia-2011        6.1         7\n",
       "15       east-cape-2010        6.2         7\n",
       "16       east-cape-2011        6.3        18\n",
       "18       hawkesBay-2011        6.5        15\n",
       "19          gisb-2011-2        6.5        21\n",
       "20  cape-turnagain-2011        6.6        30\n",
       "21       hawkesBay-2010        6.8        36\n",
       "22            gisb-2010        6.9        27"
      ]
     },
     "execution_count": 52,
     "metadata": {},
     "output_type": "execute_result"
    }
   ],
   "source": [
    "df_todo"
   ]
  },
  {
   "cell_type": "code",
   "execution_count": null,
   "metadata": {},
   "outputs": [],
   "source": []
  },
  {
   "cell_type": "code",
   "execution_count": null,
   "metadata": {},
   "outputs": [],
   "source": []
  },
  {
   "cell_type": "code",
   "execution_count": 35,
   "metadata": {},
   "outputs": [],
   "source": [
    "from sklearn.linear_model import LinearRegression"
   ]
  },
  {
   "cell_type": "code",
   "execution_count": 53,
   "metadata": {},
   "outputs": [
    {
     "data": {
      "text/plain": [
       "LinearRegression(copy_X=True, fit_intercept=True, n_jobs=None, normalize=False)"
      ]
     },
     "execution_count": 53,
     "metadata": {},
     "output_type": "execute_result"
    }
   ],
   "source": [
    "regressor = LinearRegression()  \n",
    "\n",
    "x_data = np.array(df_todo['Duration'].values.reshape(-1,1))\n",
    "y_data = np.array(df_todo['Magnitude'].values.reshape(-1))\n",
    "    \n",
    "regressor.fit(x_data, y_data) #training the algorithm"
   ]
  },
  {
   "cell_type": "code",
   "execution_count": 54,
   "metadata": {},
   "outputs": [],
   "source": [
    "y_pred = regressor.predict(x_data)\n"
   ]
  },
  {
   "cell_type": "code",
   "execution_count": 55,
   "metadata": {},
   "outputs": [
    {
     "data": {
      "text/plain": [
       "<matplotlib.collections.PathCollection at 0x7f08f46fcd68>"
      ]
     },
     "execution_count": 55,
     "metadata": {},
     "output_type": "execute_result"
    },
    {
     "data": {
      "image/png": "[encoded data removed]",
      "text/plain": [
       "<Figure size 432x288 with 1 Axes>"
      ]
     },
     "metadata": {
      "needs_background": "light"
     },
     "output_type": "display_data"
    }
   ],
   "source": [
    "plt.plot(x_data,y_pred, color='red')\n",
    "plt.scatter(x_data, y_data)"
   ]
  },
  {
   "cell_type": "code",
   "execution_count": 60,
   "metadata": {},
   "outputs": [
    {
     "name": "stdout",
     "output_type": "stream",
     "text": [
      "[0.00768879]\n",
      "6.338870280146164\n"
     ]
    }
   ],
   "source": [
    "print(regressor.coef_)\n",
    "print(regressor.intercept_)"
   ]
  },
  {
   "cell_type": "code",
   "execution_count": 63,
   "metadata": {},
   "outputs": [],
   "source": [
    "marks = pd.read_csv('/home/francovm/Projects/Field_monitoring_project/Data/marks.csv')"
   ]
  },
  {
   "cell_type": "code",
   "execution_count": 64,
   "metadata": {},
   "outputs": [
    {
     "data": {
      "text/html": [
       "<div>\n",
       "<style scoped>\n",
       "    .dataframe tbody tr th:only-of-type {\n",
       "        vertical-align: middle;\n",
       "    }\n",
       "\n",
       "    .dataframe tbody tr th {\n",
       "        vertical-align: top;\n",
       "    }\n",
       "\n",
       "    .dataframe thead th {\n",
       "        text-align: right;\n",
       "    }\n",
       "</style>\n",
       "<table border=\"1\" class=\"dataframe\">\n",
       "  <thead>\n",
       "    <tr style=\"text-align: right;\">\n",
       "      <th></th>\n",
       "      <th>Mark</th>\n",
       "      <th>Network</th>\n",
       "      <th>Igs</th>\n",
       "      <th>Name</th>\n",
       "      <th>Latitude</th>\n",
       "      <th>Longitude</th>\n",
       "      <th>Elevation</th>\n",
       "      <th>Datum</th>\n",
       "      <th>Start Date</th>\n",
       "      <th>End Date</th>\n",
       "    </tr>\n",
       "  </thead>\n",
       "  <tbody>\n",
       "    <tr>\n",
       "      <td>0</td>\n",
       "      <td>2406</td>\n",
       "      <td>CG</td>\n",
       "      <td>no</td>\n",
       "      <td>C KAIAPO TLP</td>\n",
       "      <td>-38.691851</td>\n",
       "      <td>175.994779</td>\n",
       "      <td>442.7880</td>\n",
       "      <td>NZGD2000</td>\n",
       "      <td>2012-02-13T00:00:00Z</td>\n",
       "      <td>9999-01-01T00:00:00Z</td>\n",
       "    </tr>\n",
       "    <tr>\n",
       "      <td>1</td>\n",
       "      <td>AHTI</td>\n",
       "      <td>CG</td>\n",
       "      <td>no</td>\n",
       "      <td>Ahititi</td>\n",
       "      <td>-38.411448</td>\n",
       "      <td>178.046003</td>\n",
       "      <td>563.2210</td>\n",
       "      <td>NZGD2000</td>\n",
       "      <td>2009-01-01T00:00:00Z</td>\n",
       "      <td>9999-01-01T00:00:00Z</td>\n",
       "    </tr>\n",
       "    <tr>\n",
       "      <td>2</td>\n",
       "      <td>AKTO</td>\n",
       "      <td>CG</td>\n",
       "      <td>no</td>\n",
       "      <td>Akitio Station</td>\n",
       "      <td>-40.539807</td>\n",
       "      <td>176.461222</td>\n",
       "      <td>432.9400</td>\n",
       "      <td>NZGD2000</td>\n",
       "      <td>2006-04-27T00:00:00Z</td>\n",
       "      <td>9999-01-01T00:00:00Z</td>\n",
       "    </tr>\n",
       "    <tr>\n",
       "      <td>3</td>\n",
       "      <td>ANAU</td>\n",
       "      <td>CG</td>\n",
       "      <td>no</td>\n",
       "      <td>Anaura Bay</td>\n",
       "      <td>-38.268213</td>\n",
       "      <td>178.291223</td>\n",
       "      <td>229.3040</td>\n",
       "      <td>WGS84</td>\n",
       "      <td>2010-10-18T00:00:00Z</td>\n",
       "      <td>9999-01-01T00:00:00Z</td>\n",
       "    </tr>\n",
       "    <tr>\n",
       "      <td>4</td>\n",
       "      <td>ARTA</td>\n",
       "      <td>CG</td>\n",
       "      <td>no</td>\n",
       "      <td>Aratiatia Dam</td>\n",
       "      <td>-38.617582</td>\n",
       "      <td>176.136412</td>\n",
       "      <td>369.7230</td>\n",
       "      <td>NZGD2000</td>\n",
       "      <td>2008-11-05T00:00:00Z</td>\n",
       "      <td>9999-01-01T00:00:00Z</td>\n",
       "    </tr>\n",
       "    <tr>\n",
       "      <td>...</td>\n",
       "      <td>...</td>\n",
       "      <td>...</td>\n",
       "      <td>...</td>\n",
       "      <td>...</td>\n",
       "      <td>...</td>\n",
       "      <td>...</td>\n",
       "      <td>...</td>\n",
       "      <td>...</td>\n",
       "      <td>...</td>\n",
       "      <td>...</td>\n",
       "    </tr>\n",
       "    <tr>\n",
       "      <td>224</td>\n",
       "      <td>WPUK</td>\n",
       "      <td>CG</td>\n",
       "      <td>no</td>\n",
       "      <td>Waipukurau</td>\n",
       "      <td>-40.064205</td>\n",
       "      <td>176.440599</td>\n",
       "      <td>344.4350</td>\n",
       "      <td>NZGD2000</td>\n",
       "      <td>2006-04-19T00:00:00Z</td>\n",
       "      <td>9999-01-01T00:00:00Z</td>\n",
       "    </tr>\n",
       "    <tr>\n",
       "      <td>225</td>\n",
       "      <td>WRA1</td>\n",
       "      <td>XX</td>\n",
       "      <td>no</td>\n",
       "      <td>Wairau Valley temporary</td>\n",
       "      <td>-41.595477</td>\n",
       "      <td>173.586376</td>\n",
       "      <td>529.5565</td>\n",
       "      <td>WGS84</td>\n",
       "      <td>2016-11-15T00:00:00Z</td>\n",
       "      <td>2017-05-28T00:00:00Z</td>\n",
       "    </tr>\n",
       "    <tr>\n",
       "      <td>226</td>\n",
       "      <td>WRAU</td>\n",
       "      <td>CG</td>\n",
       "      <td>no</td>\n",
       "      <td>Wairau Valley</td>\n",
       "      <td>-41.595006</td>\n",
       "      <td>173.586158</td>\n",
       "      <td>536.3704</td>\n",
       "      <td>WGS84</td>\n",
       "      <td>2017-02-12T00:00:00Z</td>\n",
       "      <td>9999-01-01T00:00:00Z</td>\n",
       "    </tr>\n",
       "    <tr>\n",
       "      <td>227</td>\n",
       "      <td>WRPA</td>\n",
       "      <td>LI</td>\n",
       "      <td>no</td>\n",
       "      <td>Wairarapa</td>\n",
       "      <td>-41.062569</td>\n",
       "      <td>175.583233</td>\n",
       "      <td>204.8078</td>\n",
       "      <td>NZGD2000</td>\n",
       "      <td>2016-01-06T00:00:00Z</td>\n",
       "      <td>9999-01-01T00:00:00Z</td>\n",
       "    </tr>\n",
       "    <tr>\n",
       "      <td>228</td>\n",
       "      <td>YALD</td>\n",
       "      <td>CG</td>\n",
       "      <td>no</td>\n",
       "      <td>Yaldhurst</td>\n",
       "      <td>-43.490771</td>\n",
       "      <td>172.481136</td>\n",
       "      <td>64.6530</td>\n",
       "      <td>NZGD2000</td>\n",
       "      <td>2014-09-16T00:00:00Z</td>\n",
       "      <td>9999-01-01T00:00:00Z</td>\n",
       "    </tr>\n",
       "  </tbody>\n",
       "</table>\n",
       "<p>229 rows × 10 columns</p>\n",
       "</div>"
      ],
      "text/plain": [
       "     Mark Network Igs                     Name   Latitude   Longitude  \\\n",
       "0    2406      CG  no             C KAIAPO TLP -38.691851  175.994779   \n",
       "1    AHTI      CG  no                  Ahititi -38.411448  178.046003   \n",
       "2    AKTO      CG  no           Akitio Station -40.539807  176.461222   \n",
       "3    ANAU      CG  no               Anaura Bay -38.268213  178.291223   \n",
       "4    ARTA      CG  no            Aratiatia Dam -38.617582  176.136412   \n",
       "..    ...     ...  ..                      ...        ...         ...   \n",
       "224  WPUK      CG  no               Waipukurau -40.064205  176.440599   \n",
       "225  WRA1      XX  no  Wairau Valley temporary -41.595477  173.586376   \n",
       "226  WRAU      CG  no            Wairau Valley -41.595006  173.586158   \n",
       "227  WRPA      LI  no                Wairarapa -41.062569  175.583233   \n",
       "228  YALD      CG  no                Yaldhurst -43.490771  172.481136   \n",
       "\n",
       "     Elevation     Datum            Start Date              End Date  \n",
       "0     442.7880  NZGD2000  2012-02-13T00:00:00Z  9999-01-01T00:00:00Z  \n",
       "1     563.2210  NZGD2000  2009-01-01T00:00:00Z  9999-01-01T00:00:00Z  \n",
       "2     432.9400  NZGD2000  2006-04-27T00:00:00Z  9999-01-01T00:00:00Z  \n",
       "3     229.3040     WGS84  2010-10-18T00:00:00Z  9999-01-01T00:00:00Z  \n",
       "4     369.7230  NZGD2000  2008-11-05T00:00:00Z  9999-01-01T00:00:00Z  \n",
       "..         ...       ...                   ...                   ...  \n",
       "224   344.4350  NZGD2000  2006-04-19T00:00:00Z  9999-01-01T00:00:00Z  \n",
       "225   529.5565     WGS84  2016-11-15T00:00:00Z  2017-05-28T00:00:00Z  \n",
       "226   536.3704     WGS84  2017-02-12T00:00:00Z  9999-01-01T00:00:00Z  \n",
       "227   204.8078  NZGD2000  2016-01-06T00:00:00Z  9999-01-01T00:00:00Z  \n",
       "228    64.6530  NZGD2000  2014-09-16T00:00:00Z  9999-01-01T00:00:00Z  \n",
       "\n",
       "[229 rows x 10 columns]"
      ]
     },
     "execution_count": 64,
     "metadata": {},
     "output_type": "execute_result"
    }
   ],
   "source": [
    "marks"
   ]
  },
  {
   "cell_type": "code",
   "execution_count": 72,
   "metadata": {},
   "outputs": [],
   "source": [
    "stations_list = open('/home/francovm/Projects/SSE/data/external/hikurangi_gnss.txt').read().splitlines()\n",
    "\n",
    "\n",
    "stations_locations = marks.loc[marks['Mark'].isin(stations_list),['Mark','Latitude', 'Longitude']]"
   ]
  },
  {
   "cell_type": "code",
   "execution_count": 74,
   "metadata": {},
   "outputs": [],
   "source": [
    "stations_locations.to_csv('/home/francovm/Projects/SSE/data/external/stations_locations.csv', sep='\\t', encoding='utf-8')"
   ]
  },
  {
   "cell_type": "code",
   "execution_count": null,
   "metadata": {},
   "outputs": [],
   "source": []
  }
 ],
 "metadata": {
  "kernelspec": {
   "display_name": "Python 3",
   "language": "python",
   "name": "python3"
  },
  "language_info": {
   "codemirror_mode": {
    "name": "ipython",
    "version": 3
   },
   "file_extension": ".py",
   "mimetype": "text/x-python",
   "name": "python",
   "nbconvert_exporter": "python",
   "pygments_lexer": "ipython3",
   "version": "3.6.7"
  }
 },
 "nbformat": 4,
 "nbformat_minor": 4
}
