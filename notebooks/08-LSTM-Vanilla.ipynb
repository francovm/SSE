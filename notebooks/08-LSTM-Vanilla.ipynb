{
 "cells": [
  {
   "cell_type": "code",
   "execution_count": 2,
   "metadata": {},
   "outputs": [],
   "source": [
    "import matplotlib.pyplot as plt\n",
    "import numpy as np\n",
    "import pandas as pd\n",
    "from pylab import rcParams\n",
    "from keras.callbacks import EarlyStopping\n",
    "\n",
    "import seaborn as sns\n",
    "\n",
    "from sklearn.model_selection import train_test_split\n",
    "from sklearn.preprocessing import StandardScaler\n",
    "from sklearn.metrics import confusion_matrix, precision_recall_curve\n",
    "from sklearn.metrics import recall_score, classification_report, auc, roc_curve\n",
    "from sklearn.metrics import roc_auc_score\n",
    "\n",
    "\n",
    "from keras.models import Sequential\n",
    "import tensorflow as tf\n",
    "from keras import optimizers\n",
    "from keras.layers import Dense\n",
    "from keras.layers import Flatten\n",
    "from keras.layers import Dropout\n",
    "from keras.layers import LSTM\n",
    "from keras.utils import to_categorical\n",
    "from keras.layers import Dense, LSTM, RepeatVector, TimeDistributed\n",
    "from keras.callbacks import ModelCheckpoint, TensorBoard,CSVLogger\n",
    "from keras.models import load_model\n",
    "\n",
    "from numpy.random import seed\n",
    "seed(7)\n",
    "from tensorflow import set_random_seed\n",
    "set_random_seed(11)\n",
    "\n",
    "# import os\n",
    "# os.environ[\"CUDA_VISIBLE_DEVICES\"]=\"1\"\n",
    "\n"
   ]
  },
  {
   "cell_type": "code",
   "execution_count": 3,
   "metadata": {},
   "outputs": [],
   "source": [
    "SEED = 123 #used to help randomly select the data points\n",
    "DATA_SPLIT_PCT = 0.2\n",
    "\n",
    "rcParams['figure.figsize'] = 8, 6\n",
    "LABELS = [\"Normal\",\"Break\"]"
   ]
  },
  {
   "cell_type": "code",
   "execution_count": 4,
   "metadata": {},
   "outputs": [
    {
     "data": {
      "text/html": [
       "<div>\n",
       "<style scoped>\n",
       "    .dataframe tbody tr th:only-of-type {\n",
       "        vertical-align: middle;\n",
       "    }\n",
       "\n",
       "    .dataframe tbody tr th {\n",
       "        vertical-align: top;\n",
       "    }\n",
       "\n",
       "    .dataframe thead th {\n",
       "        text-align: right;\n",
       "    }\n",
       "</style>\n",
       "<table border=\"1\" class=\"dataframe\">\n",
       "  <thead>\n",
       "    <tr style=\"text-align: right;\">\n",
       "      <th></th>\n",
       "      <th>x</th>\n",
       "      <th>n</th>\n",
       "      <th>u</th>\n",
       "      <th>Events</th>\n",
       "    </tr>\n",
       "  </thead>\n",
       "  <tbody>\n",
       "    <tr>\n",
       "      <th>0</th>\n",
       "      <td>-12.28</td>\n",
       "      <td>-92.30</td>\n",
       "      <td>-9.23</td>\n",
       "      <td>0.0</td>\n",
       "    </tr>\n",
       "    <tr>\n",
       "      <th>1</th>\n",
       "      <td>-12.58</td>\n",
       "      <td>-92.54</td>\n",
       "      <td>-11.31</td>\n",
       "      <td>0.0</td>\n",
       "    </tr>\n",
       "    <tr>\n",
       "      <th>2</th>\n",
       "      <td>-13.16</td>\n",
       "      <td>-92.24</td>\n",
       "      <td>-8.02</td>\n",
       "      <td>0.0</td>\n",
       "    </tr>\n",
       "    <tr>\n",
       "      <th>3</th>\n",
       "      <td>-13.21</td>\n",
       "      <td>-92.20</td>\n",
       "      <td>-11.51</td>\n",
       "      <td>0.0</td>\n",
       "    </tr>\n",
       "    <tr>\n",
       "      <th>4</th>\n",
       "      <td>-12.92</td>\n",
       "      <td>-93.19</td>\n",
       "      <td>-10.20</td>\n",
       "      <td>0.0</td>\n",
       "    </tr>\n",
       "  </tbody>\n",
       "</table>\n",
       "</div>"
      ],
      "text/plain": [
       "       x      n      u  Events\n",
       "0 -12.28 -92.30  -9.23     0.0\n",
       "1 -12.58 -92.54 -11.31     0.0\n",
       "2 -13.16 -92.24  -8.02     0.0\n",
       "3 -13.21 -92.20 -11.51     0.0\n",
       "4 -12.92 -93.19 -10.20     0.0"
      ]
     },
     "execution_count": 4,
     "metadata": {},
     "output_type": "execute_result"
    }
   ],
   "source": [
    "# load  dataset\n",
    "df = pd.read_csv('/home/francovm/Projects/SSE/data/processed/input_data.csv', sep='\\t', encoding='utf-8')\n",
    "df.head()"
   ]
  },
  {
   "cell_type": "code",
   "execution_count": 5,
   "metadata": {},
   "outputs": [
    {
     "name": "stdout",
     "output_type": "stream",
     "text": [
      "(229716, 3) (229716,)\n"
     ]
    }
   ],
   "source": [
    "input_X = df.loc[:, df.columns != 'Events'].values  # converts the df to a numpy array\n",
    "input_y = df['Events'].values\n",
    "\n",
    "n_features = input_X.shape[1]  # number of features\n",
    "\n",
    "print(input_X.shape,input_y.shape)"
   ]
  },
  {
   "cell_type": "code",
   "execution_count": 6,
   "metadata": {},
   "outputs": [],
   "source": [
    "def temporalize(X, y, lookback):\n",
    "    X = []\n",
    "    y = []\n",
    "    for i in range(len(input_X)-lookback-1):\n",
    "        t = []\n",
    "        for j in range(1,lookback+1):\n",
    "            # Gather past records upto the lookback period\n",
    "            t.append(input_X[[(i+j+1)], :])\n",
    "        X.append(t)\n",
    "        y.append(input_y[i+lookback+1])\n",
    "    return X, y\n"
   ]
  },
  {
   "cell_type": "code",
   "execution_count": 7,
   "metadata": {},
   "outputs": [],
   "source": [
    "# Temporalize the data\n",
    "lookback = 40\n",
    "X, y = temporalize(X = input_X, y = input_y, lookback = lookback)\n",
    "\n"
   ]
  },
  {
   "cell_type": "code",
   "execution_count": 8,
   "metadata": {},
   "outputs": [],
   "source": [
    "#Split into Test, valid and train\n",
    "\n",
    "X_train, X_test, y_train, y_test = train_test_split(np.array(X), np.array(y), test_size=DATA_SPLIT_PCT, random_state=SEED)\n",
    "\n",
    "X_train, X_valid, y_train, y_valid = train_test_split(X_train, y_train, test_size=DATA_SPLIT_PCT, random_state=SEED)"
   ]
  },
  {
   "cell_type": "code",
   "execution_count": 9,
   "metadata": {},
   "outputs": [],
   "source": [
    "# Reshape the arrays\n",
    "\n",
    "X_train = X_train.reshape(X_train.shape[0], lookback, n_features)\n",
    "# X_train_y0 = X_train_y0.reshape(X_train_y0.shape[0], lookback, n_features)\n",
    "# X_train_y1 = X_train_y1.reshape(X_train_y1.shape[0], lookback, n_features)\n",
    "X_valid = X_valid.reshape(X_valid.shape[0], lookback, n_features)\n",
    "# X_valid_y0 = X_valid_y0.reshape(X_valid_y0.shape[0], lookback, n_features)\n",
    "# X_valid_y1 = X_valid_y1.reshape(X_valid_y1.shape[0], lookback, n_features)b\n",
    "X_test = X_test.reshape(X_test.shape[0], lookback, n_features)"
   ]
  },
  {
   "cell_type": "code",
   "execution_count": 10,
   "metadata": {},
   "outputs": [
    {
     "data": {
      "text/plain": [
       "(146992,)"
      ]
     },
     "execution_count": 10,
     "metadata": {},
     "output_type": "execute_result"
    }
   ],
   "source": [
    "y_train.shape"
   ]
  },
  {
   "cell_type": "code",
   "execution_count": 11,
   "metadata": {},
   "outputs": [],
   "source": [
    "## To Categorical Data\n",
    "\n",
    "# y_train = to_categorical(y_train)\n",
    "# y_test = to_categorical(y_test)\n",
    "# y_valid = to_categorical(y_valid)\n",
    "\n",
    "# print(y_valid.shape, y_test.shape, y_train.shape)"
   ]
  },
  {
   "cell_type": "code",
   "execution_count": 12,
   "metadata": {},
   "outputs": [
    {
     "name": "stdout",
     "output_type": "stream",
     "text": [
      "40 3 1\n"
     ]
    }
   ],
   "source": [
    "n_timesteps, n_features, n_outputs = X_train.shape[1], X_train.shape[2], 1\n",
    "print(n_timesteps,n_features,n_outputs)"
   ]
  },
  {
   "cell_type": "code",
   "execution_count": 13,
   "metadata": {},
   "outputs": [],
   "source": [
    "def flatten(X):\n",
    "    '''\n",
    "    Flatten a 3D array.\n",
    "    \n",
    "    Input\n",
    "    X            A 3D array for lstm, where the array is sample x timesteps x features.\n",
    "    \n",
    "    Output\n",
    "    flattened_X  A 2D array, sample x features.\n",
    "    '''\n",
    "    flattened_X = np.empty((X.shape[0], X.shape[2]))  # sample x features array.\n",
    "    for i in range(X.shape[0]):\n",
    "        flattened_X[i] = X[i, (X.shape[1]-1), :]\n",
    "    return(flattened_X)\n",
    "\n",
    "def scale(X, scaler):\n",
    "    '''\n",
    "    Scale 3D array.\n",
    "\n",
    "    Inputs\n",
    "    X            A 3D array for lstm, where the array is sample x timesteps x features.\n",
    "    scaler       A scaler object, e.g., sklearn.preprocessing.StandardScaler, sklearn.preprocessing.normalize\n",
    "    \n",
    "    Output\n",
    "    X            Scaled 3D array.\n",
    "    '''\n",
    "    for i in range(X.shape[0]):\n",
    "        X[i, :, :] = scaler.transform(X[i, :, :])\n",
    "        \n",
    "    return X"
   ]
  },
  {
   "cell_type": "markdown",
   "metadata": {},
   "source": [
    "### Stardarization"
   ]
  },
  {
   "cell_type": "code",
   "execution_count": 14,
   "metadata": {},
   "outputs": [],
   "source": [
    "# Initialize a scaler using the training data.\n",
    "# scaler = StandardScaler().fit(flatten(X_train))"
   ]
  },
  {
   "cell_type": "code",
   "execution_count": 15,
   "metadata": {},
   "outputs": [],
   "source": [
    "# Standarize the input\n",
    "\n",
    "# X_train_scaled = scale(X_train, scaler)\n",
    "# X_valid_scaled = scale(X_valid, scaler)\n",
    "# X_test_scaled = scale(X_test, scaler)"
   ]
  },
  {
   "cell_type": "markdown",
   "metadata": {},
   "source": [
    "### Test Standarization"
   ]
  },
  {
   "cell_type": "code",
   "execution_count": 16,
   "metadata": {},
   "outputs": [],
   "source": [
    "# a = flatten(X_train_scaled)\n",
    "# print('colwise mean', np.mean(a,axis=0).round(6))\n",
    "# print('colwise variance', np.var(a, axis=0))\n",
    "\n"
   ]
  },
  {
   "cell_type": "markdown",
   "metadata": {},
   "source": [
    "# Test acurracy\n",
    "\n",
    "Not use for now"
   ]
  },
  {
   "cell_type": "code",
   "execution_count": 17,
   "metadata": {},
   "outputs": [],
   "source": [
    "# fit and evaluate a model\n",
    "# def evaluate_model(X_train, y_train, X_test, y_test):\n",
    "    \n",
    "#     verbose, epochs, batch_size = 1, 15, 64\n",
    "#     n_timesteps, n_features, n_outputs = X_train.shape[1], X_train.shape[2], y_train.shape[1]\n",
    "    \n",
    "#     model = Sequential()\n",
    "#     model.add(LSTM(100, input_shape=(n_timesteps,n_features)))\n",
    "#     model.add(Dropout(0.5))\n",
    "#     model.add(Dense(100, activation='relu'))\n",
    "# #     model.add(Dense(n_outputs, activation='softmax'))\n",
    "#     model.add(Dense(n_outputs, activation='sigmoid'))\n",
    "#     model.compile(loss='categorical_crossentropy', optimizer='adam', metrics=['accuracy'])\n",
    "    \n",
    "#     # fit network\n",
    "#     model.fit(X_train, y_train, epochs=epochs, batch_size=batch_size ,validation_data=(X_valid, y_valid),verbose=verbose)\n",
    "#     # evaluate model\n",
    "#     _, accuracy = model.evaluate(X_test, y_test, batch_size=batch_size, verbose=0)\n",
    "    \n",
    "#     return accuracy"
   ]
  },
  {
   "cell_type": "code",
   "execution_count": 18,
   "metadata": {},
   "outputs": [],
   "source": [
    "# summarize scores\n",
    "# def summarize_results(scores):\n",
    "#     print(scores)\n",
    "#     m, s = np.mean(scores), np.std(scores)\n",
    "#     print('Accuracy: %.3f%% (+/-%.3f)' % (m, s))\n"
   ]
  },
  {
   "cell_type": "code",
   "execution_count": 19,
   "metadata": {},
   "outputs": [],
   "source": [
    "# run an experiment\n",
    "# def run_experiment(repeats=2):\n",
    "#     # repeat experiment\n",
    "#     scores = list()\n",
    "#     for r in range(repeats):\n",
    "#         score = evaluate_model(X_train, y_train, X_test, y_test)\n",
    "#         score = score * 100.0\n",
    "#         print('>#%d: %.3f' % (r+1, score))\n",
    "#         scores.append(score)\n",
    "#     # summarize results\n",
    "#     summarize_results(scores)\n",
    " \n",
    "    # run the experiment\n",
    "# run_experiment()"
   ]
  },
  {
   "cell_type": "markdown",
   "metadata": {},
   "source": [
    "# Model training\n",
    "\n",
    "Training models (Use it)\n"
   ]
  },
  {
   "cell_type": "code",
   "execution_count": 21,
   "metadata": {},
   "outputs": [
    {
     "name": "stdout",
     "output_type": "stream",
     "text": [
      "Train on 146992 samples, validate on 36748 samples\n",
      "Epoch 1/150\n",
      "146992/146992 [==============================] - 126s 858us/step - loss: 0.1704 - accuracy: 0.9569 - val_loss: 0.1557 - val_accuracy: 0.9588\n",
      "WARNING:tensorflow:From /home/francovm/anaconda3/envs/keras/lib/python3.7/site-packages/keras/callbacks/tensorboard_v1.py:343: The name tf.Summary is deprecated. Please use tf.compat.v1.Summary instead.\n",
      "\n",
      "Epoch 2/150\n",
      "146992/146992 [==============================] - 125s 852us/step - loss: 0.1552 - accuracy: 0.9601 - val_loss: 0.1459 - val_accuracy: 0.9605\n",
      "Epoch 3/150\n",
      "146992/146992 [==============================] - 125s 849us/step - loss: 0.1457 - accuracy: 0.9618 - val_loss: 0.1388 - val_accuracy: 0.9633\n",
      "Epoch 4/150\n",
      "146992/146992 [==============================] - 122s 830us/step - loss: 0.1383 - accuracy: 0.9634 - val_loss: 0.1360 - val_accuracy: 0.9629\n",
      "Epoch 5/150\n",
      "146992/146992 [==============================] - 121s 823us/step - loss: 0.1354 - accuracy: 0.9636 - val_loss: 0.1322 - val_accuracy: 0.9644\n",
      "Epoch 6/150\n",
      "146992/146992 [==============================] - 124s 843us/step - loss: 0.1311 - accuracy: 0.9647 - val_loss: 0.1304 - val_accuracy: 0.9648\n",
      "Epoch 7/150\n",
      "146992/146992 [==============================] - 124s 846us/step - loss: 0.1289 - accuracy: 0.9650 - val_loss: 0.1244 - val_accuracy: 0.9654\n",
      "Epoch 8/150\n",
      "146992/146992 [==============================] - 123s 839us/step - loss: 0.1262 - accuracy: 0.9651 - val_loss: 0.1206 - val_accuracy: 0.9661\n",
      "Epoch 9/150\n",
      "146992/146992 [==============================] - 123s 840us/step - loss: 0.1239 - accuracy: 0.9658 - val_loss: 0.1235 - val_accuracy: 0.9654\n",
      "Epoch 10/150\n",
      "146992/146992 [==============================] - 123s 838us/step - loss: 0.1220 - accuracy: 0.9661 - val_loss: 0.1212 - val_accuracy: 0.9658\n",
      "Epoch 11/150\n",
      "146992/146992 [==============================] - 124s 842us/step - loss: 0.1209 - accuracy: 0.9662 - val_loss: 0.1169 - val_accuracy: 0.9669\n",
      "Epoch 12/150\n",
      "146992/146992 [==============================] - 125s 851us/step - loss: 0.1176 - accuracy: 0.9671 - val_loss: 0.1135 - val_accuracy: 0.9675\n",
      "Epoch 13/150\n",
      "146992/146992 [==============================] - 124s 841us/step - loss: 0.1148 - accuracy: 0.9679 - val_loss: 0.1102 - val_accuracy: 0.9682\n",
      "Epoch 14/150\n",
      "146992/146992 [==============================] - 123s 836us/step - loss: 0.1113 - accuracy: 0.9684 - val_loss: 0.1093 - val_accuracy: 0.9690\n",
      "Epoch 15/150\n",
      "146992/146992 [==============================] - 123s 837us/step - loss: 0.1096 - accuracy: 0.9692 - val_loss: 0.1085 - val_accuracy: 0.9692\n",
      "Epoch 16/150\n",
      "146992/146992 [==============================] - 124s 840us/step - loss: 0.1083 - accuracy: 0.9693 - val_loss: 0.1043 - val_accuracy: 0.9693\n",
      "Epoch 17/150\n",
      "146992/146992 [==============================] - 122s 833us/step - loss: 0.1073 - accuracy: 0.9690 - val_loss: 0.1102 - val_accuracy: 0.9678\n",
      "Epoch 18/150\n",
      "146992/146992 [==============================] - 122s 831us/step - loss: 0.1060 - accuracy: 0.9695 - val_loss: 0.1045 - val_accuracy: 0.9703\n",
      "Epoch 19/150\n",
      "146992/146992 [==============================] - 123s 835us/step - loss: 0.1036 - accuracy: 0.9699 - val_loss: 0.1094 - val_accuracy: 0.9686\n",
      "Epoch 20/150\n",
      "146992/146992 [==============================] - 122s 833us/step - loss: 0.1038 - accuracy: 0.9701 - val_loss: 0.1035 - val_accuracy: 0.9699\n",
      "Epoch 21/150\n",
      "146992/146992 [==============================] - 122s 832us/step - loss: 0.1011 - accuracy: 0.9707 - val_loss: 0.1014 - val_accuracy: 0.9701\n",
      "Epoch 22/150\n",
      "146992/146992 [==============================] - 123s 835us/step - loss: 0.1042 - accuracy: 0.9702 - val_loss: 0.1014 - val_accuracy: 0.9712\n",
      "Epoch 23/150\n",
      "146992/146992 [==============================] - 124s 842us/step - loss: 0.0983 - accuracy: 0.9711 - val_loss: 0.1004 - val_accuracy: 0.9706\n",
      "Epoch 24/150\n",
      "146992/146992 [==============================] - 123s 835us/step - loss: 0.1000 - accuracy: 0.9707 - val_loss: 0.0965 - val_accuracy: 0.9718\n",
      "Epoch 25/150\n",
      "146992/146992 [==============================] - 122s 830us/step - loss: 0.0972 - accuracy: 0.9719 - val_loss: 0.1011 - val_accuracy: 0.9709\n",
      "Epoch 26/150\n",
      "146992/146992 [==============================] - 121s 825us/step - loss: 0.0971 - accuracy: 0.9712 - val_loss: 0.1011 - val_accuracy: 0.9705\n",
      "Epoch 27/150\n",
      "146992/146992 [==============================] - 123s 834us/step - loss: 0.0973 - accuracy: 0.9715 - val_loss: 0.0981 - val_accuracy: 0.9721\n",
      "Epoch 28/150\n",
      "146992/146992 [==============================] - 122s 830us/step - loss: 0.0950 - accuracy: 0.9722 - val_loss: 0.0953 - val_accuracy: 0.9727\n",
      "Epoch 29/150\n",
      "146992/146992 [==============================] - 122s 831us/step - loss: 0.0942 - accuracy: 0.9717 - val_loss: 0.0954 - val_accuracy: 0.9723\n",
      "Epoch 30/150\n",
      "146992/146992 [==============================] - 123s 837us/step - loss: 0.0913 - accuracy: 0.9726 - val_loss: 0.0942 - val_accuracy: 0.9724\n",
      "Epoch 31/150\n",
      "146992/146992 [==============================] - 121s 825us/step - loss: 0.0916 - accuracy: 0.9727 - val_loss: 0.0944 - val_accuracy: 0.9720\n",
      "Epoch 32/150\n",
      "146992/146992 [==============================] - 123s 834us/step - loss: 0.0890 - accuracy: 0.9735 - val_loss: 0.0924 - val_accuracy: 0.9723\n",
      "Epoch 33/150\n",
      "146992/146992 [==============================] - 124s 842us/step - loss: 0.0867 - accuracy: 0.9741 - val_loss: 0.0876 - val_accuracy: 0.9738\n",
      "Epoch 34/150\n",
      "146992/146992 [==============================] - 124s 841us/step - loss: 0.0863 - accuracy: 0.9741 - val_loss: 0.0890 - val_accuracy: 0.9737\n",
      "Epoch 35/150\n",
      "146992/146992 [==============================] - 123s 837us/step - loss: 0.0865 - accuracy: 0.9735 - val_loss: 0.0860 - val_accuracy: 0.9743\n",
      "Epoch 36/150\n",
      "146992/146992 [==============================] - 124s 842us/step - loss: 0.0841 - accuracy: 0.9743 - val_loss: 0.0890 - val_accuracy: 0.9745\n",
      "Epoch 37/150\n",
      "146992/146992 [==============================] - 124s 843us/step - loss: 0.0831 - accuracy: 0.9741 - val_loss: 0.0873 - val_accuracy: 0.9734\n",
      "Epoch 38/150\n",
      "146992/146992 [==============================] - 123s 836us/step - loss: 0.0828 - accuracy: 0.9749 - val_loss: 0.0869 - val_accuracy: 0.9743\n",
      "Epoch 39/150\n",
      "146992/146992 [==============================] - 122s 827us/step - loss: 0.0826 - accuracy: 0.9749 - val_loss: 0.0861 - val_accuracy: 0.9749\n",
      "Epoch 40/150\n",
      "146992/146992 [==============================] - 124s 843us/step - loss: 0.0827 - accuracy: 0.9749 - val_loss: 0.0852 - val_accuracy: 0.9750\n",
      "Epoch 41/150\n",
      "146992/146992 [==============================] - 123s 834us/step - loss: 0.0798 - accuracy: 0.9758 - val_loss: 0.0816 - val_accuracy: 0.9763\n",
      "Epoch 42/150\n",
      "146992/146992 [==============================] - 124s 842us/step - loss: 0.0800 - accuracy: 0.9751 - val_loss: 0.0830 - val_accuracy: 0.9751\n",
      "Epoch 43/150\n",
      "146992/146992 [==============================] - 123s 840us/step - loss: 0.0776 - accuracy: 0.9758 - val_loss: 0.0834 - val_accuracy: 0.9741\n",
      "Epoch 44/150\n",
      "146992/146992 [==============================] - 123s 837us/step - loss: 0.0779 - accuracy: 0.9761 - val_loss: 0.0852 - val_accuracy: 0.9755\n",
      "Epoch 45/150\n",
      "146992/146992 [==============================] - 124s 841us/step - loss: 0.0777 - accuracy: 0.9760 - val_loss: 0.0843 - val_accuracy: 0.9746\n",
      "Epoch 46/150\n",
      "146992/146992 [==============================] - 124s 842us/step - loss: 0.0792 - accuracy: 0.9756 - val_loss: 0.0825 - val_accuracy: 0.9748\n",
      "Epoch 47/150\n",
      "146992/146992 [==============================] - 124s 844us/step - loss: 0.0794 - accuracy: 0.9753 - val_loss: 0.0852 - val_accuracy: 0.9741\n",
      "Epoch 48/150\n",
      "146992/146992 [==============================] - 124s 841us/step - loss: 0.0772 - accuracy: 0.9762 - val_loss: 0.0833 - val_accuracy: 0.9748\n",
      "45935/45935 [==============================] - 17s 369us/step\n"
     ]
    }
   ],
   "source": [
    "# Parameters\n",
    "\n",
    "verbose, epochs, batch_size = 1, 150, 64\n",
    "\n",
    "\n",
    "\n",
    "model = Sequential()\n",
    "model.add(LSTM(100, input_shape=(n_timesteps,n_features)))\n",
    "model.add(Dropout(0.5))\n",
    "model.add(Dense(100, activation='relu'))\n",
    "#     model.add(Dense(n_outputs, activation='softmax'))\n",
    "model.add(Dense(n_outputs, activation='sigmoid'))\n",
    "model.compile(loss='binary_crossentropy', optimizer='adam', metrics=['accuracy'])\n",
    "\n",
    "cp = ModelCheckpoint(filepath=\"/home/francovm/Projects/SSE/models/Binary_clasifier/Binary_clasifier_LSTM_SSE_40window_final.h5\",\n",
    "                               save_best_only=True,\n",
    "                               verbose=0)\n",
    "\n",
    "tb = TensorBoard(log_dir='/home/francovm/Projects/SSE/models/Binary_clasifier/Tensorboard/Binary_clasifier_LSTM_SSE_40window_final',\n",
    "                histogram_freq=0,\n",
    "                write_graph=True,\n",
    "                write_images=True)\n",
    "\n",
    "csv_logger = CSVLogger('/home/francovm/Projects/SSE/data/Visualization/Data/Binary_clasifier_LSTM_SSE_40window_final.csv', append=True, separator=';')\n",
    "\n",
    "#set early stopping monitor so the model stops training when it won't improve anymore\n",
    "early_stopping_monitor = EarlyStopping(patience=7)\n",
    "\n",
    "# fit network\n",
    "history = model.fit(X_train, y_train, epochs=epochs, batch_size=batch_size,validation_data=(X_valid, y_valid), verbose=verbose,\n",
    "                    callbacks=[early_stopping_monitor,csv_logger,tb,cp])\n",
    "\n",
    "\n",
    "# evaluate model\n",
    "accuracy = model.evaluate(X_test, y_test, batch_size=batch_size, verbose=verbose)"
   ]
  },
  {
   "cell_type": "code",
   "execution_count": 26,
   "metadata": {},
   "outputs": [
    {
     "name": "stdout",
     "output_type": "stream",
     "text": [
      "dict_keys(['val_loss', 'val_accuracy', 'loss', 'accuracy'])\n"
     ]
    },
    {
     "data": {
      "image/png": "[encoded data removed]",
      "text/plain": [
       "<Figure size 1296x288 with 1 Axes>"
      ]
     },
     "metadata": {
      "needs_background": "light"
     },
     "output_type": "display_data"
    },
    {
     "data": {
      "image/png": "[encoded data removed]",
      "text/plain": [
       "<Figure size 1296x288 with 1 Axes>"
      ]
     },
     "metadata": {
      "needs_background": "light"
     },
     "output_type": "display_data"
    }
   ],
   "source": [
    "# list all data in history\n",
    "print(history.history.keys())\n",
    "\n",
    "# summarize history for accuracy\n",
    "plt.plot(history.history['accuracy'])\n",
    "plt.plot(history.history['val_accuracy'])\n",
    "plt.title('model accuracy')\n",
    "plt.ylabel('accuracy')\n",
    "plt.xlabel('epoch')\n",
    "plt.legend(['train', 'val'], loc='upper left')\n",
    "\n",
    "# Get current size\n",
    "fig_size = plt.rcParams[\"figure.figsize\"]\n",
    "#  Set figure width to 18 and height to 4\n",
    "fig_size[0] = 18\n",
    "fig_size[1] = 4\n",
    "plt.rcParams[\"figure.figsize\"] = fig_size\n",
    "\n",
    "# plt.savefig('/home/francovm/Projects/SSE/data/Visualization/LSTM-40days-acc-shifted.png')\n",
    "plt.show()\n",
    "\n",
    "# summarize history for loss\n",
    "plt.plot(history.history['loss'])\n",
    "plt.plot(history.history['val_loss'])\n",
    "plt.title('model loss')\n",
    "plt.ylabel('loss')\n",
    "plt.xlabel('epoch')\n",
    "plt.legend(['train', 'val'], loc='upper left')\n",
    " # Get current size\n",
    "fig_size = plt.rcParams[\"figure.figsize\"]\n",
    "\n",
    "# Set figure width to 18 and height to 4\n",
    "fig_size[0] = 18\n",
    "fig_size[1] = 4\n",
    "plt.rcParams[\"figure.figsize\"] = fig_size\n",
    "\n",
    "# plt.savefig('/home/francovm/Projects/SSE/data/Visualization/LSTM-40days-loss-shifted_.png')\n",
    "plt.show()"
   ]
  },
  {
   "cell_type": "markdown",
   "metadata": {},
   "source": [
    "# Performance"
   ]
  },
  {
   "cell_type": "code",
   "execution_count": 27,
   "metadata": {},
   "outputs": [],
   "source": [
    "# save model and architecture to single file\n",
    "# model.save(\"/home/francovm/Projects/SSE/models/Binary_clasifier/Binary_clasifier_LSTM_SSE_40days-shifted.h5\")\n"
   ]
  },
  {
   "cell_type": "code",
   "execution_count": 28,
   "metadata": {},
   "outputs": [],
   "source": [
    "# load model\n",
    "# model = load_model('/home/francovm/Projects/SSE/models/Vanilla/Binary_clasifier_LSTM_SSE_40days.h5')\n",
    "# summarize model.\n",
    "# model.summary()\n"
   ]
  },
  {
   "cell_type": "code",
   "execution_count": 29,
   "metadata": {},
   "outputs": [],
   "source": [
    "# predict probabilities for test set\n",
    "yhat_probs = model.predict(X_test, verbose=0)\n",
    "# predict crisp classes for test set\n",
    "yhat_classes = model.predict_classes(X_test, verbose=0)"
   ]
  },
  {
   "cell_type": "code",
   "execution_count": 30,
   "metadata": {},
   "outputs": [
    {
     "data": {
      "image/png": "[encoded data removed]",
      "text/plain": [
       "<Figure size 1296x288 with 1 Axes>"
      ]
     },
     "metadata": {
      "needs_background": "light"
     },
     "output_type": "display_data"
    }
   ],
   "source": [
    "# calculate roc curve\n",
    "fpr, tpr, thresholds = roc_curve(y_test, yhat_probs)\n",
    "\n",
    "plt.plot(fpr,tpr)\n",
    "plt.show()"
   ]
  },
  {
   "cell_type": "code",
   "execution_count": 31,
   "metadata": {},
   "outputs": [
    {
     "name": "stdout",
     "output_type": "stream",
     "text": [
      "AUC: 0.954\n"
     ]
    }
   ],
   "source": [
    "# calculate AUC\n",
    "auc = roc_auc_score(y_test, yhat_probs)\n",
    "print('AUC: %.3f' % auc)"
   ]
  },
  {
   "cell_type": "code",
   "execution_count": 32,
   "metadata": {},
   "outputs": [
    {
     "data": {
      "image/png": "[encoded data removed]",
      "text/plain": [
       "<Figure size 1296x288 with 1 Axes>"
      ]
     },
     "metadata": {
      "needs_background": "light"
     },
     "output_type": "display_data"
    }
   ],
   "source": [
    "import sklearn.metrics as metrics\n",
    "# calculate the fpr and tpr for all thresholds of the classification\n",
    "# probs = model.predict_proba(X_test)\n",
    "# preds = probs[:,1.]\n",
    "fpr, tpr, threshold = metrics.roc_curve(y_test, yhat_probs)\n",
    "roc_auc = metrics.auc(fpr, tpr)\n",
    "\n",
    "# method I: plt\n",
    "import matplotlib.pyplot as plt\n",
    "plt.title('Receiver Operating Characteristic')\n",
    "plt.plot(fpr, tpr, 'b', label = 'AUC = %0.2f' % roc_auc)\n",
    "plt.legend(loc = 'lower right')\n",
    "plt.plot([0, 1], [0, 1],'r--')\n",
    "plt.xlim([0, 1])\n",
    "plt.ylim([0, 1])\n",
    "plt.ylabel('True Positive Rate')\n",
    "plt.xlabel('False Positive Rate')\n",
    "plt.show()"
   ]
  },
  {
   "cell_type": "code",
   "execution_count": 33,
   "metadata": {},
   "outputs": [
    {
     "data": {
      "text/plain": [
       "<Figure size 720x720 with 0 Axes>"
      ]
     },
     "metadata": {},
     "output_type": "display_data"
    },
    {
     "data": {
      "image/png": "[encoded data removed]",
      "text/plain": [
       "<Figure size 720x720 with 2 Axes>"
      ]
     },
     "metadata": {
      "needs_background": "light"
     },
     "output_type": "display_data"
    }
   ],
   "source": [
    "conf_matrix = confusion_matrix(y_test, yhat_classes)\n",
    "# conf_matrix = confusion_matrix( y_pred_40,y_pari.astype(int))\n",
    "\n",
    "\n",
    "plt.figure(figsize=(10, 10))\n",
    "# Normalise\n",
    "cmn = conf_matrix.astype('float') / conf_matrix.sum(axis=1)[:, np.newaxis]\n",
    "fig, ax = plt.subplots(figsize=(10,10))\n",
    "\n",
    "ax = sns.heatmap(conf_matrix, xticklabels=LABELS, yticklabels=LABELS, annot=True, fmt=\"d\");\n",
    "\n",
    "# ax = sns.heatmap(cmn, xticklabels=LABELS, yticklabels=LABELS, annot=True);\n",
    "plt.title(\"Confusion matrix\")\n",
    "plt.ylabel('True class')\n",
    "plt.xlabel('Predicted class')\n",
    "ax.set_ylim(2, 0)\n",
    "plt.show()"
   ]
  },
  {
   "cell_type": "code",
   "execution_count": null,
   "metadata": {},
   "outputs": [],
   "source": []
  }
 ],
 "metadata": {
  "kernelspec": {
   "display_name": "Python 3",
   "language": "python",
   "name": "python3"
  },
  "language_info": {
   "codemirror_mode": {
    "name": "ipython",
    "version": 3
   },
   "file_extension": ".py",
   "mimetype": "text/x-python",
   "name": "python",
   "nbconvert_exporter": "python",
   "pygments_lexer": "ipython3",
   "version": "3.7.3"
  }
 },
 "nbformat": 4,
 "nbformat_minor": 4
}
