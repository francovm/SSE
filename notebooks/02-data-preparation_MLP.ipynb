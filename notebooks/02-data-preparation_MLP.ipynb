{
 "cells": [
  {
   "cell_type": "code",
   "execution_count": null,
   "metadata": {},
   "outputs": [],
   "source": [
    "import requests\n",
    "import pandas as pd\n",
    "import datetime\n",
    "import matplotlib.pyplot as plt\n",
    "import numpy as np\n",
    "from sklearn import linear_model\n",
    "import matplotlib.transforms as mtransforms\n",
    "plt.rcParams.update({'figure.max_open_warning': 0})"
   ]
  },
  {
   "cell_type": "code",
   "execution_count": null,
   "metadata": {},
   "outputs": [],
   "source": [
    "# stations_list = open(\"exluded_sites.txt\").read().splitlines()\n",
    "stations_list = open('/home/francovm/Projects/SSE/data/external/hikurangi_gnss.txt').read().splitlines()"
   ]
  },
  {
   "cell_type": "code",
   "execution_count": null,
   "metadata": {},
   "outputs": [],
   "source": [
    "# for i in stations_list:\n",
    "#     globals()['stations_{0}'.format(i)] = 1\n"
   ]
  },
  {
   "cell_type": "code",
   "execution_count": null,
   "metadata": {},
   "outputs": [],
   "source": [
    "def GNSS_dataframe(data):\n",
    "    \"\"\"\n",
    "    This function turns the string of GNSS data received by requests.get\n",
    "    into a data frame with GNSS data correctly formatted.\n",
    "    \"\"\"\n",
    "    data = data.split(\"\\n\") # splits data on the new line symbol\n",
    "    for i in range(0, len(data)):\n",
    "        data[i]= data[i].split(\",\")# splits data ponits on the , symbol\n",
    "    for i in range(1, (len(data)-1)):\n",
    "        data[i][0] = datetime.datetime.strptime(data[i][0], '%Y-%m-%dT%H:%M:%S.%fZ') #make 1st value into a datetime object\n",
    "        data[i][1] = float(data[i][1]) #makes 2nd value into a decimal number\n",
    "        data[i][2] = float(data[i][2]) #makes 3rd value into a decimal number\n",
    "    df = pd.DataFrame(data[1:-1],index = range(1, (len(data)-1)), columns=data[0]) #make the list into a data frame\n",
    "    return df"
   ]
  },
  {
   "cell_type": "markdown",
   "metadata": {},
   "source": [
    "## Getting the data"
   ]
  },
  {
   "cell_type": "code",
   "execution_count": null,
   "metadata": {},
   "outputs": [],
   "source": [
    "# namespace = globals()\n",
    "for i in stations_list:\n",
    "    base_url = \"http://fits.geonet.org.nz/\"\n",
    "    endpoint = \"observation\"\n",
    "\n",
    "    url = base_url + endpoint\n",
    "    \n",
    "    parameters ={\"typeID\": \"e\", \"siteID\": i}\n",
    "    response_e = requests.get(url, params=parameters)\n",
    "    parameters[\"typeID\"] = \"n\"\n",
    "    response_n = requests.get(url, params=parameters)\n",
    "    parameters[\"typeID\"] = \"u\"\n",
    "    response_u = requests.get(url, params=parameters)\n",
    "    \n",
    "    globals()['stationsE_{0}'.format(i)]  = GNSS_dataframe(response_e.content.decode(\"utf-8\"))\n",
    "    globals()['stationsE_{0}'.format(i)] = globals()['stationsE_{0}'.format(i)].set_index('date-time')\n",
    "    globals()['stationsE_{0}'.format(i)].columns = ['x', 'error']\n",
    "    df.head()\n",
    "    globals()['stationsN_{0}'.format(i)]  = GNSS_dataframe(response_n.content.decode(\"utf-8\"))\n",
    "    globals()['stationsN_{0}'.format(i)] = globals()['stationsN_{0}'.format(i)].set_index('date-time')\n",
    "    globals()['stationsN_{0}'.format(i)].columns = ['x', 'error']\n",
    "    \n",
    "    globals()['stationsU_{0}'.format(i)]  = GNSS_dataframe(response_u.content.decode(\"utf-8\"))\n",
    "    globals()['stationsU_{0}'.format(i)] = globals()['stationsU_{0}'.format(i)].set_index('date-time')\n",
    "    globals()['stationsU_{0}'.format(i)].columns = ['x', 'error']\n",
    "    \n",
    "#     namespace['sta_%s' % i] = GNSS_dataframe(response_e.content.decode(\"utf-8\"))\n",
    "\n",
    "#     globals()['stations_{0}'.format(i)] = globals()['stations_{0}'.format(i)].set_index('date-time')\n",
    "\n",
    "#     globals()['stations_{0}'.format(i)].columns = ['e', 'error']\n",
    "    \n"
   ]
  },
  {
   "cell_type": "markdown",
   "metadata": {},
   "source": [
    "## Plotting for Visual check"
   ]
  },
  {
   "cell_type": "code",
   "execution_count": null,
   "metadata": {},
   "outputs": [],
   "source": [
    "# for i in stations_list:\n",
    "\n",
    "#     globals()['stationsU_{0}'.format(i)].plot(y=\"x\",figsize=(20,10),subplots=True,color='tab:orange',label=i)\n",
    "\n",
    "# # stationsN_HAST"
   ]
  },
  {
   "cell_type": "markdown",
   "metadata": {},
   "source": [
    "# Regression of E and N components"
   ]
  },
  {
   "cell_type": "code",
   "execution_count": null,
   "metadata": {},
   "outputs": [],
   "source": [
    "\n",
    "def Regression_GPS(data,window):\n",
    "    \"\"\"\n",
    "    This function calculate linear regression over the East and North component\n",
    "    and smooth the slope coefficient in the same window\n",
    "    \"\"\"\n",
    "    \n",
    "    reg = linear_model.LinearRegression()\n",
    "    pendiente = []\n",
    "    ordenada =  []\n",
    "    data['counter'] = range(len(data))\n",
    "\n",
    "    for i in range(window,len(data)):\n",
    "\n",
    "        temp = data.iloc[i-window:i,:]\n",
    "\n",
    "        counter_temp = np.array(temp['counter'].values.reshape(-1,1))\n",
    "        y_e_temp = np.array(temp['x'].values.reshape(-1))\n",
    "\n",
    "        reg.fit(counter_temp,y_e_temp)\n",
    "\n",
    "        m_temp = reg.coef_\n",
    "        b_temp = reg.intercept_\n",
    "\n",
    "        pendiente.append(m_temp)\n",
    "        ordenada.append(b_temp)\n",
    "\n",
    "    df_predict = pd.DataFrame(pendiente,ordenada)\n",
    "    df_predict = df_predict.reset_index()\n",
    "\n",
    "    df_predict.columns = ['intercept','slope']\n",
    "    df_predict['slope'] = df_predict['slope']\n",
    "    df_predict['rolling'] = df_predict['slope'].rolling(window=window).mean()\n",
    "    return(df_predict)"
   ]
  },
  {
   "cell_type": "code",
   "execution_count": null,
   "metadata": {},
   "outputs": [],
   "source": [
    "for i in stations_list:\n",
    "    globals()['slope_{0}'.format(i)] = Regression_GPS(globals()['stationsE_{0}'.format(i)],35)\n",
    "    \n",
    "    "
   ]
  },
  {
   "cell_type": "markdown",
   "metadata": {},
   "source": [
    "## Multiple PLot"
   ]
  },
  {
   "cell_type": "code",
   "execution_count": null,
   "metadata": {},
   "outputs": [],
   "source": [
    "slope_AKTO.head()"
   ]
  },
  {
   "cell_type": "code",
   "execution_count": null,
   "metadata": {},
   "outputs": [],
   "source": [
    "for i in stations_list:\n",
    "#     globals()['slope_{0}'.format(i)].plot(y=\"slope\",figsize=(20,10),subplots=True,color='tab:orange',layout=(3,1),label=i)\n",
    "\n",
    "    plt.figure()\n",
    "    plt.plot(globals()['slope_{0}'.format(i)].index,globals()['slope_{0}'.format(i)]['rolling'],'-', color='lightblue',label=i)\n",
    "    # plt.plot_date(visitors2['Date'],visitors2['Visitors'].rolling(5).mean(),'g-',label=\"Unique Visitors- mean\")\n",
    "\n",
    "    # plt.axvline(x='2018-07-31', color='r', linestyle='--',label=\"CWB turn off\")\n",
    "    plt.legend(loc=2)\n",
    "    plt.xticks( rotation= 80 )\n",
    "\n",
    "    # Grids\n",
    "    plt.gca().xaxis.grid(True, linestyle='--')\n",
    "    plt.gca().yaxis.grid(True, linestyle='--')\n",
    "\n",
    "    plt.ylabel('Counter')\n",
    "    plt.axhline(0.1)\n",
    "    \n",
    "    # Get current size\n",
    "    fig_size = plt.rcParams[\"figure.figsize\"]\n",
    "\n",
    "    # Set figure width to 18 and height to 4\n",
    "    fig_size[0] = 18\n",
    "    fig_size[1] = 4\n",
    "    plt.rcParams[\"figure.figsize\"] = fig_size\n",
    "\n",
    "    plt.tight_layout()\n",
    "    plt.plot()\n",
    "\n",
    "    "
   ]
  },
  {
   "cell_type": "code",
   "execution_count": null,
   "metadata": {},
   "outputs": [],
   "source": []
  },
  {
   "cell_type": "code",
   "execution_count": null,
   "metadata": {},
   "outputs": [],
   "source": []
  },
  {
   "cell_type": "markdown",
   "metadata": {},
   "source": [
    "## Create an extra column with events label"
   ]
  },
  {
   "cell_type": "code",
   "execution_count": null,
   "metadata": {},
   "outputs": [],
   "source": [
    "def Clasifier_events(df):\n",
    "    \"\"\"\n",
    "    This function assign a value of 1 if there is an event, or \n",
    "    0 is not\n",
    "    \"\"\"\n",
    "    df.loc[df['rolling'] >= 0.1, 'Event'] = 1.0\n",
    "    df.loc[df['rolling'] < 0.1, 'Event'] = 0.0\n",
    "    return df\n",
    "\n"
   ]
  },
  {
   "cell_type": "code",
   "execution_count": null,
   "metadata": {},
   "outputs": [],
   "source": [
    "for i in stations_list:\n",
    "    globals()['slope_{0}'.format(i)] = Clasifier_events(globals()['slope_{0}'.format(i)])"
   ]
  },
  {
   "cell_type": "markdown",
   "metadata": {},
   "source": [
    "## PLot Events"
   ]
  },
  {
   "cell_type": "code",
   "execution_count": null,
   "metadata": {},
   "outputs": [],
   "source": [
    "stationsE_AHTI.head()"
   ]
  },
  {
   "cell_type": "code",
   "execution_count": null,
   "metadata": {},
   "outputs": [],
   "source": [
    "slope_GISB1 = slope_GISB.iloc[34:]\n",
    "# slope_GISB1.reset_index()\n",
    "len(slope_GISB1['Event'])"
   ]
  },
  {
   "cell_type": "code",
   "execution_count": null,
   "metadata": {},
   "outputs": [],
   "source": []
  },
  {
   "cell_type": "code",
   "execution_count": null,
   "metadata": {},
   "outputs": [],
   "source": [
    "fig,ax2= plt.subplots()\n",
    "\n",
    "ax2.plot(slope_GISB1['rolling'],'-', color='gray',label=\"GISB\")\n",
    "ax2.plot(slope_GISB1['Event'],'-', color='gray',label=\"GISB\")\n",
    "\n",
    "# ax2.plot(dataset_test['Events'],'-', color='gray',label=\"GISB\")\n",
    "    # plt.plot_date(visitors2['Date'],visitors2['Visitors'].rolling(5).mean(),'g-',label=\"Unique Visitors- mean\")\n",
    "\n",
    "    # plt.axvline(x='2018-07-31', color='r', linestyle='--',label=\"CWB turn off\")\n",
    "plt.legend(loc=2)\n",
    "plt.xticks( rotation= 80 )\n",
    "\n",
    "    # Grids\n",
    "plt.gca().xaxis.grid(True, linestyle='--')\n",
    "plt.gca().yaxis.grid(True, linestyle='--')\n",
    "\n",
    "plt.xlabel('Counter')\n",
    "plt.ylabel('Displacement')\n",
    "# if (dataset_test['Events'] == 0.5): plt.axhline()\n",
    "    \n",
    "    # Get current size\n",
    "fig_size = plt.rcParams[\"figure.figsize\"]\n",
    "\n",
    "    # Set figure width to 18 and height to 4\n",
    "fig_size[0] = 18\n",
    "fig_size[1] = 4\n",
    "plt.rcParams[\"figure.figsize\"] = fig_size\n",
    "\n",
    "\n",
    "\n",
    "trans = mtransforms.blended_transform_factory(ax.transData, ax.transAxes)\n",
    "theta = 0.5\n",
    "ax2.fill_between(slope_GISB1.index, min(slope_GISB1['Event']), max(slope_GISB1['Event']), where=(slope_GISB1['Event'] >= 0.5), \n",
    "                facecolor='green',\n",
    "                alpha=0.5) \n",
    "\n",
    "# plt.show()\n",
    "\n",
    "plt.tight_layout()\n",
    "plt.plot()"
   ]
  },
  {
   "cell_type": "code",
   "execution_count": null,
   "metadata": {},
   "outputs": [],
   "source": [
    "for i in stations_list:\n",
    "#     globals()['slope_{0}'.format(i)].plot(y=\"slope\",figsize=(20,10),subplots=True,color='tab:orange',layout=(3,1),label=i)\n",
    "    fig, ax = plt.subplots()\n",
    "#     plt.figure()\n",
    "#     plt.plot(globals()['slope_{0}'.format(i)].index,globals()['slope_{0}'.format(i)]['rolling'],'-', color='lightblue',label=i)\n",
    "    ax.plot(globals()['slope_{0}'.format(i)].index,globals()['slope_{0}'.format(i)]['Event'],'o', color='green',label=i)\n",
    "    ax.plot(globals()['stationsE_{0}'.format(i)]['counter'],globals()['stationsE_{0}'.format(i)]['x'],'-', color='red',label=i)\n",
    "#     globals()['stationsE_{0}'.format(i)].plot(y=\"x\",figsize=(20,10),subplots=True,color='tab:orange',label=i)\n",
    "    # plt.plot_date(visitors2['Date'],visitors2['Visitors'].rolling(5).mean(),'g-',label=\"Unique Visitors- mean\")\n",
    "    trans = mtransforms.blended_transform_factory(ax.transData, ax.transAxes)\n",
    "    theta = 0.5\n",
    "    ax.fill_between(range(len(globals()['slope_{0}'.format(i)]['Event'])), min(globals()['slope_{0}'.format(i)]['Event']),\n",
    "                    max(globals()['slope_{0}'.format(i)]['Event']),\n",
    "                    where=(globals()['slope_{0}'.format(i)]['Event'] > 0.5), \n",
    "                    facecolor='green',\n",
    "                    alpha=0.5, transform=trans) \n",
    "    # plt.axvline(x='2018-07-31', color='r', linestyle='--',label=\"CWB turn off\")\n",
    "    plt.legend(loc=2)\n",
    "    plt.xticks( rotation= 80 )\n",
    "\n",
    "    # Grids\n",
    "    plt.gca().xaxis.grid(True, linestyle='--')\n",
    "    plt.gca().yaxis.grid(True, linestyle='--')\n",
    "\n",
    "    plt.ylabel('Counter')\n",
    "#     plt.axhline(0.1)\n",
    "    \n",
    "    # Get current size\n",
    "    fig_size = plt.rcParams[\"figure.figsize\"]\n",
    "\n",
    "    # Set figure width to 18 and height to 4\n",
    "    fig_size[0] = 18\n",
    "    fig_size[1] = 4\n",
    "    plt.rcParams[\"figure.figsize\"] = fig_size\n",
    "\n",
    "    \n",
    "    plt.tight_layout()\n",
    "    plt.plot()"
   ]
  },
  {
   "cell_type": "code",
   "execution_count": null,
   "metadata": {},
   "outputs": [],
   "source": [
    "# def Join_DF(slope,df):\n",
    "#     \"\"\"\n",
    "#     This function clean the main DataFrame from the first 70 points\n",
    "#     and then add the column Event.\n",
    "#     \"\"\"\n",
    "#     df = df.iloc[69:]\n",
    "\n",
    "#     slope = slope.iloc[34:]\n",
    "\n",
    "#     df = df.reset_index()\n",
    "#     slope= slope.reset_index()\n",
    "\n",
    "#     df['Events'] = pd.Series(slope['Event'])\n",
    "    \n",
    "#     return(df)"
   ]
  },
  {
   "cell_type": "code",
   "execution_count": null,
   "metadata": {},
   "outputs": [],
   "source": []
  },
  {
   "cell_type": "code",
   "execution_count": null,
   "metadata": {},
   "outputs": [],
   "source": [
    "def Join_DF_test(slope,dfE,dfN,dfU):\n",
    "    \"\"\"\n",
    "    This function clean the main DataFrame from the first 70 points\n",
    "    and then add the column Event.\n",
    "    \"\"\"\n",
    "    dfE_2 = dfE.copy()\n",
    "    dfN_2 = dfN.copy()\n",
    "    dfU_2 = dfU.copy()\n",
    "    \n",
    "    slope_2 = slope.copy()\n",
    "    \n",
    "    dfE_2 = dfE_2.iloc[69:-35]\n",
    "    dfN_2 = dfN_2.iloc[69:-35]\n",
    "    dfU_2 = dfU_2.iloc[69:-35]\n",
    "    slope_2 = slope_2.iloc[69:]\n",
    "\n",
    "    dfE_2 = dfE_2.reset_index()\n",
    "    dfN_2 = dfN_2.reset_index()\n",
    "    dfU_2 = dfU_2.reset_index()   \n",
    "    slope_2 = slope_2.reset_index()\n",
    "\n",
    "    dfE_2['n'] = pd.Series(dfN_2['x'])\n",
    "    dfE_2['n_error'] = pd.Series(dfN_2['error'])\n",
    "    dfE_2['u'] = pd.Series(dfU_2['x'])\n",
    "    dfE_2['u_error'] = pd.Series(dfU_2['error'])\n",
    "    dfE_2['Events'] = pd.Series(slope_2['Event'])\n",
    "    \n",
    "    final = dfE_2\n",
    "    return(final)"
   ]
  },
  {
   "cell_type": "code",
   "execution_count": null,
   "metadata": {},
   "outputs": [],
   "source": [
    "for i in stations_list:\n",
    "    globals()['final_{0}'.format(i)] = Join_DF_test(globals()['slope_{0}'.format(i)],globals()['stationsE_{0}'.format(i)]\n",
    "                                              ,globals()['stationsN_{0}'.format(i)]\n",
    "                                              ,globals()['stationsU_{0}'.format(i)])\n"
   ]
  },
  {
   "cell_type": "code",
   "execution_count": null,
   "metadata": {},
   "outputs": [],
   "source": [
    "# final_GISB.plot(y=['x'])\n",
    "# final_GISB.plot(y=['Events'])"
   ]
  },
  {
   "cell_type": "code",
   "execution_count": null,
   "metadata": {},
   "outputs": [],
   "source": [
    "final_AHTI.tail()"
   ]
  },
  {
   "cell_type": "markdown",
   "metadata": {},
   "source": [
    "## Plot Events"
   ]
  },
  {
   "cell_type": "code",
   "execution_count": null,
   "metadata": {},
   "outputs": [],
   "source": [
    "# fig,ax2= plt.subplots()\n",
    "\n",
    "# ax2.plot(slope_GISB1['rolling'],'-', color='gray',label=\"GISB\")\n",
    "# ax2.plot(slope_GISB1['Event'],'-', color='gray',label=\"GISB\")\n",
    "\n",
    "# # ax2.plot(dataset_test['Events'],'-', color='gray',label=\"GISB\")\n",
    "#     # plt.plot_date(visitors2['Date'],visitors2['Visitors'].rolling(5).mean(),'g-',label=\"Unique Visitors- mean\")\n",
    "\n",
    "#     # plt.axvline(x='2018-07-31', color='r', linestyle='--',label=\"CWB turn off\")\n",
    "# plt.legend(loc=2)\n",
    "# plt.xticks( rotation= 80 )\n",
    "\n",
    "#     # Grids\n",
    "# plt.gca().xaxis.grid(True, linestyle='--')\n",
    "# plt.gca().yaxis.grid(True, linestyle='--')\n",
    "\n",
    "# plt.xlabel('Counter')\n",
    "# plt.ylabel('Displacement')\n",
    "# # if (dataset_test['Events'] == 0.5): plt.axhline()\n",
    "    \n",
    "#     # Get current size\n",
    "# fig_size = plt.rcParams[\"figure.figsize\"]\n",
    "\n",
    "#     # Set figure width to 18 and height to 4\n",
    "# fig_size[0] = 18\n",
    "# fig_size[1] = 4\n",
    "# plt.rcParams[\"figure.figsize\"] = fig_size\n",
    "\n",
    "\n",
    "\n",
    "# trans = mtransforms.blended_transform_factory(ax.transData, ax.transAxes)\n",
    "# theta = 0.5\n",
    "# ax2.fill_between(slope_GISB1.index, min(slope_GISB1['Event']), max(slope_GISB1['Event']), where=(slope_GISB1['Event'] >= 0.5), \n",
    "#                 facecolor='green',\n",
    "#                 alpha=0.5) \n",
    "\n",
    "# # plt.show()\n",
    "\n",
    "# plt.tight_layout()\n",
    "# plt.plot()\n",
    "\n",
    "\n",
    "for i in stations_list:\n",
    "\n",
    "#     fig, (ax,ax1) = plt.subplots(2,1,sharex=True)\n",
    "    fig, ax = plt.subplots(sharex=True)\n",
    "    ax.plot(globals()['final_{0}'.format(i)].index,globals()['final_{0}'.format(i)]['x'],'-', color='gray',label=i)\n",
    "#     ax1.plot(globals()['slope_{0}'.format(i)].index,globals()['slope_{0}'.format(i)]['rolling'],'-', color='red',label=i)\n",
    "\n",
    "\n",
    "    trans = mtransforms.blended_transform_factory(ax.transData, ax.transAxes)\n",
    "    theta = 0.5\n",
    "    ax.fill_between(range(len(globals()['final_{0}'.format(i)]['Events'])), min(globals()['final_{0}'.format(i)]['Events']),\n",
    "                    max(globals()['final_{0}'.format(i)]['Events']),\n",
    "                    where=(globals()['final_{0}'.format(i)]['Events'] > 0.5), \n",
    "                    facecolor='darkgreen',\n",
    "                    alpha=0.4, transform=trans) \n",
    "    # plt.axvline(x='2018-07-31', color='r', linestyle='--',label=\"CWB turn off\")\n",
    "    plt.legend(loc=2)\n",
    "    plt.xticks( rotation= 80 )\n",
    "\n",
    "    # Grids\n",
    "    plt.gca().xaxis.grid(True, linestyle='--')\n",
    "    plt.gca().yaxis.grid(True, linestyle='--')\n",
    "\n",
    "    plt.ylabel('Displacement rate')\n",
    "    ax1.axhline(0.1)\n",
    "    \n",
    "    # Get current size\n",
    "    fig_size = plt.rcParams[\"figure.figsize\"]\n",
    "\n",
    "    # Set figure width to 18 and height to 4\n",
    "    fig_size[0] = 18\n",
    "    fig_size[1] = 4\n",
    "    plt.rcParams[\"figure.figsize\"] = fig_size\n",
    "\n",
    "    \n",
    "#     plt.tight_layout()\n",
    "    plt.plot()"
   ]
  },
  {
   "cell_type": "code",
   "execution_count": null,
   "metadata": {},
   "outputs": [],
   "source": [
    "\n",
    "\n",
    "def Input_Generator(df,input_data):\n",
    "    \"\"\"\n",
    "    This function generate an input from all the station for a multi-layer perceptron NN\n",
    "    \"\"\"\n",
    "    \n",
    "    \n",
    "\n",
    "\n",
    "#     input_data = pd.concat([input_data,df[[ 'x', 'error', 'counter', 'n', 'n_error', 'u', 'u_error','Events']]]) \n",
    "    input_data = pd.concat([input_data,df[[ 'x', 'error', 'n', 'n_error', 'u', 'u_error','Events']]]) \n",
    "\n",
    "    return(input_data)\n"
   ]
  },
  {
   "cell_type": "code",
   "execution_count": null,
   "metadata": {},
   "outputs": [],
   "source": [
    "columns = [ 'x', 'error', 'n', 'n_error', 'u', 'u_error','Events']\n",
    "input_data = pd.DataFrame( columns=columns)\n",
    "\n",
    "for i in stations_list:\n",
    "    input_data = Input_Generator(globals()['final_{0}'.format(i)],input_data)\n",
    "input_data = input_data.reset_index(drop=True)\n",
    "input_data.to_csv('input_data.csv', sep='\\t', encoding='utf-8',index=False)"
   ]
  },
  {
   "cell_type": "code",
   "execution_count": null,
   "metadata": {},
   "outputs": [],
   "source": [
    "input_data.head()"
   ]
  },
  {
   "cell_type": "code",
   "execution_count": null,
   "metadata": {},
   "outputs": [],
   "source": [
    "dataset = pd.read_csv('input_data.csv', sep='\\t', encoding='utf-8')\n",
    "\n",
    "dataset.head()\n",
    "# # split into input (X) and output (Y) variables\n",
    "\n",
    "# train_X = dataset.drop(columns=['Events'])\n",
    "\n",
    "# #one-hot encode target column\n",
    "# train_Y = to_categorical(dataset.Events)\n",
    "\n",
    "\n",
    "# #get number of columns in training data\n",
    "# n_cols = train_X.shape[1]\n"
   ]
  },
  {
   "cell_type": "code",
   "execution_count": null,
   "metadata": {},
   "outputs": [],
   "source": []
  },
  {
   "cell_type": "markdown",
   "metadata": {},
   "source": [
    "# Data cleaning: Missing values in time"
   ]
  },
  {
   "cell_type": "code",
   "execution_count": null,
   "metadata": {},
   "outputs": [],
   "source": [
    "columns = [ 'x', 'error', 'counter', 'n', 'n_error', 'u', 'u_error','Events']\n",
    "input_data = pd.DataFrame( columns=columns)\n",
    "\n",
    "\n",
    "input_data = pd.concat([input_data,final_AHTI[[ 'x', 'error', 'counter', 'n', 'n_error', 'u', 'u_error','Events']]]) \n",
    "input_data = pd.concat([input_data,final_AKTO[[ 'x', 'error', 'counter', 'n', 'n_error', 'u', 'u_error','Events']]]) "
   ]
  },
  {
   "cell_type": "code",
   "execution_count": null,
   "metadata": {},
   "outputs": [],
   "source": [
    "input_data.count()"
   ]
  },
  {
   "cell_type": "code",
   "execution_count": null,
   "metadata": {},
   "outputs": [],
   "source": [
    "# data = stations_MAKO.resample('D').mean().interpolate(method='piecewise_polynomial')\n",
    "# data = stations_MAKO.asfreq('D')\n",
    "# res = s.resample('s').interpolate().resample('15T').asfreq().dropna()\n"
   ]
  },
  {
   "cell_type": "markdown",
   "metadata": {},
   "source": [
    "## Quick check to see how manny stations have gaps"
   ]
  },
  {
   "cell_type": "code",
   "execution_count": null,
   "metadata": {},
   "outputs": [],
   "source": [
    "# gappy_stations = []\n",
    "# for i in stations_list:\n",
    "#     globals()['stations_{0}'.format(i)]  = (globals()['stations_{0}'.format(i)]).asfreq('D')\n",
    "    \n",
    "#     if globals()['stations_{0}'.format(i)].isnull().any().any() == True:\n",
    "#             gappy_stations.append(i) \n",
    "#             globals()['stations_{0}'.format(i)]= globals()['stations_{0}'.format(i)].fillna(-20)\n",
    "# print(gappy_stations)"
   ]
  },
  {
   "cell_type": "code",
   "execution_count": null,
   "metadata": {},
   "outputs": [],
   "source": [
    "# print(data.to_string(),stations_SNST)\n",
    "# print(data.to_string())\n"
   ]
  },
  {
   "cell_type": "code",
   "execution_count": null,
   "metadata": {},
   "outputs": [],
   "source": []
  },
  {
   "cell_type": "code",
   "execution_count": null,
   "metadata": {},
   "outputs": [],
   "source": []
  },
  {
   "cell_type": "code",
   "execution_count": null,
   "metadata": {},
   "outputs": [],
   "source": []
  }
 ],
 "metadata": {
  "kernelspec": {
   "display_name": "Python 3",
   "language": "python",
   "name": "python3"
  },
  "language_info": {
   "codemirror_mode": {
    "name": "ipython",
    "version": 3
   },
   "file_extension": ".py",
   "mimetype": "text/x-python",
   "name": "python",
   "nbconvert_exporter": "python",
   "pygments_lexer": "ipython3",
   "version": "3.6.7"
  }
 },
 "nbformat": 4,
 "nbformat_minor": 4
}
